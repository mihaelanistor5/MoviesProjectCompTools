{
 "cells": [
  {
   "cell_type": "code",
   "execution_count": 43,
   "metadata": {},
   "outputs": [],
   "source": [
    "import os \n",
    "#import openai\n",
    "import pandas as pd\n",
    "import seaborn as sns\n",
    "import matplotlib.pyplot as plt\n",
    "import numpy as np\n",
    "import matplotlib\n",
    "from sklearn.preprocessing import MinMaxScaler\n",
    "import json \n",
    "import re "
   ]
  },
  {
   "cell_type": "code",
   "execution_count": 50,
   "metadata": {},
   "outputs": [],
   "source": [
    "from nltk.tokenize import sent_tokenize,word_tokenize, RegexpTokenizer \n",
    "from labMTsimple.storyLab import emotionFileReader, emotion, stopper, emotionV\n",
    "from nltk.stem import WordNetLemmatizer \n",
    "from nltk.corpus import stopwords\n",
    "from nltk.stem import PorterStemmer\n",
    "import re\n",
    "from vaderSentiment.vaderSentiment import SentimentIntensityAnalyzer\n",
    "import itertools\n",
    "import nltk\n",
    "from nltk import tokenize \n",
    "labMT,labMTvector,labMTwordList = emotionFileReader(stopval=0.0,lang='english',returnVector=True)\n",
    "import random "
   ]
  },
  {
   "cell_type": "code",
   "execution_count": 46,
   "metadata": {},
   "outputs": [],
   "source": [
    "df = pd.read_pickle(r'labmt_sentiment.pkl')"
   ]
  },
  {
   "cell_type": "code",
   "execution_count": 60,
   "metadata": {},
   "outputs": [],
   "source": [
    "analyzer = SentimentIntensityAnalyzer()"
   ]
  },
  {
   "cell_type": "markdown",
   "metadata": {},
   "source": [
    " Sentiment Analysis using VADER\n",
    "\n",
    "__Introduction__: _VADER (https://github.com/cjhutto/vaderSentiment) is a lexicon and rule-based sentiment analysis tool that is helpful for analysing sentiments expressed in social media. The Vader analyzer can be applied to individual sentences and it computes the ratio of positivity, neutrality and negativity as well as the compound score. The compound score is a useful metric which captures well the sentiment of a a given sentence. The compund score can take values in the range [-1,1]. Researchers have set certain threshold within the compound score range that can help identify when a text is positive, neutral or negative. A text with a compound score >= 0.05 transmits a positive sentiment, while a text with a score >-0.05 transmits a neutral sentiment and a text with a score <=-0.05 transmits a negative sentiment_.  \n",
    "To obtain a sentiment value per review, the compound scores across all sentences were averaged. "
   ]
  },
  {
   "cell_type": "code",
   "execution_count": 55,
   "metadata": {},
   "outputs": [],
   "source": [
    "#tokenize review text into single sentences and clean up text \n",
    "def tokenize_sentences(dict_):\n",
    "\n",
    "    return {ch:sent_tokenize(re.sub(\"[^a-zA-Z0-9, \\ , \\', \\., \\!, \\?, \\,]+\",\"\",text)) for ch,text in dict_.items()}"
   ]
  },
  {
   "cell_type": "code",
   "execution_count": 67,
   "metadata": {},
   "outputs": [],
   "source": [
    "#compute average VADER score per review \n",
    "def compute_VADER_score(dict_): \n",
    "\n",
    "    return {ch:sum([analyzer.polarity_scores(sent)['compound'] for sent in text])/len(text) for ch,text in dict_.items()}"
   ]
  },
  {
   "cell_type": "code",
   "execution_count": 70,
   "metadata": {},
   "outputs": [],
   "source": [
    "#apply tokenization to review column \n",
    "df['tokenized_sent'] = df.apply(lambda x: tokenize_sentences(x.review_final),axis=1)"
   ]
  },
  {
   "cell_type": "code",
   "execution_count": 71,
   "metadata": {},
   "outputs": [],
   "source": [
    "#finally compute VADER sentiment on tokenized reviews \n",
    "df['vader_score'] = df.apply(lambda x: compute_VADER_score(x.tokenized_sent),axis=1)"
   ]
  },
  {
   "cell_type": "code",
   "execution_count": 73,
   "metadata": {},
   "outputs": [],
   "source": [
    "df[['original_title','rating_final','user_sentiment','vader_score']].to_pickle('rating_and_sentiment_v2.pkl')"
   ]
  }
 ],
 "metadata": {
  "kernelspec": {
   "display_name": "Python 3.10.0 ('venv': venv)",
   "language": "python",
   "name": "python3"
  },
  "language_info": {
   "codemirror_mode": {
    "name": "ipython",
    "version": 3
   },
   "file_extension": ".py",
   "mimetype": "text/x-python",
   "name": "python",
   "nbconvert_exporter": "python",
   "pygments_lexer": "ipython3",
   "version": "3.10.0"
  },
  "orig_nbformat": 4,
  "vscode": {
   "interpreter": {
    "hash": "2a5f12a4d41add377cb6616dca9389fa9368a6ad393a55ea33793a3908b73d5e"
   }
  }
 },
 "nbformat": 4,
 "nbformat_minor": 2
}
