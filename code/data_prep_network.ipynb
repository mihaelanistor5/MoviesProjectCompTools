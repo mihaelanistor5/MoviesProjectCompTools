{
 "cells": [
  {
   "cell_type": "code",
   "execution_count": 10,
   "id": "de06b99d",
   "metadata": {},
   "outputs": [],
   "source": [
    "import pandas as pd\n",
    "import os\n",
    "\n",
    "# path to parent folder (works in .py IDEs)\n",
    "#path = os.path.abspath(os.path.join(os.path.dirname(__file__), \"..\"))\n",
    "\n",
    "# path to parent folder (works in .ipynb)\n",
    "path = os.getcwd()[:-5]"
   ]
  },
  {
   "cell_type": "markdown",
   "id": "5b3bac58",
   "metadata": {},
   "source": [
    "## Dataframe preparation\n",
    "\n",
    "Create dataframe of users, movies and reviews. The considered movies should be ones contained both in 5000 dataset and reviews dataset.\n",
    "\n",
    "### Get a list of movies from 5000 dataset"
   ]
  },
  {
   "cell_type": "code",
   "execution_count": 11,
   "id": "5abe8c4f",
   "metadata": {},
   "outputs": [],
   "source": [
    "movies_5000 = pd.read_csv(os.path.join(path, \"dataset_5000\", \"tmdb_5000_movies.csv\"),\n",
    "                          usecols = [\"original_title\"])\n",
    "movies_5000 = movies_5000.original_title.tolist()"
   ]
  },
  {
   "cell_type": "markdown",
   "id": "83048cd5",
   "metadata": {},
   "source": [
    "### Import reviews\n",
    "\n",
    "Dataframe containing username, movie title, production year and specific review is being prepared. Brief description of procedure is as below:\n",
    "\n",
    "<ol>\n",
    "    <li> Import data and perform initial cleaning (used data is generally clean and do not require much  </li>\n",
    "    <li> Create list of movies that appear in both '5000' and 'reviews' datasets. </li>\n",
    "    <li> Import all reviews and concatenate them into 1 panda dataframe. </li>\n",
    "</ol>"
   ]
  },
  {
   "cell_type": "code",
   "execution_count": 12,
   "id": "7f0ab6ee",
   "metadata": {},
   "outputs": [],
   "source": [
    "# list of file paths to import\n",
    "file_paths = []\n",
    "for root, _, files in os.walk(os.path.join(path, \"dataset_review\\\\2_reviews_per_movie_raw\")):\n",
    "    for filename in files:\n",
    "        file_paths.append(os.path.join(root, filename))\n",
    "\n",
    "# create dictionary with movie title and corresponding path\n",
    "movies = dict()\n",
    "for movie in file_paths:\n",
    "    #title = os.path.basename(movie)[:-8].replace(\"_\", \":\")\n",
    "    movies[os.path.basename(movie)[:-9].replace(\"_\", \":\")] = movie\n",
    "    \n",
    "# adjust some titles:\n",
    "movies[\"50/50\"] = movies.pop(\"50:50\")\n",
    "movies[\"Face/Off\"] = movies.pop(\"Face:Off\")\n",
    "movies[\"Frost/Nixon\"] = movies.pop(\"Frost:Nixon\")"
   ]
  },
  {
   "cell_type": "code",
   "execution_count": 26,
   "id": "ca6f17d5",
   "metadata": {},
   "outputs": [
    {
     "data": {
      "text/html": [
       "<div>\n",
       "<style scoped>\n",
       "    .dataframe tbody tr th:only-of-type {\n",
       "        vertical-align: middle;\n",
       "    }\n",
       "\n",
       "    .dataframe tbody tr th {\n",
       "        vertical-align: top;\n",
       "    }\n",
       "\n",
       "    .dataframe thead th {\n",
       "        text-align: right;\n",
       "    }\n",
       "</style>\n",
       "<table border=\"1\" class=\"dataframe\">\n",
       "  <thead>\n",
       "    <tr style=\"text-align: right;\">\n",
       "      <th></th>\n",
       "      <th>index</th>\n",
       "      <th>username</th>\n",
       "      <th>title</th>\n",
       "      <th>review</th>\n",
       "      <th>year</th>\n",
       "    </tr>\n",
       "  </thead>\n",
       "  <tbody>\n",
       "    <tr>\n",
       "      <th>0</th>\n",
       "      <td>0</td>\n",
       "      <td>Imme-van-Gorp</td>\n",
       "      <td>10 Cloverfield Lane</td>\n",
       "      <td>This movie is full of suspense. It makes you g...</td>\n",
       "      <td>2016</td>\n",
       "    </tr>\n",
       "    <tr>\n",
       "      <th>1</th>\n",
       "      <td>1</td>\n",
       "      <td>sonofocelot-1</td>\n",
       "      <td>10 Cloverfield Lane</td>\n",
       "      <td>I'll leave this review fairly concise. &lt;br/&gt;&lt;b...</td>\n",
       "      <td>2016</td>\n",
       "    </tr>\n",
       "    <tr>\n",
       "      <th>2</th>\n",
       "      <td>2</td>\n",
       "      <td>mhodaee</td>\n",
       "      <td>10 Cloverfield Lane</td>\n",
       "      <td>I give the 5/10 out of the credit I owe to the...</td>\n",
       "      <td>2016</td>\n",
       "    </tr>\n",
       "    <tr>\n",
       "      <th>3</th>\n",
       "      <td>3</td>\n",
       "      <td>fil-nik09</td>\n",
       "      <td>10 Cloverfield Lane</td>\n",
       "      <td>First of all, I must say that I was expecting ...</td>\n",
       "      <td>2016</td>\n",
       "    </tr>\n",
       "    <tr>\n",
       "      <th>4</th>\n",
       "      <td>4</td>\n",
       "      <td>DVR_Brale</td>\n",
       "      <td>10 Cloverfield Lane</td>\n",
       "      <td>I've always loved movies with strong atmospher...</td>\n",
       "      <td>2016</td>\n",
       "    </tr>\n",
       "    <tr>\n",
       "      <th>...</th>\n",
       "      <td>...</td>\n",
       "      <td>...</td>\n",
       "      <td>...</td>\n",
       "      <td>...</td>\n",
       "      <td>...</td>\n",
       "    </tr>\n",
       "    <tr>\n",
       "      <th>660557</th>\n",
       "      <td>257</td>\n",
       "      <td>JoeB131</td>\n",
       "      <td>Frost/Nixon</td>\n",
       "      <td>Oddly, it's the signature Nixon line, and Lang...</td>\n",
       "      <td>2008</td>\n",
       "    </tr>\n",
       "    <tr>\n",
       "      <th>660558</th>\n",
       "      <td>258</td>\n",
       "      <td>wolftab-1</td>\n",
       "      <td>Frost/Nixon</td>\n",
       "      <td>A fine rendition of the play of the same name....</td>\n",
       "      <td>2008</td>\n",
       "    </tr>\n",
       "    <tr>\n",
       "      <th>660559</th>\n",
       "      <td>259</td>\n",
       "      <td>leplatypus</td>\n",
       "      <td>Frost/Nixon</td>\n",
       "      <td>With 3 free tickets to use before 12 April, i ...</td>\n",
       "      <td>2008</td>\n",
       "    </tr>\n",
       "    <tr>\n",
       "      <th>660560</th>\n",
       "      <td>260</td>\n",
       "      <td>antoniotierno</td>\n",
       "      <td>Frost/Nixon</td>\n",
       "      <td>Both Langella and Sheen don't look that like t...</td>\n",
       "      <td>2008</td>\n",
       "    </tr>\n",
       "    <tr>\n",
       "      <th>660561</th>\n",
       "      <td>261</td>\n",
       "      <td>agmoldham</td>\n",
       "      <td>Frost/Nixon</td>\n",
       "      <td>This film is based on the period after Nixon r...</td>\n",
       "      <td>2008</td>\n",
       "    </tr>\n",
       "  </tbody>\n",
       "</table>\n",
       "<p>660562 rows × 5 columns</p>\n",
       "</div>"
      ],
      "text/plain": [
       "        index       username                title  \\\n",
       "0           0  Imme-van-Gorp  10 Cloverfield Lane   \n",
       "1           1  sonofocelot-1  10 Cloverfield Lane   \n",
       "2           2        mhodaee  10 Cloverfield Lane   \n",
       "3           3      fil-nik09  10 Cloverfield Lane   \n",
       "4           4      DVR_Brale  10 Cloverfield Lane   \n",
       "...       ...            ...                  ...   \n",
       "660557    257        JoeB131          Frost/Nixon   \n",
       "660558    258      wolftab-1          Frost/Nixon   \n",
       "660559    259     leplatypus          Frost/Nixon   \n",
       "660560    260  antoniotierno          Frost/Nixon   \n",
       "660561    261      agmoldham          Frost/Nixon   \n",
       "\n",
       "                                                   review  year  \n",
       "0       This movie is full of suspense. It makes you g...  2016  \n",
       "1       I'll leave this review fairly concise. <br/><b...  2016  \n",
       "2       I give the 5/10 out of the credit I owe to the...  2016  \n",
       "3       First of all, I must say that I was expecting ...  2016  \n",
       "4       I've always loved movies with strong atmospher...  2016  \n",
       "...                                                   ...   ...  \n",
       "660557  Oddly, it's the signature Nixon line, and Lang...  2008  \n",
       "660558  A fine rendition of the play of the same name....  2008  \n",
       "660559  With 3 free tickets to use before 12 April, i ...  2008  \n",
       "660560  Both Langella and Sheen don't look that like t...  2008  \n",
       "660561  This film is based on the period after Nixon r...  2008  \n",
       "\n",
       "[660562 rows x 5 columns]"
      ]
     },
     "execution_count": 26,
     "metadata": {},
     "output_type": "execute_result"
    }
   ],
   "source": [
    "# create main dataframe\n",
    "movies_final = pd.DataFrame()\n",
    "for key in movies:\n",
    "    if key in movies_5000:\n",
    "        temp = pd.read_csv(movies[key], usecols = [\"username\", \"review\"])\n",
    "        temp.insert(1, \"title\", key)\n",
    "        temp[\"year\"] = os.path.basename(movies[key])[-8:-4]\n",
    "        movies_final = pd.concat([movies_final, temp])\n",
    "        \n",
    "movies_final.reset_index(inplace = True)"
   ]
  },
  {
   "cell_type": "markdown",
   "id": "995b2094",
   "metadata": {},
   "source": [
    "## Exporting data\n",
    "\n",
    "movies_final dataframe is containing all reviews for 825 movies, that are both in 5000 movies dataset and in reviews dataset. \n",
    "\n",
    "### Whole dataframe\n",
    "\n",
    "The columns in relation are ['username', 'title', 'review']; exported file is very heavy (>800 MB)."
   ]
  },
  {
   "cell_type": "code",
   "execution_count": 13,
   "id": "d6540e4c",
   "metadata": {},
   "outputs": [],
   "source": [
    "#movies_final.to_csv(os.path.join(path, \"full_review_data.csv\"))"
   ]
  },
  {
   "cell_type": "markdown",
   "id": "298fcb05",
   "metadata": {},
   "source": [
    "### Network dataframe\n",
    "\n",
    "Exported relation contains only attributes ['username', 'title']. "
   ]
  },
  {
   "cell_type": "code",
   "execution_count": 27,
   "id": "31709d07",
   "metadata": {},
   "outputs": [],
   "source": [
    "#movies_final[[\"username\", \"title\", \"year\"]].to_csv(os.path.join(path, \"Network\", \"net_data.csv\"), index = False)"
   ]
  }
 ],
 "metadata": {
  "kernelspec": {
   "display_name": "Python [conda env:root] *",
   "language": "python",
   "name": "conda-root-py"
  },
  "language_info": {
   "codemirror_mode": {
    "name": "ipython",
    "version": 3
   },
   "file_extension": ".py",
   "mimetype": "text/x-python",
   "name": "python",
   "nbconvert_exporter": "python",
   "pygments_lexer": "ipython3",
   "version": "3.8.13"
  },
  "toc": {
   "base_numbering": 1,
   "nav_menu": {},
   "number_sections": true,
   "sideBar": true,
   "skip_h1_title": false,
   "title_cell": "Table of Contents",
   "title_sidebar": "Contents",
   "toc_cell": false,
   "toc_position": {},
   "toc_section_display": true,
   "toc_window_display": false
  },
  "varInspector": {
   "cols": {
    "lenName": 16,
    "lenType": 16,
    "lenVar": 40
   },
   "kernels_config": {
    "python": {
     "delete_cmd_postfix": "",
     "delete_cmd_prefix": "del ",
     "library": "var_list.py",
     "varRefreshCmd": "print(var_dic_list())"
    },
    "r": {
     "delete_cmd_postfix": ") ",
     "delete_cmd_prefix": "rm(",
     "library": "var_list.r",
     "varRefreshCmd": "cat(var_dic_list()) "
    }
   },
   "types_to_exclude": [
    "module",
    "function",
    "builtin_function_or_method",
    "instance",
    "_Feature"
   ],
   "window_display": false
  }
 },
 "nbformat": 4,
 "nbformat_minor": 5
}
