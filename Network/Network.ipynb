{
 "cells": [
  {
   "cell_type": "markdown",
   "id": "18d4c0ff",
   "metadata": {},
   "source": [
    "If pyvis or networkx is not installed on working kernel, then in cell below lines that start with # !conda should be unhashed and run afterwards to install these packages. "
   ]
  },
  {
   "cell_type": "code",
   "execution_count": 3,
   "id": "a9ceaba0",
   "metadata": {},
   "outputs": [],
   "source": [
    "# installing pyvis + networkx if does not exist on current kernel (may take some time) - also assumed that working environment\n",
    "# is build in anaconda\n",
    "import sys\n",
    "\n",
    "# pyvis installation \n",
    "# !conda install --yes --prefix {sys.prefix} -c conda-forge pyvis\n",
    "# networkx installation\n",
    "# !conda install --yes --prefix {sys.prefix} -c anaconda networkx"
   ]
  },
  {
   "cell_type": "code",
   "execution_count": 76,
   "id": "9a1873ae",
   "metadata": {
    "scrolled": true
   },
   "outputs": [],
   "source": [
    "import pandas as pd\n",
    "import numpy as np\n",
    "import networkx as nx\n",
    "\n",
    "from pyvis.network import Network\n",
    "from collections import defaultdict\n",
    "\n",
    "import os\n",
    "import rich\n",
    "import json\n",
    "import itertools\n",
    "\n",
    "# path to current directory\n",
    "path = os.getcwd()"
   ]
  },
  {
   "cell_type": "markdown",
   "id": "4ca4b598",
   "metadata": {},
   "source": [
    "# Network analysis\n",
    "\n",
    "\n",
    "The purpose of the code is to create network composed of users and movies they rated, based on data that are used in implemented recommenders. This part will include finding similar users, based on the movies they rated as well as basic social network analysis and distinguishing communities inside network.\n",
    "\n",
    "## Import data\n",
    "\n",
    "Data import from pickle file containing titles, users, sentiment value, rating and preparation of the dataframe, that will contain following attributes [\"username\", \"title\", \"sentiment\", \"rating\"]. This will represent each user's rating for certain movie alongside sentiment score computed from movie."
   ]
  },
  {
   "cell_type": "code",
   "execution_count": 7,
   "id": "c80e90e1",
   "metadata": {
    "scrolled": true
   },
   "outputs": [
    {
     "data": {
      "text/html": [
       "<div>\n",
       "<style scoped>\n",
       "    .dataframe tbody tr th:only-of-type {\n",
       "        vertical-align: middle;\n",
       "    }\n",
       "\n",
       "    .dataframe tbody tr th {\n",
       "        vertical-align: top;\n",
       "    }\n",
       "\n",
       "    .dataframe thead th {\n",
       "        text-align: right;\n",
       "    }\n",
       "</style>\n",
       "<table border=\"1\" class=\"dataframe\">\n",
       "  <thead>\n",
       "    <tr style=\"text-align: right;\">\n",
       "      <th></th>\n",
       "      <th>username</th>\n",
       "      <th>title</th>\n",
       "      <th>sentiment</th>\n",
       "      <th>rating</th>\n",
       "    </tr>\n",
       "  </thead>\n",
       "  <tbody>\n",
       "    <tr>\n",
       "      <th>28080</th>\n",
       "      <td>jfgibson73</td>\n",
       "      <td>Ted</td>\n",
       "      <td>5.480657</td>\n",
       "      <td>6.0</td>\n",
       "    </tr>\n",
       "    <tr>\n",
       "      <th>30149</th>\n",
       "      <td>m_madhu</td>\n",
       "      <td>The Deer Hunter</td>\n",
       "      <td>5.343544</td>\n",
       "      <td>6.0</td>\n",
       "    </tr>\n",
       "    <tr>\n",
       "      <th>17916</th>\n",
       "      <td>ayoreinf</td>\n",
       "      <td>Lucy</td>\n",
       "      <td>5.441581</td>\n",
       "      <td>7.0</td>\n",
       "    </tr>\n",
       "    <tr>\n",
       "      <th>11147</th>\n",
       "      <td>Navaf</td>\n",
       "      <td>Fury</td>\n",
       "      <td>5.412515</td>\n",
       "      <td>8.0</td>\n",
       "    </tr>\n",
       "    <tr>\n",
       "      <th>20469</th>\n",
       "      <td>bestfootie</td>\n",
       "      <td>Mystic River</td>\n",
       "      <td>5.556242</td>\n",
       "      <td>6.0</td>\n",
       "    </tr>\n",
       "  </tbody>\n",
       "</table>\n",
       "</div>"
      ],
      "text/plain": [
       "         username            title  sentiment  rating\n",
       "28080  jfgibson73              Ted   5.480657     6.0\n",
       "30149     m_madhu  The Deer Hunter   5.343544     6.0\n",
       "17916    ayoreinf             Lucy   5.441581     7.0\n",
       "11147       Navaf             Fury   5.412515     8.0\n",
       "20469  bestfootie     Mystic River   5.556242     6.0"
      ]
     },
     "execution_count": 7,
     "metadata": {},
     "output_type": "execute_result"
    }
   ],
   "source": [
    "# import data\n",
    "raw_data = pd.read_pickle(os.path.join(path, \"network_data\", \"rating_and_sentiment.pkl\"))\n",
    "\n",
    "# initiate data values\n",
    "net_data = []\n",
    "\n",
    "# fill list with values\n",
    "for row in raw_data.index:\n",
    "    # dictionaries of sentiment and rating values for each user\n",
    "    dict_sen = raw_data.loc[row, \"user_sentiment\"] \n",
    "    dict_rat = raw_data.loc[row, \"rating_final\"]\n",
    "    for key in dict_sen:\n",
    "        # check for null values\n",
    "        if dict_rat[key] == \"Null\":\n",
    "            rat_val = 5\n",
    "        else:\n",
    "            rat_val = float(dict_rat[key])\n",
    "        new_row = [key, raw_data.loc[row, \"original_title\"], dict_sen[key], rat_val]\n",
    "        net_data.append(new_row)\n",
    "\n",
    "# creating a dataframe \n",
    "net_data = pd.DataFrame(net_data, columns = [\"username\", \"title\", \"sentiment\", \"rating\"])\n",
    "\n",
    "# show snapshot of dataframe\n",
    "net_data.sample(5)"
   ]
  },
  {
   "cell_type": "markdown",
   "id": "93a04fc7",
   "metadata": {},
   "source": [
    "## Network preparation\n",
    "\n",
    "### Vertex set\n",
    "\n",
    "In this part vertex set of network will be prepared. Vertices in analysed graph will be users and movies, both containing several attributes.\n",
    "\n",
    "#### Username\n",
    "\n",
    "The nodes for this group will contain:\n",
    "\n",
    "    - user name [\"username\"]\n",
    "    - number of movies this user has reviewed [\"revs_num\"]\n",
    "    \n",
    "To each username subscript \"_u\" will be added, to avoid node cancellation when username and movie title is the same."
   ]
  },
  {
   "cell_type": "code",
   "execution_count": 8,
   "id": "838c5590",
   "metadata": {
    "scrolled": true
   },
   "outputs": [],
   "source": [
    "# count values of each user's reviews and save outcome to dataframe\n",
    "user_nodes = net_data.username.value_counts().to_frame(name = \"revs_num\")\n",
    "user_nodes.reset_index(inplace = True)\n",
    "\n",
    "# change column name that was affected by index reset\n",
    "user_nodes = user_nodes.rename(columns = {\"index\" : \"username\"})\n",
    "\n",
    "# add subscript\n",
    "user_nodes[\"username\"] = user_nodes[\"username\"].apply(lambda x: x + \"_u\")"
   ]
  },
  {
   "cell_type": "markdown",
   "id": "1dfd6cae",
   "metadata": {},
   "source": [
    "Relation containing nodes and their attributes, alongside some basic measures is shown below."
   ]
  },
  {
   "cell_type": "code",
   "execution_count": 9,
   "id": "6e5ab27b",
   "metadata": {
    "scrolled": true
   },
   "outputs": [
    {
     "data": {
      "text/html": [
       "<pre style=\"white-space:pre;overflow-x:auto;line-height:normal;font-family:Menlo,'DejaVu Sans Mono',consolas,'Courier New',monospace\">\n",
       "\n",
       "<span style=\"font-weight: bold\">Total number of username nodes (number of users): </span><span style=\"color: #008080; text-decoration-color: #008080; font-weight: bold\">11349</span>\n",
       "</pre>\n"
      ],
      "text/plain": [
       "\n",
       "\n",
       "\u001b[1mTotal number of username nodes \u001b[0m\u001b[1m(\u001b[0m\u001b[1mnumber of users\u001b[0m\u001b[1m)\u001b[0m\u001b[1m: \u001b[0m\u001b[1;36m11349\u001b[0m\n"
      ]
     },
     "metadata": {},
     "output_type": "display_data"
    },
    {
     "data": {
      "text/html": [
       "<div>\n",
       "<style scoped>\n",
       "    .dataframe tbody tr th:only-of-type {\n",
       "        vertical-align: middle;\n",
       "    }\n",
       "\n",
       "    .dataframe tbody tr th {\n",
       "        vertical-align: top;\n",
       "    }\n",
       "\n",
       "    .dataframe thead th {\n",
       "        text-align: right;\n",
       "    }\n",
       "</style>\n",
       "<table border=\"1\" class=\"dataframe\">\n",
       "  <thead>\n",
       "    <tr style=\"text-align: right;\">\n",
       "      <th></th>\n",
       "      <th>username</th>\n",
       "      <th>revs_num</th>\n",
       "    </tr>\n",
       "  </thead>\n",
       "  <tbody>\n",
       "    <tr>\n",
       "      <th>0</th>\n",
       "      <td>SnoopyStyle_u</td>\n",
       "      <td>198</td>\n",
       "    </tr>\n",
       "    <tr>\n",
       "      <th>1</th>\n",
       "      <td>anaconda-40658_u</td>\n",
       "      <td>134</td>\n",
       "    </tr>\n",
       "    <tr>\n",
       "      <th>2</th>\n",
       "      <td>jboothmillard_u</td>\n",
       "      <td>129</td>\n",
       "    </tr>\n",
       "    <tr>\n",
       "      <th>3</th>\n",
       "      <td>g-bodyl_u</td>\n",
       "      <td>106</td>\n",
       "    </tr>\n",
       "    <tr>\n",
       "      <th>4</th>\n",
       "      <td>kosmasp_u</td>\n",
       "      <td>104</td>\n",
       "    </tr>\n",
       "  </tbody>\n",
       "</table>\n",
       "</div>"
      ],
      "text/plain": [
       "           username  revs_num\n",
       "0     SnoopyStyle_u       198\n",
       "1  anaconda-40658_u       134\n",
       "2   jboothmillard_u       129\n",
       "3         g-bodyl_u       106\n",
       "4         kosmasp_u       104"
      ]
     },
     "execution_count": 9,
     "metadata": {},
     "output_type": "execute_result"
    }
   ],
   "source": [
    "rich.print(f\"\\n\\n[bold]Total number of username nodes (number of users): {len(user_nodes.index)}\")\n",
    "user_nodes.head(5)"
   ]
  },
  {
   "cell_type": "markdown",
   "id": "2852c754",
   "metadata": {},
   "source": [
    "#### Movie\n",
    "\n",
    "Prepare movie nodes for network. The nodes for this group will contain:\n",
    "\n",
    "    - movie title [\"title\"]\n",
    "    - average sentiment score [\"avg_sen\"]\n",
    "    - average rating [\"avg_rat\"]\n",
    "    - number of reviews considered for this movie [\"revs_num\"]\n",
    "    \n",
    "To each username subscript \"_m\" will be added, to avoid node cancellation when username and movie title is the same."
   ]
  },
  {
   "cell_type": "code",
   "execution_count": 10,
   "id": "a0e5fa7d",
   "metadata": {
    "scrolled": true
   },
   "outputs": [],
   "source": [
    "# Create dataframe containing title and year\n",
    "movie_nodes = net_data[\"title\"].drop_duplicates()\n",
    "movie_nodes.reset_index(inplace = True, drop = True)\n",
    "\n",
    "# calculate number of reviews for each movie and append it as a column to dataframe\n",
    "movie_temp = net_data.title.value_counts().to_frame(\"revs_num\")\n",
    "movie_temp.reset_index(inplace = True)\n",
    "movie_temp.rename(columns = {\"index\" : \"title\"}, inplace = True)\n",
    "movie_nodes = pd.merge(movie_nodes, movie_temp, on = \"title\")\n",
    "\n",
    "# calculate average sentiment and append it to dataframe\n",
    "movie_temp = net_data[[\"title\", \"sentiment\", \"rating\"]].groupby([\"title\"]).mean()\n",
    "movie_temp.reset_index(inplace = True)\n",
    "movie_temp.rename(columns = {\"index\" : \"title\"}, inplace = True)\n",
    "movie_nodes = pd.merge(movie_nodes, movie_temp, on = \"title\")\n",
    "\n",
    "# delete unused dataframe from memory\n",
    "del movie_temp\n",
    "\n",
    "# add subscript\n",
    "movie_nodes[\"title\"] = movie_nodes[\"title\"].apply(lambda x: x + \"_m\")\n",
    "\n",
    "# rename columns\n",
    "movie_nodes = movie_nodes.rename(columns = {\"sentiment\" : \"avg_sen\", \"rating\" : \"avg_rat\"})"
   ]
  },
  {
   "cell_type": "markdown",
   "id": "69314b22",
   "metadata": {},
   "source": [
    "Relation containing nodes and their attributes, alongside some basic measures is shown below."
   ]
  },
  {
   "cell_type": "code",
   "execution_count": 11,
   "id": "4dc13cf3",
   "metadata": {
    "scrolled": false
   },
   "outputs": [
    {
     "data": {
      "text/html": [
       "<pre style=\"white-space:pre;overflow-x:auto;line-height:normal;font-family:Menlo,'DejaVu Sans Mono',consolas,'Courier New',monospace\">\n",
       "\n",
       "<span style=\"font-weight: bold\">Total number of movie nodes (number of movies): </span><span style=\"color: #008080; text-decoration-color: #008080; font-weight: bold\">822</span>\n",
       "</pre>\n"
      ],
      "text/plain": [
       "\n",
       "\n",
       "\u001b[1mTotal number of movie nodes \u001b[0m\u001b[1m(\u001b[0m\u001b[1mnumber of movies\u001b[0m\u001b[1m)\u001b[0m\u001b[1m: \u001b[0m\u001b[1;36m822\u001b[0m\n"
      ]
     },
     "metadata": {},
     "output_type": "display_data"
    },
    {
     "data": {
      "text/html": [
       "<div>\n",
       "<style scoped>\n",
       "    .dataframe tbody tr th:only-of-type {\n",
       "        vertical-align: middle;\n",
       "    }\n",
       "\n",
       "    .dataframe tbody tr th {\n",
       "        vertical-align: top;\n",
       "    }\n",
       "\n",
       "    .dataframe thead th {\n",
       "        text-align: right;\n",
       "    }\n",
       "</style>\n",
       "<table border=\"1\" class=\"dataframe\">\n",
       "  <thead>\n",
       "    <tr style=\"text-align: right;\">\n",
       "      <th></th>\n",
       "      <th>title</th>\n",
       "      <th>revs_num</th>\n",
       "      <th>avg_sen</th>\n",
       "      <th>avg_rat</th>\n",
       "    </tr>\n",
       "  </thead>\n",
       "  <tbody>\n",
       "    <tr>\n",
       "      <th>0</th>\n",
       "      <td>10 Cloverfield Lane_m</td>\n",
       "      <td>50</td>\n",
       "      <td>5.408300</td>\n",
       "      <td>7.50</td>\n",
       "    </tr>\n",
       "    <tr>\n",
       "      <th>1</th>\n",
       "      <td>10 Things I Hate About You_m</td>\n",
       "      <td>50</td>\n",
       "      <td>5.534746</td>\n",
       "      <td>7.62</td>\n",
       "    </tr>\n",
       "    <tr>\n",
       "      <th>2</th>\n",
       "      <td>12 Angry Men_m</td>\n",
       "      <td>50</td>\n",
       "      <td>5.397162</td>\n",
       "      <td>9.32</td>\n",
       "    </tr>\n",
       "    <tr>\n",
       "      <th>3</th>\n",
       "      <td>12 Years a Slave_m</td>\n",
       "      <td>50</td>\n",
       "      <td>5.370843</td>\n",
       "      <td>7.88</td>\n",
       "    </tr>\n",
       "    <tr>\n",
       "      <th>4</th>\n",
       "      <td>127 Hours_m</td>\n",
       "      <td>50</td>\n",
       "      <td>5.419699</td>\n",
       "      <td>7.52</td>\n",
       "    </tr>\n",
       "  </tbody>\n",
       "</table>\n",
       "</div>"
      ],
      "text/plain": [
       "                          title  revs_num   avg_sen  avg_rat\n",
       "0         10 Cloverfield Lane_m        50  5.408300     7.50\n",
       "1  10 Things I Hate About You_m        50  5.534746     7.62\n",
       "2                12 Angry Men_m        50  5.397162     9.32\n",
       "3            12 Years a Slave_m        50  5.370843     7.88\n",
       "4                   127 Hours_m        50  5.419699     7.52"
      ]
     },
     "execution_count": 11,
     "metadata": {},
     "output_type": "execute_result"
    }
   ],
   "source": [
    "rich.print(f\"\\n\\n[bold]Total number of movie nodes (number of movies): {len(movie_nodes.index)}\")\n",
    "movie_nodes.head(5)"
   ]
  },
  {
   "cell_type": "markdown",
   "id": "c530c4ec",
   "metadata": {},
   "source": [
    "### Edge set\n",
    "\n",
    "Dataframe containing edge directions (from node to node) were defined based on reviews dataframe imported at the beginning. In addition for each edge sentiment value and rating value attributes were added based on each review."
   ]
  },
  {
   "cell_type": "code",
   "execution_count": 12,
   "id": "f661a337",
   "metadata": {
    "scrolled": false
   },
   "outputs": [
    {
     "data": {
      "text/html": [
       "<pre style=\"white-space:pre;overflow-x:auto;line-height:normal;font-family:Menlo,'DejaVu Sans Mono',consolas,'Courier New',monospace\">\n",
       "\n",
       "<span style=\"font-weight: bold\">Total number of edges: </span><span style=\"color: #008080; text-decoration-color: #008080; font-weight: bold\">40930</span>\n",
       "</pre>\n"
      ],
      "text/plain": [
       "\n",
       "\n",
       "\u001b[1mTotal number of edges: \u001b[0m\u001b[1;36m40930\u001b[0m\n"
      ]
     },
     "metadata": {},
     "output_type": "display_data"
    },
    {
     "data": {
      "text/html": [
       "<div>\n",
       "<style scoped>\n",
       "    .dataframe tbody tr th:only-of-type {\n",
       "        vertical-align: middle;\n",
       "    }\n",
       "\n",
       "    .dataframe tbody tr th {\n",
       "        vertical-align: top;\n",
       "    }\n",
       "\n",
       "    .dataframe thead th {\n",
       "        text-align: right;\n",
       "    }\n",
       "</style>\n",
       "<table border=\"1\" class=\"dataframe\">\n",
       "  <thead>\n",
       "    <tr style=\"text-align: right;\">\n",
       "      <th></th>\n",
       "      <th>from</th>\n",
       "      <th>to</th>\n",
       "      <th>sentiment</th>\n",
       "      <th>rating</th>\n",
       "    </tr>\n",
       "  </thead>\n",
       "  <tbody>\n",
       "    <tr>\n",
       "      <th>4887</th>\n",
       "      <td>maverick-vishal_u</td>\n",
       "      <td>Braveheart_m</td>\n",
       "      <td>5.372468</td>\n",
       "      <td>7.0</td>\n",
       "    </tr>\n",
       "    <tr>\n",
       "      <th>14704</th>\n",
       "      <td>gsic_batou_u</td>\n",
       "      <td>In Bruges_m</td>\n",
       "      <td>5.611893</td>\n",
       "      <td>8.0</td>\n",
       "    </tr>\n",
       "    <tr>\n",
       "      <th>37684</th>\n",
       "      <td>Leofwine_draca_u</td>\n",
       "      <td>Tinker Tailor Soldier Spy_m</td>\n",
       "      <td>5.441586</td>\n",
       "      <td>2.0</td>\n",
       "    </tr>\n",
       "    <tr>\n",
       "      <th>11349</th>\n",
       "      <td>tccandler_u</td>\n",
       "      <td>Garden State_m</td>\n",
       "      <td>5.586896</td>\n",
       "      <td>10.0</td>\n",
       "    </tr>\n",
       "    <tr>\n",
       "      <th>6028</th>\n",
       "      <td>namashi_1_u</td>\n",
       "      <td>Cast Away_m</td>\n",
       "      <td>5.469384</td>\n",
       "      <td>10.0</td>\n",
       "    </tr>\n",
       "  </tbody>\n",
       "</table>\n",
       "</div>"
      ],
      "text/plain": [
       "                    from                           to  sentiment  rating\n",
       "4887   maverick-vishal_u                 Braveheart_m   5.372468     7.0\n",
       "14704       gsic_batou_u                  In Bruges_m   5.611893     8.0\n",
       "37684   Leofwine_draca_u  Tinker Tailor Soldier Spy_m   5.441586     2.0\n",
       "11349        tccandler_u               Garden State_m   5.586896    10.0\n",
       "6028         namashi_1_u                  Cast Away_m   5.469384    10.0"
      ]
     },
     "execution_count": 12,
     "metadata": {},
     "output_type": "execute_result"
    }
   ],
   "source": [
    "edges = net_data\n",
    "edges = edges.rename(columns = {\"username\" : \"from\", \"title\" : \"to\"})\n",
    "rich.print(f\"\\n\\n[bold]Total number of edges: {len(edges.index)}\")\n",
    "# adding subscripts\n",
    "edges[\"from\"] = edges[\"from\"].apply(lambda x: x + \"_u\")\n",
    "edges[\"to\"] = edges[\"to\"].apply(lambda x: x + \"_m\")\n",
    "# example of how relations look like\n",
    "edges.sample(5)"
   ]
  },
  {
   "cell_type": "markdown",
   "id": "608674a2",
   "metadata": {},
   "source": [
    "## Create network graph with use of NetworkX\n",
    "\n",
    "Graph structure was chosen to be directed, since reviews are going from user to specific movie. Two typed of nodes will be defined - user nodes and movie nodes. These vertices will have different attributes. Size of the nodes will be defined as number of edges going from/to specific node. Two attributes that are coherent for both node types are:\n",
    "\n",
    "    - size of node\n",
    "    - node_type -> specifying whether is this user node or movie node\n",
    "    \n",
    "### Defining nodes (vertices) and edges"
   ]
  },
  {
   "cell_type": "code",
   "execution_count": 13,
   "id": "6716b280",
   "metadata": {
    "scrolled": true
   },
   "outputs": [],
   "source": [
    "# initiate empty graph structure\n",
    "G = nx.DiGraph()\n",
    "\n",
    "# add user nodes to the network\n",
    "for _, users in user_nodes.iterrows():\n",
    "    G.add_node(users[\"username\"], \n",
    "               size = users[\"revs_num\"], \n",
    "               node_type = \"user\")\n",
    "    \n",
    "# add movie nodes to the network\n",
    "for _, movie in movie_nodes.iterrows():\n",
    "    G.add_node(movie[\"title\"], \n",
    "               size = movie[\"revs_num\"],\n",
    "               sentiment = movie[\"avg_sen\"], \n",
    "               rating = movie[\"avg_rat\"],  \n",
    "               node_type = \"movie\")\n",
    "    \n",
    "# add edges to the network\n",
    "for _, edge in edges.iterrows():\n",
    "    # sanity check whether such nodes exist in graph\n",
    "    if (G.has_node(edge[\"from\"]) and G.has_node(edge[\"to\"])):\n",
    "        # add the edge to the network\n",
    "        G.add_edge(edge[\"from\"], edge[\"to\"])"
   ]
  },
  {
   "cell_type": "markdown",
   "id": "ecc9b8b1",
   "metadata": {},
   "source": [
    "### The network"
   ]
  },
  {
   "cell_type": "code",
   "execution_count": 14,
   "id": "bd1b5894",
   "metadata": {
    "scrolled": true
   },
   "outputs": [
    {
     "data": {
      "text/html": [
       "<pre style=\"white-space:pre;overflow-x:auto;line-height:normal;font-family:Menlo,'DejaVu Sans Mono',consolas,'Courier New',monospace\"><span style=\"font-weight: bold\">The network is directional graph containing following number of vertices and edges:</span>\n",
       "</pre>\n"
      ],
      "text/plain": [
       "\u001b[1mThe network is directional graph containing following number of vertices and edges:\u001b[0m\n"
      ]
     },
     "metadata": {},
     "output_type": "display_data"
    },
    {
     "data": {
      "text/html": [
       "<pre style=\"white-space:pre;overflow-x:auto;line-height:normal;font-family:Menlo,'DejaVu Sans Mono',consolas,'Courier New',monospace\">DiGraph with <span style=\"color: #008080; text-decoration-color: #008080; font-weight: bold\">12171</span> nodes and <span style=\"color: #008080; text-decoration-color: #008080; font-weight: bold\">40930</span> edges\n",
       "</pre>\n"
      ],
      "text/plain": [
       "DiGraph with \u001b[1;36m12171\u001b[0m nodes and \u001b[1;36m40930\u001b[0m edges\n"
      ]
     },
     "metadata": {},
     "output_type": "display_data"
    },
    {
     "data": {
      "text/html": [
       "<pre style=\"white-space:pre;overflow-x:auto;line-height:normal;font-family:Menlo,'DejaVu Sans Mono',consolas,'Courier New',monospace\">Number of user nodes: <span style=\"color: #008080; text-decoration-color: #008080; font-weight: bold\">11349</span>\n",
       "</pre>\n"
      ],
      "text/plain": [
       "Number of user nodes: \u001b[1;36m11349\u001b[0m\n"
      ]
     },
     "metadata": {},
     "output_type": "display_data"
    },
    {
     "data": {
      "text/html": [
       "<pre style=\"white-space:pre;overflow-x:auto;line-height:normal;font-family:Menlo,'DejaVu Sans Mono',consolas,'Courier New',monospace\">Number of movie nodes: <span style=\"color: #008080; text-decoration-color: #008080; font-weight: bold\">822</span>\n",
       "</pre>\n"
      ],
      "text/plain": [
       "Number of movie nodes: \u001b[1;36m822\u001b[0m\n"
      ]
     },
     "metadata": {},
     "output_type": "display_data"
    },
    {
     "data": {
      "text/html": [
       "<pre style=\"white-space:pre;overflow-x:auto;line-height:normal;font-family:Menlo,'DejaVu Sans Mono',consolas,'Courier New',monospace\"><span style=\"font-weight: bold\">User node example: </span>\n",
       "<span style=\"font-weight: bold\">{</span><span style=\"color: #008000; text-decoration-color: #008000\">'size'</span>: <span style=\"color: #008080; text-decoration-color: #008080; font-weight: bold\">198</span>, <span style=\"color: #008000; text-decoration-color: #008000\">'node_type'</span>: <span style=\"color: #008000; text-decoration-color: #008000\">'user'</span><span style=\"font-weight: bold\">}</span>\n",
       "</pre>\n"
      ],
      "text/plain": [
       "\u001b[1mUser node example: \u001b[0m\n",
       "\u001b[1m{\u001b[0m\u001b[32m'size'\u001b[0m: \u001b[1;36m198\u001b[0m, \u001b[32m'node_type'\u001b[0m: \u001b[32m'user'\u001b[0m\u001b[1m}\u001b[0m\n"
      ]
     },
     "metadata": {},
     "output_type": "display_data"
    },
    {
     "data": {
      "text/html": [
       "<pre style=\"white-space:pre;overflow-x:auto;line-height:normal;font-family:Menlo,'DejaVu Sans Mono',consolas,'Courier New',monospace\"><span style=\"font-weight: bold\">Movie node example: </span>\n",
       "<span style=\"font-weight: bold\">{</span><span style=\"color: #008000; text-decoration-color: #008000\">'size'</span>: <span style=\"color: #008080; text-decoration-color: #008080; font-weight: bold\">50</span>, <span style=\"color: #008000; text-decoration-color: #008000\">'sentiment'</span>: <span style=\"color: #008080; text-decoration-color: #008080; font-weight: bold\">5.446190058307706</span>, <span style=\"color: #008000; text-decoration-color: #008000\">'rating'</span>: <span style=\"color: #008080; text-decoration-color: #008080; font-weight: bold\">8.02</span>, <span style=\"color: #008000; text-decoration-color: #008000\">'node_type'</span>: <span style=\"color: #008000; text-decoration-color: #008000\">'movie'</span><span style=\"font-weight: bold\">}</span>\n",
       "</pre>\n"
      ],
      "text/plain": [
       "\u001b[1mMovie node example: \u001b[0m\n",
       "\u001b[1m{\u001b[0m\u001b[32m'size'\u001b[0m: \u001b[1;36m50\u001b[0m, \u001b[32m'sentiment'\u001b[0m: \u001b[1;36m5.446190058307706\u001b[0m, \u001b[32m'rating'\u001b[0m: \u001b[1;36m8.02\u001b[0m, \u001b[32m'node_type'\u001b[0m: \u001b[32m'movie'\u001b[0m\u001b[1m}\u001b[0m\n"
      ]
     },
     "metadata": {},
     "output_type": "display_data"
    }
   ],
   "source": [
    "rich.print(f\"[bold]The network is directional graph containing following number of vertices and edges:\")\n",
    "rich.print(G)\n",
    "\n",
    "# iterate through nodes in network and count nodes number of each type to ensure all nodes were defined correctly\n",
    "u_nodes = 0\n",
    "m_nodes = 0\n",
    "for node in G.nodes():\n",
    "    if G.nodes[node][\"node_type\"] == \"user\":\n",
    "        u_nodes += 1\n",
    "    else:\n",
    "        m_nodes += 1\n",
    "\n",
    "rich.print(f\"Number of user nodes: {u_nodes}\")\n",
    "rich.print(f\"Number of movie nodes: {m_nodes}\")\n",
    "rich.print(f\"[bold]User node example: \", G.nodes[\"SnoopyStyle_u\"])\n",
    "rich.print(f\"[bold]Movie node example: \", G.nodes[\"Gladiator_m\"])"
   ]
  },
  {
   "cell_type": "markdown",
   "id": "6c056c13",
   "metadata": {},
   "source": [
    "Node \"size\" attribute value should be equal to \"in degree\" (number of edges with vertex $x_1$ as terminated vertex) for all movie nodes and equal to \"out degree\" (number of edges that are initiated from vertex $x_2$) for user nodes. $x_1, x_2$ represent sam random node from specific group."
   ]
  },
  {
   "cell_type": "code",
   "execution_count": 15,
   "id": "b64c78bc",
   "metadata": {
    "scrolled": true
   },
   "outputs": [],
   "source": [
    "# check whether all nodes have assigned correct size numbers\n",
    "i = 0\n",
    "for node in G.nodes():\n",
    "    if G.nodes[node][\"node_type\"] == \"user\":\n",
    "        # out degree value for user node\n",
    "        degree = G.out_degree(node)\n",
    "    else:\n",
    "        # in degree value for movie node\n",
    "        degree = G.in_degree(node)\n",
    "    # check for correct size number\n",
    "    if degree != G.nodes[node][\"size\"]:\n",
    "        print(\"Error: incorrect size value in node \", node)"
   ]
  },
  {
   "cell_type": "markdown",
   "id": "0e2d15b0",
   "metadata": {},
   "source": [
    "### Network findings\n",
    "\n",
    "Some metrics were investigated based on created network. Those were top 10 most frequently rated movies, top 10 users with most ratings written, 10 least rated movies and 10 users with lowers number of rated movies. This could be done as well with use of pandas, but for network analysis purposes will be derived directly from network as well."
   ]
  },
  {
   "cell_type": "code",
   "execution_count": 16,
   "id": "ccf68213",
   "metadata": {
    "scrolled": true
   },
   "outputs": [
    {
     "data": {
      "text/html": [
       "<pre style=\"white-space:pre;overflow-x:auto;line-height:normal;font-family:Menlo,'DejaVu Sans Mono',consolas,'Courier New',monospace\"><span style=\"font-weight: bold\">Users with highest amount of reviewed movies:</span>\n",
       "</pre>\n"
      ],
      "text/plain": [
       "\u001b[1mUsers with highest amount of reviewed movies:\u001b[0m\n"
      ]
     },
     "metadata": {},
     "output_type": "display_data"
    },
    {
     "name": "stdout",
     "output_type": "stream",
     "text": [
      "1. SnoopyStyle              -> 198 review\n",
      "2. anaconda-40658           -> 134 review\n",
      "3. jboothmillard            -> 129 review\n",
      "4. g-bodyl                  -> 106 review\n",
      "5. kosmasp                  -> 104 review\n",
      "6. Smells_Like_Cheese       -> 103 review\n",
      "7. Quinoa1984               -> 103 review\n",
      "8. michaelRokeefe           -> 103 review\n",
      "9. lee_eisenberg            -> 101 review\n",
      "10. claudio_carvalho         -> 98 review\n"
     ]
    },
    {
     "data": {
      "text/html": [
       "<pre style=\"white-space:pre;overflow-x:auto;line-height:normal;font-family:Menlo,'DejaVu Sans Mono',consolas,'Courier New',monospace\"><span style=\"font-weight: bold\">Users with lowest amount of reviewed movies:</span>\n",
       "</pre>\n"
      ],
      "text/plain": [
       "\u001b[1mUsers with lowest amount of reviewed movies:\u001b[0m\n"
      ]
     },
     "metadata": {},
     "output_type": "display_data"
    },
    {
     "name": "stdout",
     "output_type": "stream",
     "text": [
      "Luuk-2                   -> 1 reviews\n",
      "boyznick                 -> 1 reviews\n",
      "Asterios                 -> 1 reviews\n",
      "noahhaye                 -> 1 reviews\n",
      "eyal philippsborn        -> 1 reviews\n",
      "E-Z-Rider                -> 1 reviews\n",
      "Junker-2                 -> 1 reviews\n",
      "adamsmith-51004          -> 1 reviews\n",
      "rsabnis1                 -> 1 reviews\n",
      "armycrazy                -> 1 reviews\n"
     ]
    },
    {
     "data": {
      "text/html": [
       "<pre style=\"white-space:pre;overflow-x:auto;line-height:normal;font-family:Menlo,'DejaVu Sans Mono',consolas,'Courier New',monospace\"><span style=\"font-weight: bold\">Movies with highest number of reviews:</span>\n",
       "</pre>\n"
      ],
      "text/plain": [
       "\u001b[1mMovies with highest number of reviews:\u001b[0m\n"
      ]
     },
     "metadata": {},
     "output_type": "display_data"
    },
    {
     "name": "stdout",
     "output_type": "stream",
     "text": [
      "1. 10 Cloverfield Lane                               -> 50 reviews\n",
      "2. 10 Things I Hate About You                        -> 50 reviews\n",
      "3. 12 Angry Men                                      -> 50 reviews\n",
      "4. 12 Years a Slave                                  -> 50 reviews\n",
      "5. 127 Hours                                         -> 50 reviews\n",
      "6. 1408                                              -> 50 reviews\n",
      "7. 1941                                              -> 50 reviews\n",
      "8. 2001: A Space Odyssey                             -> 50 reviews\n",
      "9. 2012                                              -> 50 reviews\n",
      "10. 21                                                -> 50 reviews\n"
     ]
    },
    {
     "data": {
      "text/html": [
       "<pre style=\"white-space:pre;overflow-x:auto;line-height:normal;font-family:Menlo,'DejaVu Sans Mono',consolas,'Courier New',monospace\"><span style=\"font-weight: bold\">Movies with lowest number of reviews:</span>\n",
       "</pre>\n"
      ],
      "text/plain": [
       "\u001b[1mMovies with lowest number of reviews:\u001b[0m\n"
      ]
     },
     "metadata": {},
     "output_type": "display_data"
    },
    {
     "name": "stdout",
     "output_type": "stream",
     "text": [
      "1. Little Boy                                        -> 30 reviews\n",
      "2. Saints and Soldiers                               -> 31 reviews\n",
      "3. In the Land of Blood and Honey                    -> 31 reviews\n",
      "4. Step Up 2: The Streets                            -> 32 reviews\n",
      "5. Peaceful Warrior                                  -> 33 reviews\n",
      "6. Airlift                                           -> 33 reviews\n",
      "7. Hardball                                          -> 37 reviews\n",
      "8. Rang De Basanti                                   -> 38 reviews\n",
      "9. Bloody Sunday                                     -> 39 reviews\n",
      "10. He Got Game                                       -> 41 reviews\n"
     ]
    }
   ],
   "source": [
    "# create dictionary with nodes and their in/out degrees\n",
    "out_stat = {key: value for key, value in sorted(G.out_degree(), key = lambda item: item[1], reverse=True)}\n",
    "in_stat = {key: value for key, value in sorted(G.in_degree(), key = lambda item: item[1], reverse=True)}\n",
    "\n",
    "top_users = []\n",
    "top_movies = []\n",
    "\n",
    "# make sorted list of users\n",
    "for node in out_stat:\n",
    "    if G.nodes[node][\"node_type\"] == \"user\":\n",
    "        top_users.append(node)\n",
    "\n",
    "# make sorted list of movies\n",
    "for node in in_stat:\n",
    "    if G.nodes[node][\"node_type\"] == \"movie\":\n",
    "        top_movies.append(node)\n",
    "        \n",
    "# print top tens\n",
    "\n",
    "# users with highest number of ratings\n",
    "rich.print(f\"[bold]Users with highest amount of reviewed movies:\")\n",
    "for i, user in enumerate(top_users[:10]):\n",
    "    # variable number of text space to make neat layout\n",
    "    space = \" \"*(25-len(user))\n",
    "    print(f\"{i+1}. {user[:-2]}\", space, f\"-> {out_stat[user]} review\")\n",
    "\n",
    "# users with lowest number of ratings\n",
    "rich.print(f\"[bold]Users with lowest amount of reviewed movies:\")\n",
    "for user in top_users[-10:]:\n",
    "    # variable number of text space to make neat layout\n",
    "    space = \" \"*(25-len(user))\n",
    "    print(f\"{user[:-2]}\", space, f\"-> {out_stat[user]} reviews\")\n",
    "\n",
    "# movies with highest number of ratings\n",
    "rich.print(f\"[bold]Movies with highest number of reviews:\")\n",
    "for i, movie in enumerate(top_movies[:10]):\n",
    "    # variable number of text space to make neat layout\n",
    "    space = \" \"*(50-len(movie))\n",
    "    print(f\"{i+1}. {movie[:-2]}\", space, f\"-> {in_stat[movie]} reviews\")\n",
    "\n",
    "# movies with lowest number of ratings\n",
    "rich.print(f\"[bold]Movies with lowest number of reviews:\")\n",
    "for i, movie in enumerate(reversed(top_movies[-10:])):\n",
    "    # variable number of text space to make neat layout\n",
    "    space = \" \"*(50-len(movie))\n",
    "    print(f\"{i+1}. {movie[:-2]}\", space, f\"-> {in_stat[movie]} reviews\")"
   ]
  },
  {
   "cell_type": "markdown",
   "id": "e908bc95",
   "metadata": {},
   "source": [
    "### Network visualisation\n",
    "\n",
    "Since designed network may be is tremendous, visualising it with use of standard python libraries and available computational resources may be nearly impossible. Therefore for imaging purposes truncated sample network will be created, with much smaller number of nodes and edges. Network will be visualised with pyvis tool, therefore some naming rules will be changed, to make visualisation more clear. This part won't be considered as our developed network, the subnetwork is made solely and exclusively for graph drawing."
   ]
  },
  {
   "cell_type": "code",
   "execution_count": 164,
   "id": "c6c8cd3c",
   "metadata": {
    "scrolled": true
   },
   "outputs": [],
   "source": [
    "# graph properties\n",
    "\n",
    "# number of user nodes\n",
    "un = 200                   \n",
    "# number of movie nodes\n",
    "mn = 200\n",
    "# size scaling factor\n",
    "ssf = 20"
   ]
  },
  {
   "cell_type": "code",
   "execution_count": 165,
   "id": "d3cc9d90",
   "metadata": {
    "scrolled": true
   },
   "outputs": [
    {
     "data": {
      "text/html": [
       "<pre style=\"white-space:pre;overflow-x:auto;line-height:normal;font-family:Menlo,'DejaVu Sans Mono',consolas,'Courier New',monospace\">DiGraph with <span style=\"color: #008080; text-decoration-color: #008080; font-weight: bold\">400</span> nodes and <span style=\"color: #008080; text-decoration-color: #008080; font-weight: bold\">2298</span> edges\n",
       "</pre>\n"
      ],
      "text/plain": [
       "DiGraph with \u001b[1;36m400\u001b[0m nodes and \u001b[1;36m2298\u001b[0m edges\n"
      ]
     },
     "metadata": {},
     "output_type": "display_data"
    },
    {
     "data": {
      "text/html": [
       "<pre style=\"white-space:pre;overflow-x:auto;line-height:normal;font-family:Menlo,'DejaVu Sans Mono',consolas,'Courier New',monospace\">Number of user nodes: <span style=\"color: #008080; text-decoration-color: #008080; font-weight: bold\">200</span>\n",
       "</pre>\n"
      ],
      "text/plain": [
       "Number of user nodes: \u001b[1;36m200\u001b[0m\n"
      ]
     },
     "metadata": {},
     "output_type": "display_data"
    },
    {
     "data": {
      "text/html": [
       "<pre style=\"white-space:pre;overflow-x:auto;line-height:normal;font-family:Menlo,'DejaVu Sans Mono',consolas,'Courier New',monospace\">Number of movie nodes: <span style=\"color: #008080; text-decoration-color: #008080; font-weight: bold\">200</span>\n",
       "</pre>\n"
      ],
      "text/plain": [
       "Number of movie nodes: \u001b[1;36m200\u001b[0m\n"
      ]
     },
     "metadata": {},
     "output_type": "display_data"
    }
   ],
   "source": [
    "# create truncated network with 100 nodes as indirected graph structure\n",
    "GT = nx.DiGraph()\n",
    "\n",
    "# add user nodes to the network\n",
    "for _, users in user_nodes.head(un).iterrows():\n",
    "    GT.add_node(users[\"username\"],\n",
    "               group = \"user\")\n",
    "    \n",
    "# add movie nodes to the network\n",
    "for _, movie in movie_nodes.sample(mn).iterrows():\n",
    "    GT.add_node(movie[\"title\"],\n",
    "                sentiment = movie[\"avg_sen\"], \n",
    "                rating = movie[\"avg_rat\"],  \n",
    "                group = \"movie\")\n",
    "    \n",
    "# add edges to the network\n",
    "for _, edge in edges.iterrows():\n",
    "    # sanity check whether such nodes exist in graph\n",
    "    if (GT.has_node(edge[\"from\"]) and GT.has_node(edge[\"to\"])):\n",
    "        # add the edge to the network\n",
    "        GT.add_edge(edge[\"from\"], edge[\"to\"])\n",
    "        \n",
    "# assign size to each node based on in/out degree size\n",
    "for node in GT.nodes():\n",
    "    size = GT.in_degree(node) + GT.out_degree(node)\n",
    "    GT.nodes[node][\"size\"] = size * ssf                   # size scaled by factor 5 to make nodes more visible\n",
    "\n",
    "# print statistics\n",
    "rich.print(GT)\n",
    "\n",
    "# count number of nodes in each group\n",
    "u_nodes = 0\n",
    "m_nodes = 0\n",
    "for node in GT.nodes():\n",
    "    if GT.nodes[node][\"group\"] == \"user\":\n",
    "        u_nodes += 1\n",
    "    else:\n",
    "        m_nodes += 1\n",
    "\n",
    "rich.print(f\"Number of user nodes: {u_nodes}\")\n",
    "rich.print(f\"Number of movie nodes: {m_nodes}\")"
   ]
  },
  {
   "cell_type": "markdown",
   "id": "9f0aec97",
   "metadata": {},
   "source": [
    "Network graph generation may take some time. Furthermore following message may appear: \n",
    "\n",
    "<font color='red'>Local cdn resources have problems on chrome/safari when used in jupyter notebook.</font>\n",
    "    \n",
    "Above message should be ignored. Even though it appears, graph visualisation will appear after a while. By embedding pyvis in jupyter notebook some of the interesting features of package can not be used. While rendering figure from generated html file, adding kwargs in fucntion definition [*select\\_menu = True, filter\\_menu = True*] allows user to investigate connections between chosen nodes and selected nodes themselves. In second part of a code .html file will be created in current workng directory. After opening the file locally from file explorer it will be embedded on default browser. There all features of pyvis may be used. \n",
    "\n",
    "<b>CONCLUSION NOTE:</b>\n",
    "\n",
    "3 cells below aren't required to be run, they can be omited directly through \"Communities\" part. Instead .html files contained in Network file can be opened in browser without executing code. Code execution of first cell after a little amount of time will print the same network as in generated .html file, but just in Jupyter console. "
   ]
  },
  {
   "cell_type": "code",
   "execution_count": 166,
   "id": "a24c5718",
   "metadata": {
    "scrolled": false
   },
   "outputs": [
    {
     "data": {
      "text/html": [
       "<pre style=\"white-space:pre;overflow-x:auto;line-height:normal;font-family:Menlo,'DejaVu Sans Mono',consolas,'Courier New',monospace\"><span style=\"font-weight: bold\">Nodes and their colours legend:</span>\n",
       "</pre>\n"
      ],
      "text/plain": [
       "\u001b[1mNodes and their colours legend:\u001b[0m\n"
      ]
     },
     "metadata": {},
     "output_type": "display_data"
    },
    {
     "data": {
      "text/html": [
       "<pre style=\"white-space:pre;overflow-x:auto;line-height:normal;font-family:Menlo,'DejaVu Sans Mono',consolas,'Courier New',monospace\"><span style=\"color: #000080; text-decoration-color: #000080\">BLUE </span><span style=\"color: #000000; text-decoration-color: #000000\">nodes are users</span>\n",
       "<span style=\"color: #808000; text-decoration-color: #808000\">YELLOW </span><span style=\"color: #000000; text-decoration-color: #000000\">nodes are movies</span>\n",
       "</pre>\n"
      ],
      "text/plain": [
       "\u001b[34mBLUE \u001b[0m\u001b[30mnodes are users\u001b[0m\n",
       "\u001b[33mYELLOW \u001b[0m\u001b[30mnodes are movies\u001b[0m\n"
      ]
     },
     "metadata": {},
     "output_type": "display_data"
    }
   ],
   "source": [
    "rich.print(f\"[bold]Nodes and their colours legend:\")\n",
    "rich.print(f\"[blue]BLUE [black]nodes are users\\n[yellow]YELLOW [black]nodes are movies\")"
   ]
  },
  {
   "cell_type": "code",
   "execution_count": 167,
   "id": "1bdd4a4f",
   "metadata": {},
   "outputs": [
    {
     "name": "stdout",
     "output_type": "stream",
     "text": [
      "Local cdn resources have problems on chrome/safari when used in jupyter-notebook. \n"
     ]
    },
    {
     "data": {
      "text/html": [
       "\n",
       "        <iframe\n",
       "            width=\"900\"\n",
       "            height=\"900\"\n",
       "            src=\"jupyter_net.html\"\n",
       "            frameborder=\"0\"\n",
       "            allowfullscreen\n",
       "            \n",
       "        ></iframe>\n",
       "        "
      ],
      "text/plain": [
       "<IPython.lib.display.IFrame at 0x1ab092d2640>"
      ]
     },
     "execution_count": 167,
     "metadata": {},
     "output_type": "execute_result"
    }
   ],
   "source": [
    "net = Network(height = 900, width = 900, notebook = True)\n",
    "net.toggle_hide_edges_on_drag(True)\n",
    "net.barnes_hut()\n",
    "net.from_nx(GT)\n",
    "net.show(\"jupyter_net.html\")"
   ]
  },
  {
   "cell_type": "code",
   "execution_count": 168,
   "id": "11e0746a",
   "metadata": {
    "scrolled": true
   },
   "outputs": [],
   "source": [
    "# saving network with filters to html file\n",
    "net2 = Network(height = 900, width = 900, select_menu = True, filter_menu = True)\n",
    "net2.barnes_hut()\n",
    "net2.from_nx(GT)\n",
    "net2.show_buttons(filter_ = [\"physics\"])\n",
    "net2.show(\"localhost_net.html\")"
   ]
  },
  {
   "cell_type": "markdown",
   "id": "34d1e1dd",
   "metadata": {},
   "source": [
    "### Communities\n",
    "\n",
    "Communities will be calculated based on Girvan-Newman algorithm. (may take some time)\n",
    "\n",
    "Since the network is containing both user and movies nodes, initial comunnities division will be among all nodes, but then for user community investigation filter will be applied, that will leave only users inside the communities. Furthermore, the communities will be calculated on truncated network, to make them easier to read. Original network contains too many nodes and community estimation took tremendous amount of time."
   ]
  },
  {
   "cell_type": "code",
   "execution_count": 180,
   "id": "001beab5",
   "metadata": {},
   "outputs": [],
   "source": [
    "def get_usr(community: nx.algorithms.community) -> nx.algorithms.community:\n",
    "    \"\"\"\n",
    "    This function is deleting all non user members (therefore movies) of communitiy object in NetworkX and returning cleaned\n",
    "    community afterwards.\n",
    "    \"\"\"\n",
    "    for comm in community:\n",
    "        to_remove = []\n",
    "        for member in comm:\n",
    "            if member[-2:] == \"_m\":\n",
    "                to_remove.append(member)\n",
    "        for member in to_remove:\n",
    "            comm.remove(member)\n",
    "    community = tuple(user for user in community if user != [])\n",
    "    return community\n",
    "\n",
    "# calculate community\n",
    "c_gn = nx.algorithms.community.centrality.girvan_newman(GT)\n",
    "\n",
    "best_community_gn = tuple(sorted(c) for c in next(c_gn))"
   ]
  },
  {
   "cell_type": "code",
   "execution_count": 181,
   "id": "8f7d14b0",
   "metadata": {},
   "outputs": [
    {
     "data": {
      "text/html": [
       "<pre style=\"white-space:pre;overflow-x:auto;line-height:normal;font-family:Menlo,'DejaVu Sans Mono',consolas,'Courier New',monospace\"><span style=\"color: #800000; text-decoration-color: #800000; font-weight: bold\">Number of communities within the best distribution: </span><span style=\"color: #800000; text-decoration-color: #800000; font-weight: bold\">2</span>\n",
       "</pre>\n"
      ],
      "text/plain": [
       "\u001b[1;31mNumber of communities within the best distribution: \u001b[0m\u001b[1;31m2\u001b[0m\n"
      ]
     },
     "metadata": {},
     "output_type": "display_data"
    },
    {
     "data": {
      "text/html": [
       "<pre style=\"white-space:pre;overflow-x:auto;line-height:normal;font-family:Menlo,'DejaVu Sans Mono',consolas,'Courier New',monospace\"><span style=\"color: #800000; text-decoration-color: #800000; font-weight: bold\">Best distributed communities:</span>\n",
       "</pre>\n"
      ],
      "text/plain": [
       "\u001b[1;31mBest distributed communities:\u001b[0m\n"
      ]
     },
     "metadata": {},
     "output_type": "display_data"
    },
    {
     "name": "stdout",
     "output_type": "stream",
     "text": [
      "['10 Cloverfield Lane_m', '10 Things I Hate About You_m', '12 Angry Men_m', '1408_m', '1941_m', '2001: A Space Odyssey_m', '30 Days of Night_m', '3xHCCH_u', '50 First Dates_m', '851222_u', 'A_Different_Drummer_u', 'Aaron1375_u', 'About Time_m', 'Alien: Resurrection_m', 'Aliens_m', 'Amadeus_m', 'American Gangster_m', 'American Hustle_m', 'American Pie_m', 'American Psycho_m', 'Anonymous_Maxine_u', 'Antz_m', 'Apocalypse Now_m', 'Atonement_m', 'BA_Harrison_u', 'Bad Teacher_m', 'Beetlejuice_m', 'Before Sunset_m', 'Begin Again_m', 'Black Hawk Down_m', 'Boba_Fett1138_u', 'Bolt_m', 'Bored_Dragon_u', 'Bridge of Spies_m', 'Buddy-51_u', 'Butch Cassidy and the Sundance Kid_m', 'Captain America: The Winter Soldier_m', 'Cars_m', 'Casino Royale_m', 'Casino_m', 'Catch Me If You Can_m', 'Charlie and the Chocolate Factory_m', 'Chris_Docker_u', 'CinematicInceptions_u', 'Clash of the Titans_m', 'Cold Mountain_m', 'Collateral_m', 'Concussion_m', 'Control_m', 'Crash_m', 'DICK STEEL_u', 'DKosty123_u', 'Dallas Buyers Club_m', 'DarkVulcan29_u', 'Days of Thunder_m', 'Desertman84_u', 'Die Hard_m', 'Divergent_m', 'Dr. Strangelove or: How I Learned to Stop Worrying and Love the Bomb_m', 'Dr_Coulardeau_u', 'Drag Me to Hell_m', 'Drive_m', 'EUyeshima_u', 'Ed Wood_m', 'EijnarAmadeus_u', 'ElMaruecan82_u', 'Electrified_Voltage_u', 'Elswet_u', 'Enchanted_m', 'Enchorde_u', 'Fantastic Four_m', 'Fast Five_m', 'FeastMode_u', 'Finding Nemo_m', 'Finding Neverland_m', 'FlashCallahan_u', 'Floated2_u', 'Fluke_Skywalker_u', 'From Dusk Till Dawn_m', 'From Hell_m', 'From Here to Eternity_m', 'Frozen_m', 'Get Him to the Greek_m', 'Gettysburg_m', 'Ghost Rider_m', 'GiraffeDoor_u', 'Glory Road_m', 'Gravity_m', \"Hart's War_m\", 'Hellboy II: The Golden Army_m', 'Hellboy_m', 'Hellmant_u', 'Hitch_m', 'Hitchcoc_u', 'Horst_In_Translation_u', 'Hot Fuzz_m', 'Hot Rod_m', 'Hotel Rwanda_m', 'How to Train Your Dragon 2_m', 'Hugo_m', 'Hustle & Flow_m', 'Ice Age_m', 'If I Stay_m', 'In the Land of Blood and Honey_m', 'Inception_m', 'Inside Llewyn Davis_m', 'Insidious_m', 'Iron Man 2_m', 'Iron Man 3_m', \"It's a Wonderful Life_m\", 'JFK_m', 'JamesHitchcock_u', 'Jarhead_m', 'Judgment at Nuremberg_m', 'KineticSeoul_u', 'Knowing_m', 'Law Abiding Citizen_m', 'Lawrence of Arabia_m', 'Legend_m', 'Lejink_u', 'Leofwine_draca_u', 'LeonLouisRicci_u', 'Luigi Di Pilla_u', 'MLDinTN_u', 'MR_Heraclius_u', \"Madagascar 3: Europe's Most Wanted_m\", 'Madagascar: Escape 2 Africa_m', 'Mamma Mia!_m', 'Man on Fire_m', 'MartinHafer_u', 'Match Point_m', 'Matt_Layden_u', 'MaxBorg89_u', 'McFarland, USA_m', 'Megamind_m', 'Men in Black 3_m', 'Men in Black_m', 'Million Dollar Arm_m', 'Million Dollar Baby_m', 'Mission: Impossible III_m', 'Mission: Impossible_m', 'Moon_m', 'Moonrise Kingdom_m', 'MovieAddict2016_u', 'Movie_Muse_Reviews_u', 'Mr-Fusion_u', 'Muhammad_Rafeeq_u', 'Munich_m', 'Nacho Libre_m', 'Never Back Down_m', 'No Country for Old Men_m', \"Ocean's Thirteen_m\", \"Ocean's Twelve_m\", 'OllieSuave-007_u', 'OriginalMovieBuff21_u', 'P.S. I Love You_m', 'PWNYCNY_u', 'Paranormal Activity_m', 'Patton_m', \"Pirates of the Caribbean: At World's End_m\", 'Pitch Black_m', 'Pjtaylor-96-138044_u', 'Point Break_m', 'Prince of Persia: The Sands of Time_m', 'Prismark10_u', 'Prisoners_m', 'Prometheus_m', 'Puss in Boots_m', 'Quinoa1984_u', 'Rise of the Guardians_m', 'Rise of the Planet of the Apes_m', 'Robert_duder_u', 'Room_m', \"Rosemary's Baby_m\", 'Ryan_MYeah_u', 'Sandcooler_u', 'Sausage Party_m', 'Saving Private Ryan_m', 'Scream 2_m', 'Scream_m', 'Screen_Blitz_u', 'Se7en_m', 'Selma_m', 'Semi-Pro_m', 'Seraphion_u', 'Shakespeare in Love_m', 'Shark Tale_m', 'Sicario_m', 'Silver Linings Playbook_m', 'Sirus_the_Virus_u', 'Slumdog Millionaire_m', 'Smells_Like_Cheese_u', 'SmileysWorld_u', 'Snatch_m', 'SnoopyStyle_u', 'South Park: Bigger, Longer & Uncut_m', 'Southpaw_m', 'Speed_m', 'Spider-Man_m', 'Stampsfightclub_u', 'StevePulaski_u', 'Stop-Loss_m', 'Suicide Squad_m', 'Superbad_m', 'TBJCSKCNRRQTreviews_u', 'TOMNEL_u', 'Taken 2_m', 'Terminator Salvation_m', 'Thanos_Alfie_u', 'The Adventures of Tintin_m', 'The Amazing Spider-Man_m', 'The Best Years of Our Lives_m', 'The Big Lebowski_m', 'The Bodyguard_m', 'The Book Thief_m', 'The Bourne Supremacy_m', 'The Chronicles of Narnia: The Lion, the Witch and the Wardrobe_m', 'The Color of Money_m', 'The Curious Case of Benjamin Button_m', 'The Da Vinci Code_m', 'The Descent_m', 'The Expendables_m', 'The Fountain_m', 'The Girl with the Dragon Tattoo_m', 'The Godfather: Part II_m', 'The Incredibles_m', 'The Insider_m', 'The Italian Job_m', 'The Lord of the Rings: The Two Towers_m', 'The Machinist_m', 'The Mask_m', 'The Matrix_m', 'The Notebook_m', 'The Other Boleyn Girl_m', 'The Piano_m', 'The Purge_m', 'The Reader_m', 'The Replacements_m', 'The Rock_m', 'The Secret Life of Pets_m', 'The Silence of the Lambs_m', 'The Terminal_m', 'The Town_m', 'The Twilight Saga: Breaking Dawn - Part 2_m', 'The Twilight Saga: New Moon_m', 'The Ugly Truth_m', 'The Woman in Black_m', 'The Young Victoria_m', 'The-Sarkologist_u', 'TheLittleSongbird_u', 'TheMovieDiorama_u', 'TheUnknown837-1_u', 'The_Void_u', 'Theo Robertson_u', 'ThomasDrufke_u', 'Tombstone_m', 'Toy Story 3_m', 'Transformers: Revenge of the Fallen_m', 'Tropic Thunder_m', 'Troy_Campbell_u', 'Tweekums_u', 'United 93_m', 'Unknown_m', 'Uriah43_u', 'V for Vendetta_m', 'Valkyrie_m', 'Vanilla Sky_m', 'Vicky Cristina Barcelona_m', 'Warcraft_m', 'We Were Soldiers_m', 'Whiplash_m', 'Woman in Gold_m', 'Wuchakk_u', 'X-Men: First Class_m', 'Zombieland_m', 'Zulu_m', 'aharmas_u', 'alansabljakovic-39044_u', 'alindsay-al_u', 'anaconda-40658_u', 'antoniotierno_u', 'areatw_u', 'bevo-13678_u', 'billcr12_u', 'billygoat1071_u', 'bkoganbing_u', 'blanbrn_u', 'blanche-2_u', 'bob-rutzel-1_u', 'bowmanblue_u', 'brando647_u', 'callanvass_u', 'capone666_u', 'ccthemovieman-1_u', 'cherold_u', 'classicsoncall_u', 'claudio_carvalho_u', 'cosmo_tiger_u', 'cricketbat_u', 'davideo-2_u', 'davispittman_u', 'dbborroughs_u', 'dee.reid_u', 'denis888_u', 'dfranzen70_u', 'diac228_u', 'dilipbts_u', 'disdressed12_u', 'dromasca_u', 'drqshadow-reviews_u', 'dunmore_ego_u', 'dwpollar_u', 'eddie_baggins_u', 'edwagreen_u', 'eric262003_u', 'estebangonzalez10_u', 'evanston_dad_u', 'ferguson-6_u', 'filipemanuelneto_u', 'freemantle_uk_u', 'funkyfry_u', 'fwomp_u', 'g-bodyl_u', 'gavin6942_u', 'george.schmidt_u', 'gradyharp_u', 'grantss_u', 'griffolyon12_u', 'hitchcockthelegend_u', 'inkblot11_u', 'invisibleunicornninja_u', 'ironhorse_iv_u', 'jacobjohntaylor1_u', 'jadepietro_u', 'jaredmobarak_u', 'jaybob_u', 'jboothmillard_u', 'jdkraus_u', 'jimbo-53-186511_u', 'johnnyboyz_u', 'jon.h.ochiai_u', 'jtindahouse_u', 'juneebuggy_u', 'jzappa_u', 'kenjha_u', 'kosmasp_u', 'lastliberal_u', 'lasttimeisaw_u', 'lee_eisenberg_u', 'leonblackwood_u', 'leplatypus_u', 'lesleyharris30_u', 'lewiskendell_u', 'lisafordeay_u', 'ma-cortes_u', 'marmar-69780_u', 'matthewssilverhammer_u', 'meeza_u', 'michaelRokeefe_u', 'michaeltrivedi_u', 'miguelneto-74936_u', 'mjw2305_u', 'mm-39_u', 'moonspinner55_u', 'movieman_kev_u', 'moviewizguy_u', 'namashi_1_u', 'neil-476_u', 'nogodnomasters_u', 'noralee_u', 'paul2001sw-1_u', 'paulclaassen_u', 'pc95_u', 'petarmatic_u', 'phd_travel_u', 'preppy-3_u', 'rmax304823_u', 'sauravjoshi85_u', 'sddavis63_u', 'secondtake_u', 'siderite_u', 'slightlymad22_u', 'slokes_u', 'sme_no_densetsu_u', 'studioAT_u', 'tabuno_u', 'tavm_u', 'taylorkingston_u', 'thesar-2_u', 'thinker1691_u', 'tomgillespie2002_u', 'utgard14_u', 'view_and_review_u', 'vithiet_u', 'wes-connors_u', 'writers_reign_u', 'zardoz-13_u', 'zetes_u', 'zkonedog_u'], \n",
      "\n",
      "\n",
      "['agmoldham_u'], \n",
      "\n",
      "\n"
     ]
    }
   ],
   "source": [
    "rich.print(f\"[bold][red]Number of communities within the best distribution: {len(best_community_gn)}\")\n",
    "rich.print(f\"[bold][red]Best distributed communities:\")\n",
    "for i in best_community_gn:\n",
    "    print(f\"{i}, \\n\\n\")"
   ]
  },
  {
   "cell_type": "code",
   "execution_count": 182,
   "id": "38df3e59",
   "metadata": {
    "scrolled": true
   },
   "outputs": [
    {
     "data": {
      "text/html": [
       "<pre style=\"white-space:pre;overflow-x:auto;line-height:normal;font-family:Menlo,'DejaVu Sans Mono',consolas,'Courier New',monospace\"><span style=\"color: #800000; text-decoration-color: #800000; font-weight: bold\">Number of communities within the best distribution: </span><span style=\"color: #800000; text-decoration-color: #800000; font-weight: bold\">2</span>\n",
       "</pre>\n"
      ],
      "text/plain": [
       "\u001b[1;31mNumber of communities within the best distribution: \u001b[0m\u001b[1;31m2\u001b[0m\n"
      ]
     },
     "metadata": {},
     "output_type": "display_data"
    },
    {
     "data": {
      "text/html": [
       "<pre style=\"white-space:pre;overflow-x:auto;line-height:normal;font-family:Menlo,'DejaVu Sans Mono',consolas,'Courier New',monospace\"><span style=\"color: #800000; text-decoration-color: #800000; font-weight: bold\">Best distributed communities:</span>\n",
       "</pre>\n"
      ],
      "text/plain": [
       "\u001b[1;31mBest distributed communities:\u001b[0m\n"
      ]
     },
     "metadata": {},
     "output_type": "display_data"
    },
    {
     "name": "stdout",
     "output_type": "stream",
     "text": [
      "['3xHCCH_u', '851222_u', 'A_Different_Drummer_u', 'Aaron1375_u', 'Anonymous_Maxine_u', 'BA_Harrison_u', 'Boba_Fett1138_u', 'Bored_Dragon_u', 'Buddy-51_u', 'Chris_Docker_u', 'CinematicInceptions_u', 'DICK STEEL_u', 'DKosty123_u', 'DarkVulcan29_u', 'Desertman84_u', 'Dr_Coulardeau_u', 'EUyeshima_u', 'EijnarAmadeus_u', 'ElMaruecan82_u', 'Electrified_Voltage_u', 'Elswet_u', 'Enchorde_u', 'FeastMode_u', 'FlashCallahan_u', 'Floated2_u', 'Fluke_Skywalker_u', 'GiraffeDoor_u', 'Hellmant_u', 'Hitchcoc_u', 'Horst_In_Translation_u', 'JamesHitchcock_u', 'KineticSeoul_u', 'Lejink_u', 'Leofwine_draca_u', 'LeonLouisRicci_u', 'Luigi Di Pilla_u', 'MLDinTN_u', 'MR_Heraclius_u', 'MartinHafer_u', 'Matt_Layden_u', 'MaxBorg89_u', 'MovieAddict2016_u', 'Movie_Muse_Reviews_u', 'Mr-Fusion_u', 'Muhammad_Rafeeq_u', 'OllieSuave-007_u', 'OriginalMovieBuff21_u', 'PWNYCNY_u', 'Pjtaylor-96-138044_u', 'Prismark10_u', 'Quinoa1984_u', 'Robert_duder_u', 'Ryan_MYeah_u', 'Sandcooler_u', 'Screen_Blitz_u', 'Seraphion_u', 'Sirus_the_Virus_u', 'Smells_Like_Cheese_u', 'SmileysWorld_u', 'SnoopyStyle_u', 'Stampsfightclub_u', 'StevePulaski_u', 'TBJCSKCNRRQTreviews_u', 'TOMNEL_u', 'Thanos_Alfie_u', 'The-Sarkologist_u', 'TheLittleSongbird_u', 'TheMovieDiorama_u', 'TheUnknown837-1_u', 'The_Void_u', 'Theo Robertson_u', 'ThomasDrufke_u', 'Troy_Campbell_u', 'Tweekums_u', 'Uriah43_u', 'Wuchakk_u', 'aharmas_u', 'alansabljakovic-39044_u', 'alindsay-al_u', 'anaconda-40658_u', 'antoniotierno_u', 'areatw_u', 'bevo-13678_u', 'billcr12_u', 'billygoat1071_u', 'bkoganbing_u', 'blanbrn_u', 'blanche-2_u', 'bob-rutzel-1_u', 'bowmanblue_u', 'brando647_u', 'callanvass_u', 'capone666_u', 'ccthemovieman-1_u', 'cherold_u', 'classicsoncall_u', 'claudio_carvalho_u', 'cosmo_tiger_u', 'cricketbat_u', 'davideo-2_u', 'davispittman_u', 'dbborroughs_u', 'dee.reid_u', 'denis888_u', 'dfranzen70_u', 'diac228_u', 'dilipbts_u', 'disdressed12_u', 'dromasca_u', 'drqshadow-reviews_u', 'dunmore_ego_u', 'dwpollar_u', 'eddie_baggins_u', 'edwagreen_u', 'eric262003_u', 'estebangonzalez10_u', 'evanston_dad_u', 'ferguson-6_u', 'filipemanuelneto_u', 'freemantle_uk_u', 'funkyfry_u', 'fwomp_u', 'g-bodyl_u', 'gavin6942_u', 'george.schmidt_u', 'gradyharp_u', 'grantss_u', 'griffolyon12_u', 'hitchcockthelegend_u', 'inkblot11_u', 'invisibleunicornninja_u', 'ironhorse_iv_u', 'jacobjohntaylor1_u', 'jadepietro_u', 'jaredmobarak_u', 'jaybob_u', 'jboothmillard_u', 'jdkraus_u', 'jimbo-53-186511_u', 'johnnyboyz_u', 'jon.h.ochiai_u', 'jtindahouse_u', 'juneebuggy_u', 'jzappa_u', 'kenjha_u', 'kosmasp_u', 'lastliberal_u', 'lasttimeisaw_u', 'lee_eisenberg_u', 'leonblackwood_u', 'leplatypus_u', 'lesleyharris30_u', 'lewiskendell_u', 'lisafordeay_u', 'ma-cortes_u', 'marmar-69780_u', 'matthewssilverhammer_u', 'meeza_u', 'michaelRokeefe_u', 'michaeltrivedi_u', 'miguelneto-74936_u', 'mjw2305_u', 'mm-39_u', 'moonspinner55_u', 'movieman_kev_u', 'moviewizguy_u', 'namashi_1_u', 'neil-476_u', 'nogodnomasters_u', 'noralee_u', 'paul2001sw-1_u', 'paulclaassen_u', 'pc95_u', 'petarmatic_u', 'phd_travel_u', 'preppy-3_u', 'rmax304823_u', 'sauravjoshi85_u', 'sddavis63_u', 'secondtake_u', 'siderite_u', 'slightlymad22_u', 'slokes_u', 'sme_no_densetsu_u', 'studioAT_u', 'tabuno_u', 'tavm_u', 'taylorkingston_u', 'thesar-2_u', 'thinker1691_u', 'tomgillespie2002_u', 'utgard14_u', 'view_and_review_u', 'vithiet_u', 'wes-connors_u', 'writers_reign_u', 'zardoz-13_u', 'zetes_u', 'zkonedog_u']\n",
      "\n",
      "\n",
      "['agmoldham_u']\n",
      "\n",
      "\n"
     ]
    }
   ],
   "source": [
    "# extracting users communities\n",
    "com_gn = get_usr(best_community_gn)\n",
    "rich.print(f\"[bold][red]Number of communities within the best distribution: {len(com_gn)}\")\n",
    "rich.print(f\"[bold][red]Best distributed communities:\")\n",
    "for i in com_gn:\n",
    "    print(f\"{i}\\n\\n\")"
   ]
  },
  {
   "cell_type": "markdown",
   "id": "239b4053",
   "metadata": {},
   "source": [
    "Because of the network being truncated and also containing 2 types of nodes, where we consider all of them while computing communities, the results often are one huge community and lots of singleton communities. This distribution would look much better if whole dataset of reviews would be initially included, but computations time would increase tremendously for all parts included in this project. "
   ]
  },
  {
   "cell_type": "markdown",
   "id": "8db74a46",
   "metadata": {},
   "source": [
    "## Similar users and frequent movie pairs\n",
    "\n",
    "In this part similar users based on Jaccard similarity and frequent movies reviewed by specific users will be investigated. Initially all singletons will be hashed. Both for users set and movies set, to make all computations significantly faster. Generating movie_baskets dictionary may take some time. "
   ]
  },
  {
   "cell_type": "code",
   "execution_count": 20,
   "id": "fa04aa3a",
   "metadata": {},
   "outputs": [],
   "source": [
    "# hash users - hash by assigning each user a numerical value\n",
    "users = dict()\n",
    "i = 0\n",
    "for user in net_data.username.unique():\n",
    "    users[user] = i\n",
    "    i += 1\n",
    "\n",
    "# hash movies\n",
    "movies = dict()\n",
    "i = 0\n",
    "for title in net_data.title.unique():\n",
    "    movies[title] = i\n",
    "    i += 1"
   ]
  },
  {
   "cell_type": "markdown",
   "id": "643dd663",
   "metadata": {},
   "source": [
    "Movie basket dataframe, containing all hashed users along with lists of all rated by them movies (also hashed) was prepared and exported earlier, since it takes significant amount of time to do this in code. Following code was used to export this data:\n",
    "```python\n",
    "export = defaultdict(list)\n",
    "for user in net_data.username.unique():\n",
    "    user_hash = users[user]\n",
    "    for i in net_data.index:\n",
    "        if net_data.loc[i, 'username'] == user:\n",
    "            movie_hash = movies[net_data.loc[i, \"title\"]]\n",
    "            export[user_hash].append(movie_hash)\n",
    "\n",
    "# save as json file\n",
    "json.dump(export, open(\"network_data/movie_basket.json\", 'w'))\n",
    "```"
   ]
  },
  {
   "cell_type": "code",
   "execution_count": 21,
   "id": "29769ca0",
   "metadata": {},
   "outputs": [],
   "source": [
    "# import prepared data\n",
    "movie_baskets = json.load(open(\"network_data/movie_basket.json\"))"
   ]
  },
  {
   "cell_type": "markdown",
   "id": "aa4bdf22",
   "metadata": {},
   "source": [
    "### Similar users\n",
    "\n",
    "Jaccard similarity funciton will be implemented and than all similarities between users will be calculated. Since some users have much more reviews than others, some modification in Jaccard similarity could have been implemented, in order to benefit those having lots of movies in common, when they have more ratings than for example users that have 2 movies out of 2 rated in common (in this case Jaccard similarity would be 1). Since our data was selected in a specific manner, users will be compared only if at least one of them have 5 reviews. Calculation of similarity matrix may take some time, since there are more than $0.5*10000^2$ entries to calculate."
   ]
  },
  {
   "cell_type": "code",
   "execution_count": 22,
   "id": "490782b7",
   "metadata": {},
   "outputs": [],
   "source": [
    "def Jaccard_similarity(user_1: int, user_2: int) -> int:\n",
    "    \"\"\"\n",
    "    Jaccard_similarity between 2 users calculator. It does not consider 5 movies threshold described above,\n",
    "    since this will be implemented in code while calculating all similarities.\n",
    "    \"\"\"\n",
    "    # common movies for both users (intersection of set)\n",
    "    common = len(set(movie_baskets[user_1]).intersection(movie_baskets[user_2]))\n",
    "    # all movies both users reviewed (union of set)\n",
    "    union = len(set(movie_baskets[user_1]).union(movie_baskets[user_2]))\n",
    "    return common/union    "
   ]
  },
  {
   "cell_type": "code",
   "execution_count": 23,
   "id": "694e0cf6",
   "metadata": {},
   "outputs": [],
   "source": [
    "# create matrix storing all similarities between users\n",
    "similarities = np.zeros([len(users), len(users)])\n",
    "# iterate through users\n",
    "iter_list = list(movie_baskets.keys())\n",
    "# reviews threshold \n",
    "rev_tr = 5\n",
    "\n",
    "# filling the matrix with Jaccard similarities but only if described condition is met (5 movies)\n",
    "for user_1 in iter_list:\n",
    "    # since calculating Jaccard similarity between 2 items is commutative operation it is prevented to do it twice\n",
    "    buffer = int(user_1) + 1\n",
    "    for user_2 in iter_list[buffer:]:\n",
    "        if len(movie_baskets[user_1]) >= rev_tr or len(movie_baskets[user_2]) >= rev_tr:\n",
    "            similarities[int(user_1), int(user_2)] = Jaccard_similarity(user_1, user_2) \n",
    "        else:\n",
    "            similarities[int(user_1), int(user_2)] = 0 "
   ]
  },
  {
   "cell_type": "markdown",
   "id": "450abd56",
   "metadata": {},
   "source": [
    "Then top 10 pairs of similar users based on Jaccard similarity can be extracted, along with movies they reviewed, by searching for highest similarities and unhashing encoding functions. "
   ]
  },
  {
   "cell_type": "code",
   "execution_count": 49,
   "id": "56deeaa9",
   "metadata": {},
   "outputs": [],
   "source": [
    "# define function for returning row and col index from row-major coordinate\n",
    "def retr_coor(val: int, dim: int) -> [int, int]:\n",
    "    \"\"\"\n",
    "    This function takes absolute coordinate value in row-major form from numpy array and converts it to row index and column\n",
    "    index representation of this value.\n",
    "    \"\"\"\n",
    "    row_coor = int(np.floor(val/dim))\n",
    "    col_coor = val % dim\n",
    "    return row_coor, col_coor"
   ]
  },
  {
   "cell_type": "code",
   "execution_count": 50,
   "id": "e53e20a2",
   "metadata": {
    "scrolled": false
   },
   "outputs": [
    {
     "data": {
      "text/html": [
       "<pre style=\"white-space:pre;overflow-x:auto;line-height:normal;font-family:Menlo,'DejaVu Sans Mono',consolas,'Courier New',monospace\"><span style=\"font-weight: bold\">TOP </span><span style=\"color: #008080; text-decoration-color: #008080; font-weight: bold\">10</span><span style=\"font-weight: bold\"> SIMILAR USERS PAIRS</span>\n",
       "</pre>\n"
      ],
      "text/plain": [
       "\u001b[1mTOP \u001b[0m\u001b[1;36m10\u001b[0m\u001b[1m SIMILAR USERS PAIRS\u001b[0m\n"
      ]
     },
     "metadata": {},
     "output_type": "display_data"
    },
    {
     "data": {
      "text/html": [
       "<pre style=\"white-space:pre;overflow-x:auto;line-height:normal;font-family:Menlo,'DejaVu Sans Mono',consolas,'Courier New',monospace\"><span style=\"color: #008080; text-decoration-color: #008080; font-weight: bold\">1</span>. <span style=\"color: #800000; text-decoration-color: #800000; font-weight: bold\">user</span> benjaminmadsen <span style=\"color: #800000; text-decoration-color: #800000; font-weight: bold\"> with user</span> garynorm-<span style=\"color: #008080; text-decoration-color: #008080; font-weight: bold\">79022</span> <span style=\"color: #800000; text-decoration-color: #800000; font-weight: bold\">     sentiment score  -&gt;</span> <span style=\"color: #008080; text-decoration-color: #008080; font-weight: bold\">0.625</span>\n",
       "</pre>\n"
      ],
      "text/plain": [
       "\u001b[1;36m1\u001b[0m. \u001b[1;31muser\u001b[0m benjaminmadsen \u001b[1;31m with user\u001b[0m garynorm-\u001b[1;36m79022\u001b[0m \u001b[1;31m     sentiment score  ->\u001b[0m \u001b[1;36m0.625\u001b[0m\n"
      ]
     },
     "metadata": {},
     "output_type": "display_data"
    },
    {
     "data": {
      "text/html": [
       "<pre style=\"white-space:pre;overflow-x:auto;line-height:normal;font-family:Menlo,'DejaVu Sans Mono',consolas,'Courier New',monospace\"><span style=\"color: #008080; text-decoration-color: #008080; font-weight: bold\">2</span>. <span style=\"color: #800000; text-decoration-color: #800000; font-weight: bold\">user</span> ivern-<span style=\"color: #008080; text-decoration-color: #008080; font-weight: bold\">326</span>-<span style=\"color: #008080; text-decoration-color: #008080; font-weight: bold\">711636</span> <span style=\"color: #800000; text-decoration-color: #800000; font-weight: bold\"> with user</span> tommystans <span style=\"color: #800000; text-decoration-color: #800000; font-weight: bold\">     sentiment score  -&gt;</span> <span style=\"color: #008080; text-decoration-color: #008080; font-weight: bold\">0.6</span>\n",
       "</pre>\n"
      ],
      "text/plain": [
       "\u001b[1;36m2\u001b[0m. \u001b[1;31muser\u001b[0m ivern-\u001b[1;36m326\u001b[0m-\u001b[1;36m711636\u001b[0m \u001b[1;31m with user\u001b[0m tommystans \u001b[1;31m     sentiment score  ->\u001b[0m \u001b[1;36m0.6\u001b[0m\n"
      ]
     },
     "metadata": {},
     "output_type": "display_data"
    },
    {
     "data": {
      "text/html": [
       "<pre style=\"white-space:pre;overflow-x:auto;line-height:normal;font-family:Menlo,'DejaVu Sans Mono',consolas,'Courier New',monospace\"><span style=\"color: #008080; text-decoration-color: #008080; font-weight: bold\">3</span>. <span style=\"color: #800000; text-decoration-color: #800000; font-weight: bold\">user</span> westsideschl <span style=\"color: #800000; text-decoration-color: #800000; font-weight: bold\"> with user</span> voyou-<span style=\"color: #008080; text-decoration-color: #008080; font-weight: bold\">703</span>-<span style=\"color: #008080; text-decoration-color: #008080; font-weight: bold\">655350</span> <span style=\"color: #800000; text-decoration-color: #800000; font-weight: bold\">     sentiment score  -&gt;</span> <span style=\"color: #008080; text-decoration-color: #008080; font-weight: bold\">0.6</span>\n",
       "</pre>\n"
      ],
      "text/plain": [
       "\u001b[1;36m3\u001b[0m. \u001b[1;31muser\u001b[0m westsideschl \u001b[1;31m with user\u001b[0m voyou-\u001b[1;36m703\u001b[0m-\u001b[1;36m655350\u001b[0m \u001b[1;31m     sentiment score  ->\u001b[0m \u001b[1;36m0.6\u001b[0m\n"
      ]
     },
     "metadata": {},
     "output_type": "display_data"
    },
    {
     "data": {
      "text/html": [
       "<pre style=\"white-space:pre;overflow-x:auto;line-height:normal;font-family:Menlo,'DejaVu Sans Mono',consolas,'Courier New',monospace\"><span style=\"color: #008080; text-decoration-color: #008080; font-weight: bold\">4</span>. <span style=\"color: #800000; text-decoration-color: #800000; font-weight: bold\">user</span> Sweet_Ophelia <span style=\"color: #800000; text-decoration-color: #800000; font-weight: bold\"> with user</span> Paddy-<span style=\"color: #008080; text-decoration-color: #008080; font-weight: bold\">49</span> <span style=\"color: #800000; text-decoration-color: #800000; font-weight: bold\">     sentiment score  -&gt;</span> <span style=\"color: #008080; text-decoration-color: #008080; font-weight: bold\">0.5</span>\n",
       "</pre>\n"
      ],
      "text/plain": [
       "\u001b[1;36m4\u001b[0m. \u001b[1;31muser\u001b[0m Sweet_Ophelia \u001b[1;31m with user\u001b[0m Paddy-\u001b[1;36m49\u001b[0m \u001b[1;31m     sentiment score  ->\u001b[0m \u001b[1;36m0.5\u001b[0m\n"
      ]
     },
     "metadata": {},
     "output_type": "display_data"
    },
    {
     "data": {
      "text/html": [
       "<pre style=\"white-space:pre;overflow-x:auto;line-height:normal;font-family:Menlo,'DejaVu Sans Mono',consolas,'Courier New',monospace\"><span style=\"color: #008080; text-decoration-color: #008080; font-weight: bold\">5</span>. <span style=\"color: #800000; text-decoration-color: #800000; font-weight: bold\">user</span> djmexx <span style=\"color: #800000; text-decoration-color: #800000; font-weight: bold\"> with user</span> nutz4n64 <span style=\"color: #800000; text-decoration-color: #800000; font-weight: bold\">     sentiment score  -&gt;</span> <span style=\"color: #008080; text-decoration-color: #008080; font-weight: bold\">0.5</span>\n",
       "</pre>\n"
      ],
      "text/plain": [
       "\u001b[1;36m5\u001b[0m. \u001b[1;31muser\u001b[0m djmexx \u001b[1;31m with user\u001b[0m nutz4n64 \u001b[1;31m     sentiment score  ->\u001b[0m \u001b[1;36m0.5\u001b[0m\n"
      ]
     },
     "metadata": {},
     "output_type": "display_data"
    },
    {
     "data": {
      "text/html": [
       "<pre style=\"white-space:pre;overflow-x:auto;line-height:normal;font-family:Menlo,'DejaVu Sans Mono',consolas,'Courier New',monospace\"><span style=\"color: #008080; text-decoration-color: #008080; font-weight: bold\">6</span>. <span style=\"color: #800000; text-decoration-color: #800000; font-weight: bold\">user</span> ericagui <span style=\"color: #800000; text-decoration-color: #800000; font-weight: bold\"> with user</span> benjaminmadsen <span style=\"color: #800000; text-decoration-color: #800000; font-weight: bold\">     sentiment score  -&gt;</span> <span style=\"color: #008080; text-decoration-color: #008080; font-weight: bold\">0.5</span>\n",
       "</pre>\n"
      ],
      "text/plain": [
       "\u001b[1;36m6\u001b[0m. \u001b[1;31muser\u001b[0m ericagui \u001b[1;31m with user\u001b[0m benjaminmadsen \u001b[1;31m     sentiment score  ->\u001b[0m \u001b[1;36m0.5\u001b[0m\n"
      ]
     },
     "metadata": {},
     "output_type": "display_data"
    },
    {
     "data": {
      "text/html": [
       "<pre style=\"white-space:pre;overflow-x:auto;line-height:normal;font-family:Menlo,'DejaVu Sans Mono',consolas,'Courier New',monospace\"><span style=\"color: #008080; text-decoration-color: #008080; font-weight: bold\">7</span>. <span style=\"color: #800000; text-decoration-color: #800000; font-weight: bold\">user</span> FilmFanatic03 <span style=\"color: #800000; text-decoration-color: #800000; font-weight: bold\"> with user</span> albunax <span style=\"color: #800000; text-decoration-color: #800000; font-weight: bold\">     sentiment score  -&gt;</span> <span style=\"color: #008080; text-decoration-color: #008080; font-weight: bold\">0.5</span>\n",
       "</pre>\n"
      ],
      "text/plain": [
       "\u001b[1;36m7\u001b[0m. \u001b[1;31muser\u001b[0m FilmFanatic03 \u001b[1;31m with user\u001b[0m albunax \u001b[1;31m     sentiment score  ->\u001b[0m \u001b[1;36m0.5\u001b[0m\n"
      ]
     },
     "metadata": {},
     "output_type": "display_data"
    },
    {
     "data": {
      "text/html": [
       "<pre style=\"white-space:pre;overflow-x:auto;line-height:normal;font-family:Menlo,'DejaVu Sans Mono',consolas,'Courier New',monospace\"><span style=\"color: #008080; text-decoration-color: #008080; font-weight: bold\">8</span>. <span style=\"color: #800000; text-decoration-color: #800000; font-weight: bold\">user</span> catpantry <span style=\"color: #800000; text-decoration-color: #800000; font-weight: bold\"> with user</span> Growlyted <span style=\"color: #800000; text-decoration-color: #800000; font-weight: bold\">     sentiment score  -&gt;</span> <span style=\"color: #008080; text-decoration-color: #008080; font-weight: bold\">0.5</span>\n",
       "</pre>\n"
      ],
      "text/plain": [
       "\u001b[1;36m8\u001b[0m. \u001b[1;31muser\u001b[0m catpantry \u001b[1;31m with user\u001b[0m Growlyted \u001b[1;31m     sentiment score  ->\u001b[0m \u001b[1;36m0.5\u001b[0m\n"
      ]
     },
     "metadata": {},
     "output_type": "display_data"
    },
    {
     "data": {
      "text/html": [
       "<pre style=\"white-space:pre;overflow-x:auto;line-height:normal;font-family:Menlo,'DejaVu Sans Mono',consolas,'Courier New',monospace\"><span style=\"color: #008080; text-decoration-color: #008080; font-weight: bold\">9</span>. <span style=\"color: #800000; text-decoration-color: #800000; font-weight: bold\">user</span> garynorm-<span style=\"color: #008080; text-decoration-color: #008080; font-weight: bold\">79022</span> <span style=\"color: #800000; text-decoration-color: #800000; font-weight: bold\"> with user</span> kennarb-<span style=\"color: #008080; text-decoration-color: #008080; font-weight: bold\">23010</span> <span style=\"color: #800000; text-decoration-color: #800000; font-weight: bold\">     sentiment score  -&gt;</span> <span style=\"color: #008080; text-decoration-color: #008080; font-weight: bold\">0.4444444444444444</span>\n",
       "</pre>\n"
      ],
      "text/plain": [
       "\u001b[1;36m9\u001b[0m. \u001b[1;31muser\u001b[0m garynorm-\u001b[1;36m79022\u001b[0m \u001b[1;31m with user\u001b[0m kennarb-\u001b[1;36m23010\u001b[0m \u001b[1;31m     sentiment score  ->\u001b[0m \u001b[1;36m0.4444444444444444\u001b[0m\n"
      ]
     },
     "metadata": {},
     "output_type": "display_data"
    },
    {
     "data": {
      "text/html": [
       "<pre style=\"white-space:pre;overflow-x:auto;line-height:normal;font-family:Menlo,'DejaVu Sans Mono',consolas,'Courier New',monospace\"><span style=\"color: #008080; text-decoration-color: #008080; font-weight: bold\">10</span>. <span style=\"color: #800000; text-decoration-color: #800000; font-weight: bold\">user</span> JAKastner <span style=\"color: #800000; text-decoration-color: #800000; font-weight: bold\"> with user</span> jomipira <span style=\"color: #800000; text-decoration-color: #800000; font-weight: bold\">     sentiment score  -&gt;</span> <span style=\"color: #008080; text-decoration-color: #008080; font-weight: bold\">0.42857142857142855</span>\n",
       "</pre>\n"
      ],
      "text/plain": [
       "\u001b[1;36m10\u001b[0m. \u001b[1;31muser\u001b[0m JAKastner \u001b[1;31m with user\u001b[0m jomipira \u001b[1;31m     sentiment score  ->\u001b[0m \u001b[1;36m0.42857142857142855\u001b[0m\n"
      ]
     },
     "metadata": {},
     "output_type": "display_data"
    }
   ],
   "source": [
    "# array of top 10 similar pairs indexes\n",
    "indices = np.flip(np.argsort(similarities.ravel())[-10:])\n",
    "\n",
    "# arrays used to retrieve key from dictionary and decode hashes\n",
    "keys = list(users.keys())\n",
    "vals = list(users.values())\n",
    "\n",
    "rich.print(f\"[bold]TOP 10 SIMILAR USERS PAIRS\")\n",
    "# print top pairs along with jaccard similarities\n",
    "for i, idx in enumerate(indices):\n",
    "    user_1, user_2 = retr_coor(idx, len(users))\n",
    "    # decode user hashing\n",
    "    user1 = vals.index(user_1)\n",
    "    user2 = vals.index(user_2)\n",
    "    # print results\n",
    "    rich.print(f\"{i+1}. [red][bold]user\", keys[user1], f\"[red][bold] with user\", keys[user2], \n",
    "              f\"[bold][red]     sentiment score  ->\", similarities[user_1][user_2])"
   ]
  },
  {
   "cell_type": "markdown",
   "id": "8f62f2f8",
   "metadata": {},
   "source": [
    "### Frequent movies pairs\n",
    "\n",
    "Frequent pairs of movies that were watched by the same user are going to be investigated. The analysis will be similar to \n",
    "market basket analysis, except that in this case basket is containing movies reviewed by particular user. The support threshold will be chosen to 0 for frequent movies, since the dataset was chosen in a way, that almost all movies have the same number of reviews considered (number of baskets they appear in). "
   ]
  },
  {
   "cell_type": "code",
   "execution_count": 51,
   "id": "577825d9",
   "metadata": {},
   "outputs": [],
   "source": [
    "# specify pair movies count matrix\n",
    "freq_mov = np.zeros([len(movies), len(movies)])\n",
    "\n",
    "# count how many times certain movies were reviewed by the same user\n",
    "for basket in iter_list:\n",
    "    curr_basket = movie_baskets[str(basket)]\n",
    "    # there must be at least 2 movies reviewed by single user\n",
    "    if len(curr_basket) >= 2:\n",
    "        # iterate through all items except last\n",
    "        for buffer, movie_1 in enumerate(curr_basket[:-1]):\n",
    "            for movie_2 in curr_basket[(buffer+1):]:\n",
    "                freq_mov[movie_1][movie_2] += 1            "
   ]
  },
  {
   "cell_type": "markdown",
   "id": "9dbbc3c2",
   "metadata": {},
   "source": [
    "Support threshold for movie pairs will be set to very small value of s = 0.0005, since our dataset is containing more than 11000 baskets and even singletones can appear in at most 50 of them. Frequent movie pairs that are meeting the threshold constraint will be printed out to the console. "
   ]
  },
  {
   "cell_type": "code",
   "execution_count": 68,
   "id": "fe0ea517",
   "metadata": {},
   "outputs": [
    {
     "data": {
      "text/html": [
       "<pre style=\"white-space:pre;overflow-x:auto;line-height:normal;font-family:Menlo,'DejaVu Sans Mono',consolas,'Courier New',monospace\"><span style=\"font-weight: bold\">FREQUENT MOVIE PAIRS</span>\n",
       "</pre>\n"
      ],
      "text/plain": [
       "\u001b[1mFREQUENT MOVIE PAIRS\u001b[0m\n"
      ]
     },
     "metadata": {},
     "output_type": "display_data"
    },
    {
     "name": "stdout",
     "output_type": "stream",
     "text": [
      "[Cinderella; The Jungle Book]\n",
      "[Draft Day; Million Dollar Arm]\n",
      "[Million Dollar Arm; Trouble with the Curve]\n",
      "[McFarland, USA; Million Dollar Arm]\n",
      "[Glory Road; The Greatest Game Ever Played]\n",
      "[Glory Road; Hustle & Flow]\n",
      "[Ice Age: Continental Drift; Madagascar 3: Europe's Most Wanted]\n",
      "[Kung Fu Panda 2; Rio]\n",
      "[Grudge Match; Million Dollar Arm]\n",
      "[Pitch Perfect 2; Pitch Perfect]\n",
      "[If I Stay; Woman in Gold]\n",
      "[Here Comes the Boom; Rise of the Guardians]\n",
      "[Major League; We Are Marshall]\n",
      "[Milk; The Duchess]\n",
      "[Just Go with It; Prince of Persia: The Sands of Time]\n",
      "[Caddyshack; Major League]\n",
      "[1941; Good Morning, Vietnam]\n",
      "[The Hunger Games: Mockingjay - Part 1; Wreck-It Ralph]\n",
      "[Here Comes the Boom; Million Dollar Arm]\n",
      "[Friends with Benefits; No Strings Attached]\n",
      "[Mulan; The Jungle Book]\n",
      "[Mr. Holland's Opus; Shine]\n",
      "[If I Stay; Million Dollar Arm]\n",
      "[Romeo + Juliet; Shine]\n",
      "[Just Go with It; No Strings Attached]\n",
      "[Hotel Transylvania; The Croods]\n",
      "[Catch-22; The Hustler]\n",
      "[Ice Age; Ice Age: Dawn of the Dinosaurs]\n",
      "[Home Alone 2: Lost in New York; Zombieland]\n"
     ]
    }
   ],
   "source": [
    "# setting support\n",
    "s = 0.0008\n",
    "\n",
    "# only frequent pairs with specific support\n",
    "freq_mov_supp = np.where(freq_mov > s * len(movie_baskets), freq_mov, 0)\n",
    "\n",
    "# arrays used to retrieve key from dictionary and decode hashes\n",
    "keys = list(movies.keys())\n",
    "vals = list(movies.values())\n",
    "\n",
    "# sorted starting from highest support\n",
    "indices = np.flip(np.argsort(freq_mov_supp.ravel()))\n",
    "\n",
    "#print out results\n",
    "rich.print(f\"[bold]FREQUENT MOVIE PAIRS\")\n",
    "# print top pairs along with jaccard similarities\n",
    "i = 0\n",
    "mov_1, mov_2 = retr_coor(indices[i], len(movies))\n",
    "while freq_mov[mov_1][mov_2] != 0:\n",
    "    # unhash\n",
    "    movie1 = vals.index(mov_1)\n",
    "    movie2 = vals.index(mov_2)\n",
    "    print(f\"[{keys[movie1]}; {keys[movie2]}]\")\n",
    "    # new pair of movies\n",
    "    i += 1\n",
    "    mov_1, mov_2 = retr_coor(indices[i], len(movies))"
   ]
  }
 ],
 "metadata": {
  "kernelspec": {
   "display_name": "Python [conda env:root] *",
   "language": "python",
   "name": "conda-root-py"
  },
  "language_info": {
   "codemirror_mode": {
    "name": "ipython",
    "version": 3
   },
   "file_extension": ".py",
   "mimetype": "text/x-python",
   "name": "python",
   "nbconvert_exporter": "python",
   "pygments_lexer": "ipython3",
   "version": "3.8.13"
  },
  "toc": {
   "base_numbering": 1,
   "nav_menu": {},
   "number_sections": false,
   "sideBar": true,
   "skip_h1_title": false,
   "title_cell": "Table of Contents",
   "title_sidebar": "Contents",
   "toc_cell": false,
   "toc_position": {},
   "toc_section_display": true,
   "toc_window_display": true
  },
  "varInspector": {
   "cols": {
    "lenName": 16,
    "lenType": 16,
    "lenVar": 40
   },
   "kernels_config": {
    "python": {
     "delete_cmd_postfix": "",
     "delete_cmd_prefix": "del ",
     "library": "var_list.py",
     "varRefreshCmd": "print(var_dic_list())"
    },
    "r": {
     "delete_cmd_postfix": ") ",
     "delete_cmd_prefix": "rm(",
     "library": "var_list.r",
     "varRefreshCmd": "cat(var_dic_list()) "
    }
   },
   "types_to_exclude": [
    "module",
    "function",
    "builtin_function_or_method",
    "instance",
    "_Feature"
   ],
   "window_display": false
  }
 },
 "nbformat": 4,
 "nbformat_minor": 5
}
