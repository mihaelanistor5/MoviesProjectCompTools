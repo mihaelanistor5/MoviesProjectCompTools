{
 "cells": [
  {
   "cell_type": "code",
   "execution_count": 96,
   "id": "9a1873ae",
   "metadata": {},
   "outputs": [],
   "source": [
    "import pandas as pd\n",
    "import numpy as np\n",
    "import networkx as nx\n",
    "\n",
    "import os\n",
    "import rich\n",
    "\n",
    "# path to current directory\n",
    "path = os.getcwd()"
   ]
  },
  {
   "cell_type": "markdown",
   "id": "dfcdc9df",
   "metadata": {},
   "source": [
    "## Import data\n",
    "\n",
    "Data import from earlier prepared dataframe containing usernames and movie titles."
   ]
  },
  {
   "cell_type": "code",
   "execution_count": 78,
   "id": "c80e90e1",
   "metadata": {
    "scrolled": true
   },
   "outputs": [
    {
     "data": {
      "text/html": [
       "<div>\n",
       "<style scoped>\n",
       "    .dataframe tbody tr th:only-of-type {\n",
       "        vertical-align: middle;\n",
       "    }\n",
       "\n",
       "    .dataframe tbody tr th {\n",
       "        vertical-align: top;\n",
       "    }\n",
       "\n",
       "    .dataframe thead th {\n",
       "        text-align: right;\n",
       "    }\n",
       "</style>\n",
       "<table border=\"1\" class=\"dataframe\">\n",
       "  <thead>\n",
       "    <tr style=\"text-align: right;\">\n",
       "      <th></th>\n",
       "      <th>username</th>\n",
       "      <th>title</th>\n",
       "    </tr>\n",
       "  </thead>\n",
       "  <tbody>\n",
       "    <tr>\n",
       "      <th>94904</th>\n",
       "      <td>charlie-thulin</td>\n",
       "      <td>Casino Royale</td>\n",
       "    </tr>\n",
       "    <tr>\n",
       "      <th>479006</th>\n",
       "      <td>StarWarsMoviesSuck</td>\n",
       "      <td>The Expendables 2</td>\n",
       "    </tr>\n",
       "    <tr>\n",
       "      <th>224981</th>\n",
       "      <td>Marc_parry</td>\n",
       "      <td>Interstellar</td>\n",
       "    </tr>\n",
       "    <tr>\n",
       "      <th>54743</th>\n",
       "      <td>gerddeblieck</td>\n",
       "      <td>Barry Lyndon</td>\n",
       "    </tr>\n",
       "    <tr>\n",
       "      <th>624422</th>\n",
       "      <td>evanhansrote</td>\n",
       "      <td>United 93</td>\n",
       "    </tr>\n",
       "  </tbody>\n",
       "</table>\n",
       "</div>"
      ],
      "text/plain": [
       "                  username              title\n",
       "94904       charlie-thulin      Casino Royale\n",
       "479006  StarWarsMoviesSuck  The Expendables 2\n",
       "224981          Marc_parry       Interstellar\n",
       "54743         gerddeblieck       Barry Lyndon\n",
       "624422        evanhansrote          United 93"
      ]
     },
     "execution_count": 78,
     "metadata": {},
     "output_type": "execute_result"
    }
   ],
   "source": [
    "net_data = pd.read_csv(os.path.join(path, \"net_data.csv\"))\n",
    "\n",
    "# removing duplicates if any\n",
    "net_data.drop_duplicates(inplace = True)\n",
    "net_data.reset_index(drop = True, inplace = True)\n",
    "\n",
    "net_data.sample(5)"
   ]
  },
  {
   "cell_type": "markdown",
   "id": "93a04fc7",
   "metadata": {},
   "source": [
    "## Network preparation\n",
    "\n",
    "### Username\n",
    "\n",
    "Prepare username nodes and movie nodes for network. The nodes for this group will contain:\n",
    "\n",
    "    - user name [\"username\"]\n",
    "    - number of movies this user has reviewed [\"revs_num\"]"
   ]
  },
  {
   "cell_type": "code",
   "execution_count": 94,
   "id": "838c5590",
   "metadata": {
    "scrolled": true
   },
   "outputs": [],
   "source": [
    "# count values of each user's reviews and save outcome to dataframe\n",
    "user_nodes = net_data.username.value_counts().to_frame(name = \"revs_num\")\n",
    "user_nodes.reset_index(inplace = True)\n",
    "\n",
    "# change column name that was affected by index reset\n",
    "user_nodes = user_nodes.rename(columns = {\"index\" : \"username\"})"
   ]
  },
  {
   "cell_type": "markdown",
   "id": "1dfd6cae",
   "metadata": {},
   "source": [
    "Relation containing nodes and their attributes, alongside some basic measures is shown below."
   ]
  },
  {
   "cell_type": "code",
   "execution_count": 118,
   "id": "6e5ab27b",
   "metadata": {},
   "outputs": [
    {
     "data": {
      "text/html": [
       "<pre style=\"white-space:pre;overflow-x:auto;line-height:normal;font-family:Menlo,'DejaVu Sans Mono',consolas,'Courier New',monospace\">\n",
       "\n",
       "<span style=\"font-weight: bold\">Total number of username nodes: </span><span style=\"color: #008080; text-decoration-color: #008080; font-weight: bold\">309497</span>\n",
       "</pre>\n"
      ],
      "text/plain": [
       "\n",
       "\n",
       "\u001b[1mTotal number of username nodes: \u001b[0m\u001b[1;36m309497\u001b[0m\n"
      ]
     },
     "metadata": {},
     "output_type": "display_data"
    },
    {
     "data": {
      "text/html": [
       "<div>\n",
       "<style scoped>\n",
       "    .dataframe tbody tr th:only-of-type {\n",
       "        vertical-align: middle;\n",
       "    }\n",
       "\n",
       "    .dataframe tbody tr th {\n",
       "        vertical-align: top;\n",
       "    }\n",
       "\n",
       "    .dataframe thead th {\n",
       "        text-align: right;\n",
       "    }\n",
       "</style>\n",
       "<table border=\"1\" class=\"dataframe\">\n",
       "  <thead>\n",
       "    <tr style=\"text-align: right;\">\n",
       "      <th></th>\n",
       "      <th>username</th>\n",
       "      <th>revs_num</th>\n",
       "    </tr>\n",
       "  </thead>\n",
       "  <tbody>\n",
       "    <tr>\n",
       "      <th>0</th>\n",
       "      <td>SnoopyStyle</td>\n",
       "      <td>815</td>\n",
       "    </tr>\n",
       "    <tr>\n",
       "      <th>1</th>\n",
       "      <td>jboothmillard</td>\n",
       "      <td>717</td>\n",
       "    </tr>\n",
       "    <tr>\n",
       "      <th>2</th>\n",
       "      <td>TxMike</td>\n",
       "      <td>642</td>\n",
       "    </tr>\n",
       "    <tr>\n",
       "      <th>3</th>\n",
       "      <td>anaconda-40658</td>\n",
       "      <td>589</td>\n",
       "    </tr>\n",
       "    <tr>\n",
       "      <th>4</th>\n",
       "      <td>bob the moo</td>\n",
       "      <td>578</td>\n",
       "    </tr>\n",
       "  </tbody>\n",
       "</table>\n",
       "</div>"
      ],
      "text/plain": [
       "         username  revs_num\n",
       "0     SnoopyStyle       815\n",
       "1   jboothmillard       717\n",
       "2          TxMike       642\n",
       "3  anaconda-40658       589\n",
       "4     bob the moo       578"
      ]
     },
     "execution_count": 118,
     "metadata": {},
     "output_type": "execute_result"
    }
   ],
   "source": [
    "rich.print(f\"\\n\\n[bold]Total number of username nodes: {len(user_nodes.index)}\")\n",
    "user_nodes.head(5)"
   ]
  },
  {
   "cell_type": "markdown",
   "id": "608674a2",
   "metadata": {},
   "source": [
    "## Create network graph with use of NetworkX\n",
    "\n",
    "Graph structure was chosen to be directed, since reviews are going from user to specific movie."
   ]
  },
  {
   "cell_type": "code",
   "execution_count": 14,
   "id": "6716b280",
   "metadata": {},
   "outputs": [],
   "source": [
    "# initiate empty graph structure\n",
    "G = nx.DiGraph()"
   ]
  }
 ],
 "metadata": {
  "kernelspec": {
   "display_name": "Python [conda env:root] *",
   "language": "python",
   "name": "conda-root-py"
  },
  "language_info": {
   "codemirror_mode": {
    "name": "ipython",
    "version": 3
   },
   "file_extension": ".py",
   "mimetype": "text/x-python",
   "name": "python",
   "nbconvert_exporter": "python",
   "pygments_lexer": "ipython3",
   "version": "3.8.13"
  },
  "toc": {
   "base_numbering": 1,
   "nav_menu": {},
   "number_sections": true,
   "sideBar": true,
   "skip_h1_title": false,
   "title_cell": "Table of Contents",
   "title_sidebar": "Contents",
   "toc_cell": false,
   "toc_position": {},
   "toc_section_display": true,
   "toc_window_display": false
  },
  "varInspector": {
   "cols": {
    "lenName": 16,
    "lenType": 16,
    "lenVar": 40
   },
   "kernels_config": {
    "python": {
     "delete_cmd_postfix": "",
     "delete_cmd_prefix": "del ",
     "library": "var_list.py",
     "varRefreshCmd": "print(var_dic_list())"
    },
    "r": {
     "delete_cmd_postfix": ") ",
     "delete_cmd_prefix": "rm(",
     "library": "var_list.r",
     "varRefreshCmd": "cat(var_dic_list()) "
    }
   },
   "types_to_exclude": [
    "module",
    "function",
    "builtin_function_or_method",
    "instance",
    "_Feature"
   ],
   "window_display": false
  }
 },
 "nbformat": 4,
 "nbformat_minor": 5
}
