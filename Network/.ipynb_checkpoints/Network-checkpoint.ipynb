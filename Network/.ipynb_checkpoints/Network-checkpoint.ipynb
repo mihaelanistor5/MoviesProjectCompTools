{
 "cells": [
  {
   "cell_type": "code",
   "execution_count": 169,
   "id": "9a1873ae",
   "metadata": {},
   "outputs": [],
   "source": [
    "import pandas as pd\n",
    "import numpy as np\n",
    "import networkx as nx\n",
    "\n",
    "from pyvis.network import Network\n",
    "\n",
    "import os\n",
    "import rich\n",
    "\n",
    "# path to current directory\n",
    "path = os.getcwd()"
   ]
  },
  {
   "cell_type": "markdown",
   "id": "dfcdc9df",
   "metadata": {},
   "source": [
    "## Import data\n",
    "\n",
    "Data import from earlier prepared dataframe containing usernames and movie titles."
   ]
  },
  {
   "cell_type": "code",
   "execution_count": 170,
   "id": "c80e90e1",
   "metadata": {
    "scrolled": true
   },
   "outputs": [
    {
     "data": {
      "text/html": [
       "<div>\n",
       "<style scoped>\n",
       "    .dataframe tbody tr th:only-of-type {\n",
       "        vertical-align: middle;\n",
       "    }\n",
       "\n",
       "    .dataframe tbody tr th {\n",
       "        vertical-align: top;\n",
       "    }\n",
       "\n",
       "    .dataframe thead th {\n",
       "        text-align: right;\n",
       "    }\n",
       "</style>\n",
       "<table border=\"1\" class=\"dataframe\">\n",
       "  <thead>\n",
       "    <tr style=\"text-align: right;\">\n",
       "      <th></th>\n",
       "      <th>username</th>\n",
       "      <th>title</th>\n",
       "      <th>year</th>\n",
       "    </tr>\n",
       "  </thead>\n",
       "  <tbody>\n",
       "    <tr>\n",
       "      <th>274273</th>\n",
       "      <td>nick rostov</td>\n",
       "      <td>Match Point</td>\n",
       "      <td>2005</td>\n",
       "    </tr>\n",
       "    <tr>\n",
       "      <th>362809</th>\n",
       "      <td>matt_shaver</td>\n",
       "      <td>Scary Movie 2</td>\n",
       "      <td>2001</td>\n",
       "    </tr>\n",
       "    <tr>\n",
       "      <th>467106</th>\n",
       "      <td>varun-mentor</td>\n",
       "      <td>The Dark Knight Rises</td>\n",
       "      <td>2012</td>\n",
       "    </tr>\n",
       "    <tr>\n",
       "      <th>224773</th>\n",
       "      <td>rauh-georg</td>\n",
       "      <td>Interstellar</td>\n",
       "      <td>2014</td>\n",
       "    </tr>\n",
       "    <tr>\n",
       "      <th>594030</th>\n",
       "      <td>ryanmark-57919</td>\n",
       "      <td>The Witch</td>\n",
       "      <td>2015</td>\n",
       "    </tr>\n",
       "  </tbody>\n",
       "</table>\n",
       "</div>"
      ],
      "text/plain": [
       "              username                  title  year\n",
       "274273     nick rostov            Match Point  2005\n",
       "362809     matt_shaver          Scary Movie 2  2001\n",
       "467106    varun-mentor  The Dark Knight Rises  2012\n",
       "224773      rauh-georg           Interstellar  2014\n",
       "594030  ryanmark-57919              The Witch  2015"
      ]
     },
     "execution_count": 170,
     "metadata": {},
     "output_type": "execute_result"
    }
   ],
   "source": [
    "net_data = pd.read_csv(os.path.join(path, \"net_data.csv\"))\n",
    "\n",
    "# removing duplicates if any\n",
    "net_data.drop_duplicates(inplace = True)\n",
    "net_data.reset_index(drop = True, inplace = True)\n",
    "\n",
    "net_data.sample(5)"
   ]
  },
  {
   "cell_type": "markdown",
   "id": "93a04fc7",
   "metadata": {},
   "source": [
    "## Network preparation\n",
    "\n",
    "### Vertex set\n",
    "\n",
    "In this part vertex set of network will be prepared. Vertices in analysed graph will be users and movies.\n",
    "\n",
    "#### Username\n",
    "\n",
    "Prepare username nodes for network. The nodes for this group will contain:\n",
    "\n",
    "    - user name [\"username\"]\n",
    "    - number of movies this user has reviewed [\"revs_num\"]\n",
    "    \n",
    "To each username subscript \"u will be added, to avoid node cancellation when username and movie title is the same."
   ]
  },
  {
   "cell_type": "code",
   "execution_count": 171,
   "id": "838c5590",
   "metadata": {
    "scrolled": true
   },
   "outputs": [],
   "source": [
    "# count values of each user's reviews and save outcome to dataframe\n",
    "user_nodes = net_data.username.value_counts().to_frame(name = \"revs_num\")\n",
    "user_nodes.reset_index(inplace = True)\n",
    "\n",
    "# change column name that was affected by index reset\n",
    "user_nodes = user_nodes.rename(columns = {\"index\" : \"username\"})\n",
    "\n",
    "# add subscript\n",
    "user_nodes[\"username\"] = user_nodes[\"username\"].apply(lambda x: x + \"_u\")"
   ]
  },
  {
   "cell_type": "markdown",
   "id": "1dfd6cae",
   "metadata": {},
   "source": [
    "Relation containing nodes and their attributes, alongside some basic measures is shown below."
   ]
  },
  {
   "cell_type": "code",
   "execution_count": 172,
   "id": "6e5ab27b",
   "metadata": {
    "scrolled": false
   },
   "outputs": [
    {
     "data": {
      "text/html": [
       "<pre style=\"white-space:pre;overflow-x:auto;line-height:normal;font-family:Menlo,'DejaVu Sans Mono',consolas,'Courier New',monospace\">\n",
       "\n",
       "<span style=\"font-weight: bold\">Total number of username nodes: </span><span style=\"color: #008080; text-decoration-color: #008080; font-weight: bold\">309497</span>\n",
       "</pre>\n"
      ],
      "text/plain": [
       "\n",
       "\n",
       "\u001b[1mTotal number of username nodes: \u001b[0m\u001b[1;36m309497\u001b[0m\n"
      ]
     },
     "metadata": {},
     "output_type": "display_data"
    },
    {
     "data": {
      "text/html": [
       "<div>\n",
       "<style scoped>\n",
       "    .dataframe tbody tr th:only-of-type {\n",
       "        vertical-align: middle;\n",
       "    }\n",
       "\n",
       "    .dataframe tbody tr th {\n",
       "        vertical-align: top;\n",
       "    }\n",
       "\n",
       "    .dataframe thead th {\n",
       "        text-align: right;\n",
       "    }\n",
       "</style>\n",
       "<table border=\"1\" class=\"dataframe\">\n",
       "  <thead>\n",
       "    <tr style=\"text-align: right;\">\n",
       "      <th></th>\n",
       "      <th>username</th>\n",
       "      <th>revs_num</th>\n",
       "    </tr>\n",
       "  </thead>\n",
       "  <tbody>\n",
       "    <tr>\n",
       "      <th>0</th>\n",
       "      <td>SnoopyStyle_u</td>\n",
       "      <td>815</td>\n",
       "    </tr>\n",
       "    <tr>\n",
       "      <th>1</th>\n",
       "      <td>jboothmillard_u</td>\n",
       "      <td>717</td>\n",
       "    </tr>\n",
       "    <tr>\n",
       "      <th>2</th>\n",
       "      <td>TxMike_u</td>\n",
       "      <td>642</td>\n",
       "    </tr>\n",
       "    <tr>\n",
       "      <th>3</th>\n",
       "      <td>anaconda-40658_u</td>\n",
       "      <td>589</td>\n",
       "    </tr>\n",
       "    <tr>\n",
       "      <th>4</th>\n",
       "      <td>bob the moo_u</td>\n",
       "      <td>578</td>\n",
       "    </tr>\n",
       "  </tbody>\n",
       "</table>\n",
       "</div>"
      ],
      "text/plain": [
       "           username  revs_num\n",
       "0     SnoopyStyle_u       815\n",
       "1   jboothmillard_u       717\n",
       "2          TxMike_u       642\n",
       "3  anaconda-40658_u       589\n",
       "4     bob the moo_u       578"
      ]
     },
     "execution_count": 172,
     "metadata": {},
     "output_type": "execute_result"
    }
   ],
   "source": [
    "rich.print(f\"\\n\\n[bold]Total number of username nodes: {len(user_nodes.index)}\")\n",
    "user_nodes.head(5)"
   ]
  },
  {
   "cell_type": "markdown",
   "id": "2852c754",
   "metadata": {},
   "source": [
    "#### Movie\n",
    "\n",
    "Prepare movie nodes for network. The nodes for this group will contain:\n",
    "\n",
    "    - movie title [\"title\"]\n",
    "    - year of production [\"year\"]\n",
    "    - movie average rating [\"rating\"]\n",
    "    - number of reviews [\"num_revs\"]\n",
    "    \n",
    "To each username subscript \"u will be added, to avoid node cancellation when username and movie title is the same."
   ]
  },
  {
   "cell_type": "code",
   "execution_count": 173,
   "id": "a0e5fa7d",
   "metadata": {
    "scrolled": true
   },
   "outputs": [],
   "source": [
    "# Create dataframe containing title and year\n",
    "movie_nodes = net_data[[\"title\", \"year\"]].drop_duplicates()\n",
    "movie_nodes.reset_index(inplace = True, drop = True)\n",
    "movie_nodes[\"rating\"] = 0\n",
    "\n",
    "# calculate number of reviews for each movie and append it as a column to dataframe\n",
    "movie_revs = net_data.title.value_counts().to_frame(\"num_revs\")\n",
    "movie_revs.reset_index(inplace = True)\n",
    "movie_revs.rename(columns = {\"index\" : \"title\"}, inplace = True)\n",
    "movie_nodes = pd.merge(movie_nodes, movie_revs, on = \"title\")\n",
    "\n",
    "# delete unused dataframe from memory\n",
    "del movie_revs\n",
    "\n",
    "# add subscript\n",
    "movie_nodes[\"title\"] = movie_nodes[\"title\"].apply(lambda x: x + \"_m\")"
   ]
  },
  {
   "cell_type": "markdown",
   "id": "69314b22",
   "metadata": {},
   "source": [
    "Relation containing nodes and their attributes, alongside some basic measures is shown below."
   ]
  },
  {
   "cell_type": "code",
   "execution_count": 174,
   "id": "4dc13cf3",
   "metadata": {
    "scrolled": true
   },
   "outputs": [
    {
     "data": {
      "text/html": [
       "<pre style=\"white-space:pre;overflow-x:auto;line-height:normal;font-family:Menlo,'DejaVu Sans Mono',consolas,'Courier New',monospace\">\n",
       "\n",
       "<span style=\"font-weight: bold\">Total number of movie nodes: </span><span style=\"color: #008080; text-decoration-color: #008080; font-weight: bold\">825</span>\n",
       "</pre>\n"
      ],
      "text/plain": [
       "\n",
       "\n",
       "\u001b[1mTotal number of movie nodes: \u001b[0m\u001b[1;36m825\u001b[0m\n"
      ]
     },
     "metadata": {},
     "output_type": "display_data"
    },
    {
     "data": {
      "text/html": [
       "<div>\n",
       "<style scoped>\n",
       "    .dataframe tbody tr th:only-of-type {\n",
       "        vertical-align: middle;\n",
       "    }\n",
       "\n",
       "    .dataframe tbody tr th {\n",
       "        vertical-align: top;\n",
       "    }\n",
       "\n",
       "    .dataframe thead th {\n",
       "        text-align: right;\n",
       "    }\n",
       "</style>\n",
       "<table border=\"1\" class=\"dataframe\">\n",
       "  <thead>\n",
       "    <tr style=\"text-align: right;\">\n",
       "      <th></th>\n",
       "      <th>title</th>\n",
       "      <th>year</th>\n",
       "      <th>rating</th>\n",
       "      <th>num_revs</th>\n",
       "    </tr>\n",
       "  </thead>\n",
       "  <tbody>\n",
       "    <tr>\n",
       "      <th>0</th>\n",
       "      <td>10 Cloverfield Lane_m</td>\n",
       "      <td>2016</td>\n",
       "      <td>0</td>\n",
       "      <td>751</td>\n",
       "    </tr>\n",
       "    <tr>\n",
       "      <th>1</th>\n",
       "      <td>10 Things I Hate About You_m</td>\n",
       "      <td>1999</td>\n",
       "      <td>0</td>\n",
       "      <td>606</td>\n",
       "    </tr>\n",
       "    <tr>\n",
       "      <th>2</th>\n",
       "      <td>12 Angry Men_m</td>\n",
       "      <td>1957</td>\n",
       "      <td>0</td>\n",
       "      <td>1501</td>\n",
       "    </tr>\n",
       "    <tr>\n",
       "      <th>3</th>\n",
       "      <td>12 Years a Slave_m</td>\n",
       "      <td>2013</td>\n",
       "      <td>0</td>\n",
       "      <td>848</td>\n",
       "    </tr>\n",
       "    <tr>\n",
       "      <th>4</th>\n",
       "      <td>127 Hours_m</td>\n",
       "      <td>2010</td>\n",
       "      <td>0</td>\n",
       "      <td>481</td>\n",
       "    </tr>\n",
       "  </tbody>\n",
       "</table>\n",
       "</div>"
      ],
      "text/plain": [
       "                          title  year  rating  num_revs\n",
       "0         10 Cloverfield Lane_m  2016       0       751\n",
       "1  10 Things I Hate About You_m  1999       0       606\n",
       "2                12 Angry Men_m  1957       0      1501\n",
       "3            12 Years a Slave_m  2013       0       848\n",
       "4                   127 Hours_m  2010       0       481"
      ]
     },
     "execution_count": 174,
     "metadata": {},
     "output_type": "execute_result"
    }
   ],
   "source": [
    "rich.print(f\"\\n\\n[bold]Total number of movie nodes: {len(movie_nodes.index)}\")\n",
    "movie_nodes.head(5)"
   ]
  },
  {
   "cell_type": "markdown",
   "id": "c530c4ec",
   "metadata": {},
   "source": [
    "### Edge set\n",
    "\n",
    "Dataframe containing edge directions (from node to node) were defined based on reviews dataframe imported at the beginning."
   ]
  },
  {
   "cell_type": "code",
   "execution_count": 175,
   "id": "f661a337",
   "metadata": {},
   "outputs": [
    {
     "data": {
      "text/html": [
       "<pre style=\"white-space:pre;overflow-x:auto;line-height:normal;font-family:Menlo,'DejaVu Sans Mono',consolas,'Courier New',monospace\">\n",
       "\n",
       "<span style=\"font-weight: bold\">Total number of edges: </span><span style=\"color: #008080; text-decoration-color: #008080; font-weight: bold\">657387</span>\n",
       "</pre>\n"
      ],
      "text/plain": [
       "\n",
       "\n",
       "\u001b[1mTotal number of edges: \u001b[0m\u001b[1;36m657387\u001b[0m\n"
      ]
     },
     "metadata": {},
     "output_type": "display_data"
    },
    {
     "data": {
      "text/html": [
       "<div>\n",
       "<style scoped>\n",
       "    .dataframe tbody tr th:only-of-type {\n",
       "        vertical-align: middle;\n",
       "    }\n",
       "\n",
       "    .dataframe tbody tr th {\n",
       "        vertical-align: top;\n",
       "    }\n",
       "\n",
       "    .dataframe thead th {\n",
       "        text-align: right;\n",
       "    }\n",
       "</style>\n",
       "<table border=\"1\" class=\"dataframe\">\n",
       "  <thead>\n",
       "    <tr style=\"text-align: right;\">\n",
       "      <th></th>\n",
       "      <th>from</th>\n",
       "      <th>to</th>\n",
       "    </tr>\n",
       "  </thead>\n",
       "  <tbody>\n",
       "    <tr>\n",
       "      <th>23722</th>\n",
       "      <td>dgodfrey4_u</td>\n",
       "      <td>Alexander_m</td>\n",
       "    </tr>\n",
       "    <tr>\n",
       "      <th>66715</th>\n",
       "      <td>brookenichole-98054_u</td>\n",
       "      <td>Big Hero 6_m</td>\n",
       "    </tr>\n",
       "    <tr>\n",
       "      <th>125712</th>\n",
       "      <td>dariana-ro_u</td>\n",
       "      <td>Divergent_m</td>\n",
       "    </tr>\n",
       "    <tr>\n",
       "      <th>647684</th>\n",
       "      <td>JackMcVee_u</td>\n",
       "      <td>X-Men_m</td>\n",
       "    </tr>\n",
       "    <tr>\n",
       "      <th>9964</th>\n",
       "      <td>RogerBorg_u</td>\n",
       "      <td>28 Weeks Later_m</td>\n",
       "    </tr>\n",
       "  </tbody>\n",
       "</table>\n",
       "</div>"
      ],
      "text/plain": [
       "                         from                to\n",
       "23722             dgodfrey4_u       Alexander_m\n",
       "66715   brookenichole-98054_u      Big Hero 6_m\n",
       "125712           dariana-ro_u       Divergent_m\n",
       "647684            JackMcVee_u           X-Men_m\n",
       "9964              RogerBorg_u  28 Weeks Later_m"
      ]
     },
     "execution_count": 175,
     "metadata": {},
     "output_type": "execute_result"
    }
   ],
   "source": [
    "edges = net_data[[\"username\", \"title\"]]\n",
    "edges = edges.rename(columns = {\"username\" : \"from\", \"title\" : \"to\"})\n",
    "rich.print(f\"\\n\\n[bold]Total number of edges: {len(edges.index)}\")\n",
    "# adding subscripts\n",
    "edges[\"from\"] = edges[\"from\"].apply(lambda x: x + \"_u\")\n",
    "edges[\"to\"] = edges[\"to\"].apply(lambda x: x + \"_m\")\n",
    "# example of how relations look like\n",
    "edges.sample(5)"
   ]
  },
  {
   "cell_type": "markdown",
   "id": "608674a2",
   "metadata": {},
   "source": [
    "## Create network graph with use of NetworkX\n",
    "\n",
    "Graph structure was chosen to be directed, since reviews are going from user to specific movie. Two typed of nodes will be defined - user nodes and movie nodes. These vertices will have different attributes. Size of the nodes will be defined as number of edges going from/to specific node. Two attributes that are coherent for both node types are:\n",
    "\n",
    "    - size of node\n",
    "    - node_type -> specifying whether is this user node or movie node\n",
    "    \n",
    "### Defining nodes (vertices) and edges"
   ]
  },
  {
   "cell_type": "code",
   "execution_count": 183,
   "id": "6716b280",
   "metadata": {},
   "outputs": [],
   "source": [
    "# initiate empty graph structure\n",
    "G = nx.DiGraph()\n",
    "\n",
    "# add user nodes to the network\n",
    "for _, users in user_nodes.iterrows():\n",
    "    G.add_node(users[\"username\"], \n",
    "               size = users[\"revs_num\"], \n",
    "               node_type = \"user\")\n",
    "    \n",
    "# add movie nodes to the network\n",
    "for _, movie in movie_nodes.iterrows():\n",
    "    G.add_node(movie[\"title\"], \n",
    "               size = movie[\"num_revs\"],\n",
    "               year = movie[\"year\"], \n",
    "               rating = movie[\"rating\"],  \n",
    "               node_type = \"movie\")\n",
    "    \n",
    "# add edges to the network\n",
    "for _, edge in edges.iterrows():\n",
    "    # sanity check whether such nodes exist in graph\n",
    "    if (G.has_node(edge[\"from\"]) and G.has_node(edge[\"to\"])):\n",
    "        # add the edge to the network\n",
    "        G.add_edge(edge[\"from\"], edge[\"to\"])"
   ]
  },
  {
   "cell_type": "markdown",
   "id": "ecc9b8b1",
   "metadata": {},
   "source": [
    "### The network"
   ]
  },
  {
   "cell_type": "code",
   "execution_count": 185,
   "id": "bd1b5894",
   "metadata": {
    "scrolled": false
   },
   "outputs": [
    {
     "data": {
      "text/html": [
       "<pre style=\"white-space:pre;overflow-x:auto;line-height:normal;font-family:Menlo,'DejaVu Sans Mono',consolas,'Courier New',monospace\"><span style=\"font-weight: bold\">The network is directional graph containing following number of vertices and edges:</span>\n",
       "</pre>\n"
      ],
      "text/plain": [
       "\u001b[1mThe network is directional graph containing following number of vertices and edges:\u001b[0m\n"
      ]
     },
     "metadata": {},
     "output_type": "display_data"
    },
    {
     "data": {
      "text/html": [
       "<pre style=\"white-space:pre;overflow-x:auto;line-height:normal;font-family:Menlo,'DejaVu Sans Mono',consolas,'Courier New',monospace\">DiGraph with <span style=\"color: #008080; text-decoration-color: #008080; font-weight: bold\">40</span> nodes and <span style=\"color: #008080; text-decoration-color: #008080; font-weight: bold\">260</span> edges\n",
       "</pre>\n"
      ],
      "text/plain": [
       "DiGraph with \u001b[1;36m40\u001b[0m nodes and \u001b[1;36m260\u001b[0m edges\n"
      ]
     },
     "metadata": {},
     "output_type": "display_data"
    },
    {
     "data": {
      "text/html": [
       "<pre style=\"white-space:pre;overflow-x:auto;line-height:normal;font-family:Menlo,'DejaVu Sans Mono',consolas,'Courier New',monospace\">Number of user nodes: <span style=\"color: #008080; text-decoration-color: #008080; font-weight: bold\">20</span>\n",
       "</pre>\n"
      ],
      "text/plain": [
       "Number of user nodes: \u001b[1;36m20\u001b[0m\n"
      ]
     },
     "metadata": {},
     "output_type": "display_data"
    },
    {
     "data": {
      "text/html": [
       "<pre style=\"white-space:pre;overflow-x:auto;line-height:normal;font-family:Menlo,'DejaVu Sans Mono',consolas,'Courier New',monospace\">Number of movie nodes: <span style=\"color: #008080; text-decoration-color: #008080; font-weight: bold\">20</span>\n",
       "</pre>\n"
      ],
      "text/plain": [
       "Number of movie nodes: \u001b[1;36m20\u001b[0m\n"
      ]
     },
     "metadata": {},
     "output_type": "display_data"
    }
   ],
   "source": [
    "rich.print(f\"[bold]The network is directional graph containing following number of vertices and edges:\")\n",
    "rich.print(G)\n",
    "\n",
    "# iterate through nodes in network and count nodes number of each type to ensure all nodes were defined correctly\n",
    "u_nodes = 0\n",
    "m_nodes = 0\n",
    "for node in G.nodes():\n",
    "    if G.nodes[node][\"node_type\"] == \"user\":\n",
    "        u_nodes += 1\n",
    "    else:\n",
    "        m_nodes += 1\n",
    "\n",
    "rich.print(f\"Number of user nodes: {u_nodes}\")\n",
    "rich.print(f\"Number of movie nodes: {m_nodes}\")\n",
    "#rich.print(f\"[bold]User node example: \", G.nodes[\"SnoopyStyle_u\"])\n",
    "#rich.print(f\"[bold]Movie node example: \", G.nodes[\"Gladiator_m\"])"
   ]
  },
  {
   "cell_type": "markdown",
   "id": "6c056c13",
   "metadata": {},
   "source": [
    "Node \"size\" attribute value should be equal to \"in degree\" (number of edges with vertex $x_1$ as terminated vertex) for all movie nodes and equal to \"out degree\" (number of edges that are initiated from vertex $x_2$) for user nodes. $x_1, x_2$ represent sam random node from specific group."
   ]
  },
  {
   "cell_type": "code",
   "execution_count": 181,
   "id": "b64c78bc",
   "metadata": {},
   "outputs": [],
   "source": [
    "# check whether all nodes have assigned correct size numbers\n",
    "i = 0\n",
    "for node in G.nodes():\n",
    "    if G.nodes[node][\"node_type\"] == \"user\":\n",
    "        # out degree value for user node\n",
    "        degree = G.out_degree(node)\n",
    "    else:\n",
    "        # in degree value for movie node\n",
    "        degree = G.in_degree(node)\n",
    "    # check for correct size number\n",
    "    if degree != G.nodes[node][\"size\"]:\n",
    "        print(\"Error: incorrect size value in node \", node)"
   ]
  },
  {
   "cell_type": "markdown",
   "id": "e908bc95",
   "metadata": {},
   "source": [
    "### Network visualisation\n",
    "\n",
    "Since designed network is tremendous, visualising it with use of standard python libraries and available computational resources is nearly impossible. Therefore for imaging purposes truncated sample network will be created, with much smaller number of nodes and edges. Network will be visualised with pyvis tool. "
   ]
  },
  {
   "cell_type": "code",
   "execution_count": 197,
   "id": "d3cc9d90",
   "metadata": {
    "scrolled": false
   },
   "outputs": [
    {
     "data": {
      "text/html": [
       "<pre style=\"white-space:pre;overflow-x:auto;line-height:normal;font-family:Menlo,'DejaVu Sans Mono',consolas,'Courier New',monospace\">Graph with <span style=\"color: #008080; text-decoration-color: #008080; font-weight: bold\">60</span> nodes and <span style=\"color: #008080; text-decoration-color: #008080; font-weight: bold\">410</span> edges\n",
       "</pre>\n"
      ],
      "text/plain": [
       "Graph with \u001b[1;36m60\u001b[0m nodes and \u001b[1;36m410\u001b[0m edges\n"
      ]
     },
     "metadata": {},
     "output_type": "display_data"
    },
    {
     "data": {
      "text/html": [
       "<pre style=\"white-space:pre;overflow-x:auto;line-height:normal;font-family:Menlo,'DejaVu Sans Mono',consolas,'Courier New',monospace\">Number of user nodes: <span style=\"color: #008080; text-decoration-color: #008080; font-weight: bold\">40</span>\n",
       "</pre>\n"
      ],
      "text/plain": [
       "Number of user nodes: \u001b[1;36m40\u001b[0m\n"
      ]
     },
     "metadata": {},
     "output_type": "display_data"
    },
    {
     "data": {
      "text/html": [
       "<pre style=\"white-space:pre;overflow-x:auto;line-height:normal;font-family:Menlo,'DejaVu Sans Mono',consolas,'Courier New',monospace\">Number of movie nodes: <span style=\"color: #008080; text-decoration-color: #008080; font-weight: bold\">20</span>\n",
       "</pre>\n"
      ],
      "text/plain": [
       "Number of movie nodes: \u001b[1;36m20\u001b[0m\n"
      ]
     },
     "metadata": {},
     "output_type": "display_data"
    }
   ],
   "source": [
    "# create truncated network with 100 nodes as indirected graph structure\n",
    "GT = nx.Graph()\n",
    "\n",
    "# add user nodes to the network\n",
    "for _, users in user_nodes.head(40).iterrows():\n",
    "    GT.add_node(users[\"username\"], \n",
    "                size = users[\"revs_num\"], \n",
    "                node_type = \"user\")\n",
    "    \n",
    "# add movie nodes to the network\n",
    "for _, movie in movie_nodes.sample(20).iterrows():\n",
    "    GT.add_node(movie[\"title\"], \n",
    "                size = movie[\"num_revs\"],\n",
    "                year = movie[\"year\"], \n",
    "                rating = movie[\"rating\"],  \n",
    "                node_type = \"movie\")\n",
    "    \n",
    "# add edges to the network\n",
    "for _, edge in edges.iterrows():\n",
    "    # sanity check whether such nodes exist in graph\n",
    "    if (GT.has_node(edge[\"from\"]) and GT.has_node(edge[\"to\"])):\n",
    "        # add the edge to the network\n",
    "        GT.add_edge(edge[\"from\"], edge[\"to\"])\n",
    "        \n",
    "# print statistics\n",
    "rich.print(GT)\n",
    "\n",
    "# iterate through nodes in network and count nodes number of each type to ensure all nodes were defined correctly\n",
    "u_nodes = 0\n",
    "m_nodes = 0\n",
    "for node in GT.nodes():\n",
    "    if GT.nodes[node][\"node_type\"] == \"user\":\n",
    "        u_nodes += 1\n",
    "    else:\n",
    "        m_nodes += 1\n",
    "\n",
    "rich.print(f\"Number of user nodes: {u_nodes}\")\n",
    "rich.print(f\"Number of movie nodes: {m_nodes}\")"
   ]
  },
  {
   "cell_type": "code",
   "execution_count": 206,
   "id": "a24c5718",
   "metadata": {},
   "outputs": [
    {
     "name": "stdout",
     "output_type": "stream",
     "text": [
      "Local cdn resources have problems on chrome/safari when used in jupyter-notebook. \n"
     ]
    },
    {
     "data": {
      "text/html": [
       "\n",
       "        <iframe\n",
       "            width=\"800\"\n",
       "            height=\"800\"\n",
       "            src=\"example.html\"\n",
       "            frameborder=\"0\"\n",
       "            allowfullscreen\n",
       "            \n",
       "        ></iframe>\n",
       "        "
      ],
      "text/plain": [
       "<IPython.lib.display.IFrame at 0x1816c536220>"
      ]
     },
     "execution_count": 206,
     "metadata": {},
     "output_type": "execute_result"
    }
   ],
   "source": [
    "net = Network(height = 800, width = 800, notebook = True)#\n",
    "net.toggle_hide_edges_on_drag(True)\n",
    "net.barnes_hut()\n",
    "net.from_nx(GT)\n",
    "net.show(\"example.html\")"
   ]
  }
 ],
 "metadata": {
  "kernelspec": {
   "display_name": "Python [conda env:root] *",
   "language": "python",
   "name": "conda-root-py"
  },
  "language_info": {
   "codemirror_mode": {
    "name": "ipython",
    "version": 3
   },
   "file_extension": ".py",
   "mimetype": "text/x-python",
   "name": "python",
   "nbconvert_exporter": "python",
   "pygments_lexer": "ipython3",
   "version": "3.8.13"
  },
  "toc": {
   "base_numbering": 1,
   "nav_menu": {},
   "number_sections": true,
   "sideBar": true,
   "skip_h1_title": false,
   "title_cell": "Table of Contents",
   "title_sidebar": "Contents",
   "toc_cell": false,
   "toc_position": {},
   "toc_section_display": true,
   "toc_window_display": false
  },
  "varInspector": {
   "cols": {
    "lenName": 16,
    "lenType": 16,
    "lenVar": 40
   },
   "kernels_config": {
    "python": {
     "delete_cmd_postfix": "",
     "delete_cmd_prefix": "del ",
     "library": "var_list.py",
     "varRefreshCmd": "print(var_dic_list())"
    },
    "r": {
     "delete_cmd_postfix": ") ",
     "delete_cmd_prefix": "rm(",
     "library": "var_list.r",
     "varRefreshCmd": "cat(var_dic_list()) "
    }
   },
   "types_to_exclude": [
    "module",
    "function",
    "builtin_function_or_method",
    "instance",
    "_Feature"
   ],
   "window_display": false
  }
 },
 "nbformat": 4,
 "nbformat_minor": 5
}
