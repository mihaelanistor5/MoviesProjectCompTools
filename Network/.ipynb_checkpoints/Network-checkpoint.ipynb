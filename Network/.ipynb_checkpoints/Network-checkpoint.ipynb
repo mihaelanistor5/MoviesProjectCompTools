{
 "cells": [
  {
   "cell_type": "code",
   "execution_count": 1,
   "id": "9a1873ae",
   "metadata": {},
   "outputs": [],
   "source": [
    "import pandas as pd\n",
    "import numpy as np\n",
    "import networkx as nx\n",
    "\n",
    "from pyvis.network import Network\n",
    "\n",
    "import os\n",
    "import rich\n",
    "\n",
    "# path to current directory\n",
    "path = os.getcwd()"
   ]
  },
  {
   "cell_type": "markdown",
   "id": "dfcdc9df",
   "metadata": {},
   "source": [
    "## Import data\n",
    "\n",
    "Data import from earlier prepared dataframe containing usernames and movie titles."
   ]
  },
  {
   "cell_type": "code",
   "execution_count": 2,
   "id": "c80e90e1",
   "metadata": {
    "scrolled": true
   },
   "outputs": [
    {
     "data": {
      "text/html": [
       "<div>\n",
       "<style scoped>\n",
       "    .dataframe tbody tr th:only-of-type {\n",
       "        vertical-align: middle;\n",
       "    }\n",
       "\n",
       "    .dataframe tbody tr th {\n",
       "        vertical-align: top;\n",
       "    }\n",
       "\n",
       "    .dataframe thead th {\n",
       "        text-align: right;\n",
       "    }\n",
       "</style>\n",
       "<table border=\"1\" class=\"dataframe\">\n",
       "  <thead>\n",
       "    <tr style=\"text-align: right;\">\n",
       "      <th></th>\n",
       "      <th>username</th>\n",
       "      <th>title</th>\n",
       "      <th>year</th>\n",
       "    </tr>\n",
       "  </thead>\n",
       "  <tbody>\n",
       "    <tr>\n",
       "      <th>372279</th>\n",
       "      <td>Horrorible_Horror_Films</td>\n",
       "      <td>She's the Man</td>\n",
       "      <td>2006</td>\n",
       "    </tr>\n",
       "    <tr>\n",
       "      <th>210905</th>\n",
       "      <td>metta1</td>\n",
       "      <td>Identity</td>\n",
       "      <td>2003</td>\n",
       "    </tr>\n",
       "    <tr>\n",
       "      <th>283189</th>\n",
       "      <td>CriticGirl91</td>\n",
       "      <td>Minions</td>\n",
       "      <td>2015</td>\n",
       "    </tr>\n",
       "    <tr>\n",
       "      <th>439777</th>\n",
       "      <td>Kevritch10-1</td>\n",
       "      <td>The Big Lebowski</td>\n",
       "      <td>1998</td>\n",
       "    </tr>\n",
       "    <tr>\n",
       "      <th>481690</th>\n",
       "      <td>dakkemik</td>\n",
       "      <td>The Fault in Our Stars</td>\n",
       "      <td>2014</td>\n",
       "    </tr>\n",
       "  </tbody>\n",
       "</table>\n",
       "</div>"
      ],
      "text/plain": [
       "                       username                   title  year\n",
       "372279  Horrorible_Horror_Films           She's the Man  2006\n",
       "210905                   metta1                Identity  2003\n",
       "283189             CriticGirl91                 Minions  2015\n",
       "439777             Kevritch10-1        The Big Lebowski  1998\n",
       "481690                 dakkemik  The Fault in Our Stars  2014"
      ]
     },
     "execution_count": 2,
     "metadata": {},
     "output_type": "execute_result"
    }
   ],
   "source": [
    "net_data = pd.read_csv(os.path.join(path, \"net_data.csv\"))\n",
    "\n",
    "# removing duplicates if any\n",
    "net_data.drop_duplicates(inplace = True)\n",
    "net_data.reset_index(drop = True, inplace = True)\n",
    "\n",
    "net_data.sample(5)"
   ]
  },
  {
   "cell_type": "markdown",
   "id": "93a04fc7",
   "metadata": {},
   "source": [
    "## Network preparation\n",
    "\n",
    "### Vertex set\n",
    "\n",
    "In this part vertex set of network will be prepared. Vertices in analysed graph will be users and movies.\n",
    "\n",
    "#### Username\n",
    "\n",
    "Prepare username nodes for network. The nodes for this group will contain:\n",
    "\n",
    "    - user name [\"username\"]\n",
    "    - number of movies this user has reviewed [\"revs_num\"]\n",
    "    \n",
    "To each username subscript \"u will be added, to avoid node cancellation when username and movie title is the same."
   ]
  },
  {
   "cell_type": "code",
   "execution_count": 3,
   "id": "838c5590",
   "metadata": {
    "scrolled": true
   },
   "outputs": [],
   "source": [
    "# count values of each user's reviews and save outcome to dataframe\n",
    "user_nodes = net_data.username.value_counts().to_frame(name = \"revs_num\")\n",
    "user_nodes.reset_index(inplace = True)\n",
    "\n",
    "# change column name that was affected by index reset\n",
    "user_nodes = user_nodes.rename(columns = {\"index\" : \"username\"})\n",
    "\n",
    "# add subscript\n",
    "user_nodes[\"username\"] = user_nodes[\"username\"].apply(lambda x: x + \"_u\")"
   ]
  },
  {
   "cell_type": "markdown",
   "id": "1dfd6cae",
   "metadata": {},
   "source": [
    "Relation containing nodes and their attributes, alongside some basic measures is shown below."
   ]
  },
  {
   "cell_type": "code",
   "execution_count": 4,
   "id": "6e5ab27b",
   "metadata": {
    "scrolled": false
   },
   "outputs": [
    {
     "data": {
      "text/html": [
       "<pre style=\"white-space:pre;overflow-x:auto;line-height:normal;font-family:Menlo,'DejaVu Sans Mono',consolas,'Courier New',monospace\">\n",
       "\n",
       "<span style=\"font-weight: bold\">Total number of username nodes: </span><span style=\"color: #008080; text-decoration-color: #008080; font-weight: bold\">309497</span>\n",
       "</pre>\n"
      ],
      "text/plain": [
       "\n",
       "\n",
       "\u001b[1mTotal number of username nodes: \u001b[0m\u001b[1;36m309497\u001b[0m\n"
      ]
     },
     "metadata": {},
     "output_type": "display_data"
    },
    {
     "data": {
      "text/html": [
       "<div>\n",
       "<style scoped>\n",
       "    .dataframe tbody tr th:only-of-type {\n",
       "        vertical-align: middle;\n",
       "    }\n",
       "\n",
       "    .dataframe tbody tr th {\n",
       "        vertical-align: top;\n",
       "    }\n",
       "\n",
       "    .dataframe thead th {\n",
       "        text-align: right;\n",
       "    }\n",
       "</style>\n",
       "<table border=\"1\" class=\"dataframe\">\n",
       "  <thead>\n",
       "    <tr style=\"text-align: right;\">\n",
       "      <th></th>\n",
       "      <th>username</th>\n",
       "      <th>revs_num</th>\n",
       "    </tr>\n",
       "  </thead>\n",
       "  <tbody>\n",
       "    <tr>\n",
       "      <th>0</th>\n",
       "      <td>SnoopyStyle_u</td>\n",
       "      <td>815</td>\n",
       "    </tr>\n",
       "    <tr>\n",
       "      <th>1</th>\n",
       "      <td>jboothmillard_u</td>\n",
       "      <td>717</td>\n",
       "    </tr>\n",
       "    <tr>\n",
       "      <th>2</th>\n",
       "      <td>TxMike_u</td>\n",
       "      <td>642</td>\n",
       "    </tr>\n",
       "    <tr>\n",
       "      <th>3</th>\n",
       "      <td>anaconda-40658_u</td>\n",
       "      <td>589</td>\n",
       "    </tr>\n",
       "    <tr>\n",
       "      <th>4</th>\n",
       "      <td>bob the moo_u</td>\n",
       "      <td>578</td>\n",
       "    </tr>\n",
       "  </tbody>\n",
       "</table>\n",
       "</div>"
      ],
      "text/plain": [
       "           username  revs_num\n",
       "0     SnoopyStyle_u       815\n",
       "1   jboothmillard_u       717\n",
       "2          TxMike_u       642\n",
       "3  anaconda-40658_u       589\n",
       "4     bob the moo_u       578"
      ]
     },
     "execution_count": 4,
     "metadata": {},
     "output_type": "execute_result"
    }
   ],
   "source": [
    "rich.print(f\"\\n\\n[bold]Total number of username nodes: {len(user_nodes.index)}\")\n",
    "user_nodes.head(5)"
   ]
  },
  {
   "cell_type": "markdown",
   "id": "2852c754",
   "metadata": {},
   "source": [
    "#### Movie\n",
    "\n",
    "Prepare movie nodes for network. The nodes for this group will contain:\n",
    "\n",
    "    - movie title [\"title\"]\n",
    "    - year of production [\"year\"]\n",
    "    - movie average rating [\"rating\"]\n",
    "    - number of reviews [\"num_revs\"]\n",
    "    \n",
    "To each username subscript \"u will be added, to avoid node cancellation when username and movie title is the same."
   ]
  },
  {
   "cell_type": "code",
   "execution_count": 5,
   "id": "a0e5fa7d",
   "metadata": {
    "scrolled": true
   },
   "outputs": [],
   "source": [
    "# Create dataframe containing title and year\n",
    "movie_nodes = net_data[[\"title\", \"year\"]].drop_duplicates()\n",
    "movie_nodes.reset_index(inplace = True, drop = True)\n",
    "movie_nodes[\"rating\"] = 0\n",
    "\n",
    "# calculate number of reviews for each movie and append it as a column to dataframe\n",
    "movie_revs = net_data.title.value_counts().to_frame(\"num_revs\")\n",
    "movie_revs.reset_index(inplace = True)\n",
    "movie_revs.rename(columns = {\"index\" : \"title\"}, inplace = True)\n",
    "movie_nodes = pd.merge(movie_nodes, movie_revs, on = \"title\")\n",
    "\n",
    "# delete unused dataframe from memory\n",
    "del movie_revs\n",
    "\n",
    "# add subscript\n",
    "movie_nodes[\"title\"] = movie_nodes[\"title\"].apply(lambda x: x + \"_m\")"
   ]
  },
  {
   "cell_type": "markdown",
   "id": "69314b22",
   "metadata": {},
   "source": [
    "Relation containing nodes and their attributes, alongside some basic measures is shown below."
   ]
  },
  {
   "cell_type": "code",
   "execution_count": 6,
   "id": "4dc13cf3",
   "metadata": {
    "scrolled": true
   },
   "outputs": [
    {
     "data": {
      "text/html": [
       "<pre style=\"white-space:pre;overflow-x:auto;line-height:normal;font-family:Menlo,'DejaVu Sans Mono',consolas,'Courier New',monospace\">\n",
       "\n",
       "<span style=\"font-weight: bold\">Total number of movie nodes: </span><span style=\"color: #008080; text-decoration-color: #008080; font-weight: bold\">825</span>\n",
       "</pre>\n"
      ],
      "text/plain": [
       "\n",
       "\n",
       "\u001b[1mTotal number of movie nodes: \u001b[0m\u001b[1;36m825\u001b[0m\n"
      ]
     },
     "metadata": {},
     "output_type": "display_data"
    },
    {
     "data": {
      "text/html": [
       "<div>\n",
       "<style scoped>\n",
       "    .dataframe tbody tr th:only-of-type {\n",
       "        vertical-align: middle;\n",
       "    }\n",
       "\n",
       "    .dataframe tbody tr th {\n",
       "        vertical-align: top;\n",
       "    }\n",
       "\n",
       "    .dataframe thead th {\n",
       "        text-align: right;\n",
       "    }\n",
       "</style>\n",
       "<table border=\"1\" class=\"dataframe\">\n",
       "  <thead>\n",
       "    <tr style=\"text-align: right;\">\n",
       "      <th></th>\n",
       "      <th>title</th>\n",
       "      <th>year</th>\n",
       "      <th>rating</th>\n",
       "      <th>num_revs</th>\n",
       "    </tr>\n",
       "  </thead>\n",
       "  <tbody>\n",
       "    <tr>\n",
       "      <th>0</th>\n",
       "      <td>10 Cloverfield Lane_m</td>\n",
       "      <td>2016</td>\n",
       "      <td>0</td>\n",
       "      <td>751</td>\n",
       "    </tr>\n",
       "    <tr>\n",
       "      <th>1</th>\n",
       "      <td>10 Things I Hate About You_m</td>\n",
       "      <td>1999</td>\n",
       "      <td>0</td>\n",
       "      <td>606</td>\n",
       "    </tr>\n",
       "    <tr>\n",
       "      <th>2</th>\n",
       "      <td>12 Angry Men_m</td>\n",
       "      <td>1957</td>\n",
       "      <td>0</td>\n",
       "      <td>1501</td>\n",
       "    </tr>\n",
       "    <tr>\n",
       "      <th>3</th>\n",
       "      <td>12 Years a Slave_m</td>\n",
       "      <td>2013</td>\n",
       "      <td>0</td>\n",
       "      <td>848</td>\n",
       "    </tr>\n",
       "    <tr>\n",
       "      <th>4</th>\n",
       "      <td>127 Hours_m</td>\n",
       "      <td>2010</td>\n",
       "      <td>0</td>\n",
       "      <td>481</td>\n",
       "    </tr>\n",
       "  </tbody>\n",
       "</table>\n",
       "</div>"
      ],
      "text/plain": [
       "                          title  year  rating  num_revs\n",
       "0         10 Cloverfield Lane_m  2016       0       751\n",
       "1  10 Things I Hate About You_m  1999       0       606\n",
       "2                12 Angry Men_m  1957       0      1501\n",
       "3            12 Years a Slave_m  2013       0       848\n",
       "4                   127 Hours_m  2010       0       481"
      ]
     },
     "execution_count": 6,
     "metadata": {},
     "output_type": "execute_result"
    }
   ],
   "source": [
    "rich.print(f\"\\n\\n[bold]Total number of movie nodes: {len(movie_nodes.index)}\")\n",
    "movie_nodes.head(5)"
   ]
  },
  {
   "cell_type": "markdown",
   "id": "c530c4ec",
   "metadata": {},
   "source": [
    "### Edge set\n",
    "\n",
    "Dataframe containing edge directions (from node to node) were defined based on reviews dataframe imported at the beginning."
   ]
  },
  {
   "cell_type": "code",
   "execution_count": 7,
   "id": "f661a337",
   "metadata": {},
   "outputs": [
    {
     "data": {
      "text/html": [
       "<pre style=\"white-space:pre;overflow-x:auto;line-height:normal;font-family:Menlo,'DejaVu Sans Mono',consolas,'Courier New',monospace\">\n",
       "\n",
       "<span style=\"font-weight: bold\">Total number of edges: </span><span style=\"color: #008080; text-decoration-color: #008080; font-weight: bold\">657387</span>\n",
       "</pre>\n"
      ],
      "text/plain": [
       "\n",
       "\n",
       "\u001b[1mTotal number of edges: \u001b[0m\u001b[1;36m657387\u001b[0m\n"
      ]
     },
     "metadata": {},
     "output_type": "display_data"
    },
    {
     "data": {
      "text/html": [
       "<div>\n",
       "<style scoped>\n",
       "    .dataframe tbody tr th:only-of-type {\n",
       "        vertical-align: middle;\n",
       "    }\n",
       "\n",
       "    .dataframe tbody tr th {\n",
       "        vertical-align: top;\n",
       "    }\n",
       "\n",
       "    .dataframe thead th {\n",
       "        text-align: right;\n",
       "    }\n",
       "</style>\n",
       "<table border=\"1\" class=\"dataframe\">\n",
       "  <thead>\n",
       "    <tr style=\"text-align: right;\">\n",
       "      <th></th>\n",
       "      <th>from</th>\n",
       "      <th>to</th>\n",
       "    </tr>\n",
       "  </thead>\n",
       "  <tbody>\n",
       "    <tr>\n",
       "      <th>641293</th>\n",
       "      <td>fredww_u</td>\n",
       "      <td>We Were Soldiers_m</td>\n",
       "    </tr>\n",
       "    <tr>\n",
       "      <th>330060</th>\n",
       "      <td>DareDevilKid_u</td>\n",
       "      <td>Prisoners_m</td>\n",
       "    </tr>\n",
       "    <tr>\n",
       "      <th>193805</th>\n",
       "      <td>tankeredbell_u</td>\n",
       "      <td>Harry Potter and the Order of the Phoenix_m</td>\n",
       "    </tr>\n",
       "    <tr>\n",
       "      <th>622979</th>\n",
       "      <td>powermandan_u</td>\n",
       "      <td>Unbroken_m</td>\n",
       "    </tr>\n",
       "    <tr>\n",
       "      <th>519052</th>\n",
       "      <td>mvrk_u</td>\n",
       "      <td>The Lion King_m</td>\n",
       "    </tr>\n",
       "  </tbody>\n",
       "</table>\n",
       "</div>"
      ],
      "text/plain": [
       "                  from                                           to\n",
       "641293        fredww_u                           We Were Soldiers_m\n",
       "330060  DareDevilKid_u                                  Prisoners_m\n",
       "193805  tankeredbell_u  Harry Potter and the Order of the Phoenix_m\n",
       "622979   powermandan_u                                   Unbroken_m\n",
       "519052          mvrk_u                              The Lion King_m"
      ]
     },
     "execution_count": 7,
     "metadata": {},
     "output_type": "execute_result"
    }
   ],
   "source": [
    "edges = net_data[[\"username\", \"title\"]]\n",
    "edges = edges.rename(columns = {\"username\" : \"from\", \"title\" : \"to\"})\n",
    "rich.print(f\"\\n\\n[bold]Total number of edges: {len(edges.index)}\")\n",
    "# adding subscripts\n",
    "edges[\"from\"] = edges[\"from\"].apply(lambda x: x + \"_u\")\n",
    "edges[\"to\"] = edges[\"to\"].apply(lambda x: x + \"_m\")\n",
    "# example of how relations look like\n",
    "edges.sample(5)"
   ]
  },
  {
   "cell_type": "markdown",
   "id": "608674a2",
   "metadata": {},
   "source": [
    "## Create network graph with use of NetworkX\n",
    "\n",
    "Graph structure was chosen to be directed, since reviews are going from user to specific movie. Two typed of nodes will be defined - user nodes and movie nodes. These vertices will have different attributes. Size of the nodes will be defined as number of edges going from/to specific node. Two attributes that are coherent for both node types are:\n",
    "\n",
    "    - size of node\n",
    "    - node_type -> specifying whether is this user node or movie node\n",
    "    \n",
    "### Defining nodes (vertices) and edges"
   ]
  },
  {
   "cell_type": "code",
   "execution_count": 8,
   "id": "6716b280",
   "metadata": {},
   "outputs": [],
   "source": [
    "# initiate empty graph structure\n",
    "G = nx.DiGraph()\n",
    "\n",
    "# add user nodes to the network\n",
    "for _, users in user_nodes.iterrows():\n",
    "    G.add_node(users[\"username\"], \n",
    "               size = users[\"revs_num\"], \n",
    "               node_type = \"user\")\n",
    "    \n",
    "# add movie nodes to the network\n",
    "for _, movie in movie_nodes.iterrows():\n",
    "    G.add_node(movie[\"title\"], \n",
    "               size = movie[\"num_revs\"],\n",
    "               year = movie[\"year\"], \n",
    "               rating = movie[\"rating\"],  \n",
    "               node_type = \"movie\")\n",
    "    \n",
    "# add edges to the network\n",
    "for _, edge in edges.iterrows():\n",
    "    # sanity check whether such nodes exist in graph\n",
    "    if (G.has_node(edge[\"from\"]) and G.has_node(edge[\"to\"])):\n",
    "        # add the edge to the network\n",
    "        G.add_edge(edge[\"from\"], edge[\"to\"])"
   ]
  },
  {
   "cell_type": "markdown",
   "id": "ecc9b8b1",
   "metadata": {},
   "source": [
    "### The network"
   ]
  },
  {
   "cell_type": "code",
   "execution_count": 9,
   "id": "bd1b5894",
   "metadata": {
    "scrolled": false
   },
   "outputs": [
    {
     "data": {
      "text/html": [
       "<pre style=\"white-space:pre;overflow-x:auto;line-height:normal;font-family:Menlo,'DejaVu Sans Mono',consolas,'Courier New',monospace\"><span style=\"font-weight: bold\">The network is directional graph containing following number of vertices and edges:</span>\n",
       "</pre>\n"
      ],
      "text/plain": [
       "\u001b[1mThe network is directional graph containing following number of vertices and edges:\u001b[0m\n"
      ]
     },
     "metadata": {},
     "output_type": "display_data"
    },
    {
     "data": {
      "text/html": [
       "<pre style=\"white-space:pre;overflow-x:auto;line-height:normal;font-family:Menlo,'DejaVu Sans Mono',consolas,'Courier New',monospace\">DiGraph with <span style=\"color: #008080; text-decoration-color: #008080; font-weight: bold\">310322</span> nodes and <span style=\"color: #008080; text-decoration-color: #008080; font-weight: bold\">657387</span> edges\n",
       "</pre>\n"
      ],
      "text/plain": [
       "DiGraph with \u001b[1;36m310322\u001b[0m nodes and \u001b[1;36m657387\u001b[0m edges\n"
      ]
     },
     "metadata": {},
     "output_type": "display_data"
    },
    {
     "data": {
      "text/html": [
       "<pre style=\"white-space:pre;overflow-x:auto;line-height:normal;font-family:Menlo,'DejaVu Sans Mono',consolas,'Courier New',monospace\">Number of user nodes: <span style=\"color: #008080; text-decoration-color: #008080; font-weight: bold\">309497</span>\n",
       "</pre>\n"
      ],
      "text/plain": [
       "Number of user nodes: \u001b[1;36m309497\u001b[0m\n"
      ]
     },
     "metadata": {},
     "output_type": "display_data"
    },
    {
     "data": {
      "text/html": [
       "<pre style=\"white-space:pre;overflow-x:auto;line-height:normal;font-family:Menlo,'DejaVu Sans Mono',consolas,'Courier New',monospace\">Number of movie nodes: <span style=\"color: #008080; text-decoration-color: #008080; font-weight: bold\">825</span>\n",
       "</pre>\n"
      ],
      "text/plain": [
       "Number of movie nodes: \u001b[1;36m825\u001b[0m\n"
      ]
     },
     "metadata": {},
     "output_type": "display_data"
    },
    {
     "data": {
      "text/html": [
       "<pre style=\"white-space:pre;overflow-x:auto;line-height:normal;font-family:Menlo,'DejaVu Sans Mono',consolas,'Courier New',monospace\"><span style=\"font-weight: bold\">User node example: </span>\n",
       "<span style=\"font-weight: bold\">{</span><span style=\"color: #008000; text-decoration-color: #008000\">'size'</span>: <span style=\"color: #008080; text-decoration-color: #008080; font-weight: bold\">815</span>, <span style=\"color: #008000; text-decoration-color: #008000\">'node_type'</span>: <span style=\"color: #008000; text-decoration-color: #008000\">'user'</span><span style=\"font-weight: bold\">}</span>\n",
       "</pre>\n"
      ],
      "text/plain": [
       "\u001b[1mUser node example: \u001b[0m\n",
       "\u001b[1m{\u001b[0m\u001b[32m'size'\u001b[0m: \u001b[1;36m815\u001b[0m, \u001b[32m'node_type'\u001b[0m: \u001b[32m'user'\u001b[0m\u001b[1m}\u001b[0m\n"
      ]
     },
     "metadata": {},
     "output_type": "display_data"
    },
    {
     "data": {
      "text/html": [
       "<pre style=\"white-space:pre;overflow-x:auto;line-height:normal;font-family:Menlo,'DejaVu Sans Mono',consolas,'Courier New',monospace\"><span style=\"font-weight: bold\">Movie node example: </span>\n",
       "<span style=\"font-weight: bold\">{</span><span style=\"color: #008000; text-decoration-color: #008000\">'size'</span>: <span style=\"color: #008080; text-decoration-color: #008080; font-weight: bold\">2541</span>, <span style=\"color: #008000; text-decoration-color: #008000\">'year'</span>: <span style=\"color: #008080; text-decoration-color: #008080; font-weight: bold\">2000</span>, <span style=\"color: #008000; text-decoration-color: #008000\">'rating'</span>: <span style=\"color: #008080; text-decoration-color: #008080; font-weight: bold\">0</span>, <span style=\"color: #008000; text-decoration-color: #008000\">'node_type'</span>: <span style=\"color: #008000; text-decoration-color: #008000\">'movie'</span><span style=\"font-weight: bold\">}</span>\n",
       "</pre>\n"
      ],
      "text/plain": [
       "\u001b[1mMovie node example: \u001b[0m\n",
       "\u001b[1m{\u001b[0m\u001b[32m'size'\u001b[0m: \u001b[1;36m2541\u001b[0m, \u001b[32m'year'\u001b[0m: \u001b[1;36m2000\u001b[0m, \u001b[32m'rating'\u001b[0m: \u001b[1;36m0\u001b[0m, \u001b[32m'node_type'\u001b[0m: \u001b[32m'movie'\u001b[0m\u001b[1m}\u001b[0m\n"
      ]
     },
     "metadata": {},
     "output_type": "display_data"
    }
   ],
   "source": [
    "rich.print(f\"[bold]The network is directional graph containing following number of vertices and edges:\")\n",
    "rich.print(G)\n",
    "\n",
    "# iterate through nodes in network and count nodes number of each type to ensure all nodes were defined correctly\n",
    "u_nodes = 0\n",
    "m_nodes = 0\n",
    "for node in G.nodes():\n",
    "    if G.nodes[node][\"node_type\"] == \"user\":\n",
    "        u_nodes += 1\n",
    "    else:\n",
    "        m_nodes += 1\n",
    "\n",
    "rich.print(f\"Number of user nodes: {u_nodes}\")\n",
    "rich.print(f\"Number of movie nodes: {m_nodes}\")\n",
    "rich.print(f\"[bold]User node example: \", G.nodes[\"SnoopyStyle_u\"])\n",
    "rich.print(f\"[bold]Movie node example: \", G.nodes[\"Gladiator_m\"])"
   ]
  },
  {
   "cell_type": "markdown",
   "id": "6c056c13",
   "metadata": {},
   "source": [
    "Node \"size\" attribute value should be equal to \"in degree\" (number of edges with vertex $x_1$ as terminated vertex) for all movie nodes and equal to \"out degree\" (number of edges that are initiated from vertex $x_2$) for user nodes. $x_1, x_2$ represent sam random node from specific group."
   ]
  },
  {
   "cell_type": "code",
   "execution_count": 10,
   "id": "b64c78bc",
   "metadata": {},
   "outputs": [],
   "source": [
    "# check whether all nodes have assigned correct size numbers\n",
    "i = 0\n",
    "for node in G.nodes():\n",
    "    if G.nodes[node][\"node_type\"] == \"user\":\n",
    "        # out degree value for user node\n",
    "        degree = G.out_degree(node)\n",
    "    else:\n",
    "        # in degree value for movie node\n",
    "        degree = G.in_degree(node)\n",
    "    # check for correct size number\n",
    "    if degree != G.nodes[node][\"size\"]:\n",
    "        print(\"Error: incorrect size value in node \", node)"
   ]
  },
  {
   "cell_type": "markdown",
   "id": "0e2d15b0",
   "metadata": {},
   "source": [
    "### Network findings\n",
    "\n",
    "Some metrics were investigated based on created network. Those were top 10 most frequently rated movies, top 10 users with most ratings written, 10 least rated movies and 10 users with lowers number of rated movies. This could be done as well with use of pandas, but for network analysis purposes will be derived directly from network as well."
   ]
  },
  {
   "cell_type": "code",
   "execution_count": 73,
   "id": "ccf68213",
   "metadata": {},
   "outputs": [
    {
     "data": {
      "text/html": [
       "<pre style=\"white-space:pre;overflow-x:auto;line-height:normal;font-family:Menlo,'DejaVu Sans Mono',consolas,'Courier New',monospace\"><span style=\"font-weight: bold\">Users with highest amount of reviewed movies:</span>\n",
       "</pre>\n"
      ],
      "text/plain": [
       "\u001b[1mUsers with highest amount of reviewed movies:\u001b[0m\n"
      ]
     },
     "metadata": {},
     "output_type": "display_data"
    },
    {
     "name": "stdout",
     "output_type": "stream",
     "text": [
      "1. SnoopyStyle              -> 815 review\n",
      "2. jboothmillard            -> 717 review\n",
      "3. TxMike                   -> 642 review\n",
      "4. anaconda-40658           -> 589 review\n",
      "5. bob the moo              -> 578 review\n",
      "6. george.schmidt           -> 567 review\n",
      "7. g-bodyl                  -> 533 review\n",
      "8. Quinoa1984               -> 528 review\n",
      "9. lesleyharris30           -> 516 review\n",
      "10. TheLittleSongbird        -> 498 review\n"
     ]
    },
    {
     "data": {
      "text/html": [
       "<pre style=\"white-space:pre;overflow-x:auto;line-height:normal;font-family:Menlo,'DejaVu Sans Mono',consolas,'Courier New',monospace\"><span style=\"font-weight: bold\">Users with lowest amount of reviewed movies:</span>\n",
       "</pre>\n"
      ],
      "text/plain": [
       "\u001b[1mUsers with lowest amount of reviewed movies:\u001b[0m\n"
      ]
     },
     "metadata": {},
     "output_type": "display_data"
    },
    {
     "name": "stdout",
     "output_type": "stream",
     "text": [
      "lane0065                 -> 1 reviews\n",
      "aktatmot                 -> 1 reviews\n",
      "ahinz2000                -> 1 reviews\n",
      "andysimon82              -> 1 reviews\n",
      "liquidmetalkingslime     -> 1 reviews\n",
      "Millertucker98           -> 1 reviews\n",
      "m-h-clough               -> 1 reviews\n",
      "vsrini2008               -> 1 reviews\n",
      "rtannoia                 -> 1 reviews\n",
      "peterchallenger          -> 1 reviews\n"
     ]
    },
    {
     "data": {
      "text/html": [
       "<pre style=\"white-space:pre;overflow-x:auto;line-height:normal;font-family:Menlo,'DejaVu Sans Mono',consolas,'Courier New',monospace\"><span style=\"font-weight: bold\">Movies with highest number of reviews:</span>\n",
       "</pre>\n"
      ],
      "text/plain": [
       "\u001b[1mMovies with highest number of reviews:\u001b[0m\n"
      ]
     },
     "metadata": {},
     "output_type": "display_data"
    },
    {
     "name": "stdout",
     "output_type": "stream",
     "text": [
      "1. The Shawshank Redemption                          -> 7717 reviews\n",
      "2. The Dark Knight                                   -> 6668 reviews\n",
      "3. The Lord of the Rings: The Fellowship of the Ring  -> 5174 reviews\n",
      "4. The Matrix                                        -> 4115 reviews\n",
      "5. Interstellar                                      -> 3868 reviews\n",
      "6. Star Wars: Episode I - The Phantom Menace         -> 3709 reviews\n",
      "7. Inception                                         -> 3701 reviews\n",
      "8. The Godfather                                     -> 3698 reviews\n",
      "9. Batman v Superman: Dawn of Justice                -> 3690 reviews\n",
      "10. Fight Club                                        -> 3603 reviews\n"
     ]
    },
    {
     "data": {
      "text/html": [
       "<pre style=\"white-space:pre;overflow-x:auto;line-height:normal;font-family:Menlo,'DejaVu Sans Mono',consolas,'Courier New',monospace\"><span style=\"font-weight: bold\">Movies with lowest number of reviews:</span>\n",
       "</pre>\n"
      ],
      "text/plain": [
       "\u001b[1mMovies with lowest number of reviews:\u001b[0m\n"
      ]
     },
     "metadata": {},
     "output_type": "display_data"
    },
    {
     "name": "stdout",
     "output_type": "stream",
     "text": [
      "1. Stop-Loss                                         -> 102 reviews\n",
      "2. The Fan                                           -> 103 reviews\n",
      "3. McFarland, USA                                    -> 104 reviews\n",
      "4. The Young Victoria                                -> 108 reviews\n",
      "5. Million Dollar Arm                                -> 109 reviews\n",
      "6. The Rocker                                        -> 112 reviews\n",
      "7. Step Up 2: The Streets                            -> 114 reviews\n",
      "8. Shine                                             -> 116 reviews\n",
      "9. Major League                                      -> 116 reviews\n",
      "10. The Greatest Game Ever Played                     -> 119 reviews\n"
     ]
    }
   ],
   "source": [
    "# create dictionary with nodes and their in/out degrees\n",
    "out_stat = {key: value for key, value in sorted(G.out_degree(), key = lambda item: item[1], reverse=True)}\n",
    "in_stat = {key: value for key, value in sorted(G.in_degree(), key = lambda item: item[1], reverse=True)}\n",
    "\n",
    "top_users = []\n",
    "top_movies = []\n",
    "\n",
    "# make sorted list of users\n",
    "for node in out_stat:\n",
    "    if G.nodes[node][\"node_type\"] == \"user\":\n",
    "        top_users.append(node)\n",
    "\n",
    "# make sorted list of movies\n",
    "for node in in_stat:\n",
    "    if G.nodes[node][\"node_type\"] == \"movie\":\n",
    "        top_movies.append(node)\n",
    "        \n",
    "# print top tens\n",
    "\n",
    "# users with highest number of ratings\n",
    "rich.print(f\"[bold]Users with highest amount of reviewed movies:\")\n",
    "for i, user in enumerate(top_users[:10]):\n",
    "    # variable number of text space to make neat layout\n",
    "    space = \" \"*(25-len(user))\n",
    "    print(f\"{i+1}. {user[:-2]}\", space, f\"-> {out_stat[user]} review\")\n",
    "\n",
    "# users with lowest number of ratings\n",
    "rich.print(f\"[bold]Users with lowest amount of reviewed movies:\")\n",
    "for user in top_users[-10:]:\n",
    "    # variable number of text space to make neat layout\n",
    "    space = \" \"*(25-len(user))\n",
    "    print(f\"{user[:-2]}\", space, f\"-> {out_stat[user]} reviews\")\n",
    "\n",
    "# movies with highest number of ratings\n",
    "rich.print(f\"[bold]Movies with highest number of reviews:\")\n",
    "for i, movie in enumerate(top_movies[:10]):\n",
    "    # variable number of text space to make neat layout\n",
    "    space = \" \"*(50-len(movie))\n",
    "    print(f\"{i+1}. {movie[:-2]}\", space, f\"-> {in_stat[movie]} reviews\")\n",
    "\n",
    "# movies with lowest number of ratings\n",
    "rich.print(f\"[bold]Movies with lowest number of reviews:\")\n",
    "for i, movie in enumerate(reversed(top_movies[-10:])):\n",
    "    # variable number of text space to make neat layout\n",
    "    space = \" \"*(50-len(movie))\n",
    "    print(f\"{i+1}. {movie[:-2]}\", space, f\"-> {in_stat[movie]} reviews\")"
   ]
  },
  {
   "cell_type": "markdown",
   "id": "e908bc95",
   "metadata": {},
   "source": [
    "### Network visualisation\n",
    "\n",
    "Since designed network is tremendous, visualising it with use of standard python libraries and available computational resources is nearly impossible. Therefore for imaging purposes truncated sample network will be created, with much smaller number of nodes and edges. Network will be visualised with pyvis tool, therefore some naming rules will be changed, to make visualisation more clear. This part won't be considered as our developed network, the subnetwork is made solely and exclusively for graph drawing."
   ]
  },
  {
   "cell_type": "code",
   "execution_count": 17,
   "id": "c6c8cd3c",
   "metadata": {},
   "outputs": [],
   "source": [
    "# graph properties\n",
    "\n",
    "# number of user nodes\n",
    "un = 40                   \n",
    "# number of movie nodes\n",
    "mn = 40\n",
    "# size scaling factor\n",
    "ssf = 3"
   ]
  },
  {
   "cell_type": "code",
   "execution_count": 18,
   "id": "d3cc9d90",
   "metadata": {
    "scrolled": false
   },
   "outputs": [
    {
     "data": {
      "text/html": [
       "<pre style=\"white-space:pre;overflow-x:auto;line-height:normal;font-family:Menlo,'DejaVu Sans Mono',consolas,'Courier New',monospace\">Graph with <span style=\"color: #008080; text-decoration-color: #008080; font-weight: bold\">80</span> nodes and <span style=\"color: #008080; text-decoration-color: #008080; font-weight: bold\">953</span> edges\n",
       "</pre>\n"
      ],
      "text/plain": [
       "Graph with \u001b[1;36m80\u001b[0m nodes and \u001b[1;36m953\u001b[0m edges\n"
      ]
     },
     "metadata": {},
     "output_type": "display_data"
    },
    {
     "data": {
      "text/html": [
       "<pre style=\"white-space:pre;overflow-x:auto;line-height:normal;font-family:Menlo,'DejaVu Sans Mono',consolas,'Courier New',monospace\">Number of user nodes: <span style=\"color: #008080; text-decoration-color: #008080; font-weight: bold\">40</span>\n",
       "</pre>\n"
      ],
      "text/plain": [
       "Number of user nodes: \u001b[1;36m40\u001b[0m\n"
      ]
     },
     "metadata": {},
     "output_type": "display_data"
    },
    {
     "data": {
      "text/html": [
       "<pre style=\"white-space:pre;overflow-x:auto;line-height:normal;font-family:Menlo,'DejaVu Sans Mono',consolas,'Courier New',monospace\">Number of movie nodes: <span style=\"color: #008080; text-decoration-color: #008080; font-weight: bold\">40</span>\n",
       "</pre>\n"
      ],
      "text/plain": [
       "Number of movie nodes: \u001b[1;36m40\u001b[0m\n"
      ]
     },
     "metadata": {},
     "output_type": "display_data"
    }
   ],
   "source": [
    "# create truncated network with 100 nodes as indirected graph structure\n",
    "GT = nx.Graph()\n",
    "\n",
    "# add user nodes to the network\n",
    "for _, users in user_nodes.head(un).iterrows():\n",
    "    GT.add_node(users[\"username\"], \n",
    "                title = users[\"username\"][:-2],        # delete subscript from title\n",
    "                size = users[\"revs_num\"]/ssf,          # make node smaller\n",
    "                group = \"user\")                        # assign a color group\n",
    "    \n",
    "# add movie nodes to the network\n",
    "for _, movie in movie_nodes.sample(mn).iterrows():\n",
    "    GT.add_node(movie[\"title\"], \n",
    "                title = movie[\"title\"][:-2],           # delete subscript from title \n",
    "                size = movie[\"num_revs\"]/ssf,          # make node smaller\n",
    "                year = movie[\"year\"], \n",
    "                rating = movie[\"rating\"],  \n",
    "                group = \"movie\")                       # assign a color group\n",
    "    \n",
    "# add edges to the network\n",
    "for _, edge in edges.iterrows():\n",
    "    # sanity check whether such nodes exist in graph\n",
    "    if (GT.has_node(edge[\"from\"]) and GT.has_node(edge[\"to\"])):\n",
    "        # add the edge to the network\n",
    "        GT.add_edge(edge[\"from\"], edge[\"to\"])\n",
    "        \n",
    "# print statistics\n",
    "rich.print(GT)\n",
    "\n",
    "# count number of nodes in each group\n",
    "u_nodes = 0\n",
    "m_nodes = 0\n",
    "for node in GT.nodes():\n",
    "    if GT.nodes[node][\"group\"] == \"user\":\n",
    "        u_nodes += 1\n",
    "    else:\n",
    "        m_nodes += 1\n",
    "\n",
    "rich.print(f\"Number of user nodes: {u_nodes}\")\n",
    "rich.print(f\"Number of movie nodes: {m_nodes}\")"
   ]
  },
  {
   "cell_type": "markdown",
   "id": "9f0aec97",
   "metadata": {},
   "source": [
    "Network graph generation may take some time. Furthermore following message may appear: \n",
    "\n",
    "<font color='red'>Local cdn resources have problems on chrome/safari when used in jupyter-notebook.</font>\n",
    "\n",
    "This should be ignored. Even though it appears, graph visualisation will appear after a while."
   ]
  },
  {
   "cell_type": "code",
   "execution_count": 19,
   "id": "a24c5718",
   "metadata": {
    "scrolled": false
   },
   "outputs": [
    {
     "data": {
      "text/html": [
       "<pre style=\"white-space:pre;overflow-x:auto;line-height:normal;font-family:Menlo,'DejaVu Sans Mono',consolas,'Courier New',monospace\"><span style=\"font-weight: bold\">Nodes and their colours legend:</span>\n",
       "</pre>\n"
      ],
      "text/plain": [
       "\u001b[1mNodes and their colours legend:\u001b[0m\n"
      ]
     },
     "metadata": {},
     "output_type": "display_data"
    },
    {
     "data": {
      "text/html": [
       "<pre style=\"white-space:pre;overflow-x:auto;line-height:normal;font-family:Menlo,'DejaVu Sans Mono',consolas,'Courier New',monospace\"><span style=\"color: #000080; text-decoration-color: #000080\">BLUE </span><span style=\"color: #000000; text-decoration-color: #000000\">nodes are users</span>\n",
       "<span style=\"color: #808000; text-decoration-color: #808000\">YELLOW </span><span style=\"color: #000000; text-decoration-color: #000000\">nodes are movies</span>\n",
       "</pre>\n"
      ],
      "text/plain": [
       "\u001b[34mBLUE \u001b[0m\u001b[30mnodes are users\u001b[0m\n",
       "\u001b[33mYELLOW \u001b[0m\u001b[30mnodes are movies\u001b[0m\n"
      ]
     },
     "metadata": {},
     "output_type": "display_data"
    },
    {
     "name": "stdout",
     "output_type": "stream",
     "text": [
      "Local cdn resources have problems on chrome/safari when used in jupyter-notebook. \n"
     ]
    },
    {
     "data": {
      "text/html": [
       "\n",
       "        <iframe\n",
       "            width=\"900\"\n",
       "            height=\"900\"\n",
       "            src=\"network.html\"\n",
       "            frameborder=\"0\"\n",
       "            allowfullscreen\n",
       "            \n",
       "        ></iframe>\n",
       "        "
      ],
      "text/plain": [
       "<IPython.lib.display.IFrame at 0x17a1c10e310>"
      ]
     },
     "execution_count": 19,
     "metadata": {},
     "output_type": "execute_result"
    }
   ],
   "source": [
    "rich.print(f\"[bold]Nodes and their colours legend:\")\n",
    "rich.print(f\"[blue]BLUE [black]nodes are users\\n[yellow]YELLOW [black]nodes are movies\")\n",
    "net = Network(height = 900, width = 900, notebook = True)\n",
    "net.toggle_hide_edges_on_drag(True)\n",
    "net.barnes_hut()\n",
    "net.from_nx(GT)\n",
    "net.show_buttons(filter_=['physics'])\n",
    "net.show(\"network.html\")"
   ]
  }
 ],
 "metadata": {
  "kernelspec": {
   "display_name": "Python [conda env:root] *",
   "language": "python",
   "name": "conda-root-py"
  },
  "language_info": {
   "codemirror_mode": {
    "name": "ipython",
    "version": 3
   },
   "file_extension": ".py",
   "mimetype": "text/x-python",
   "name": "python",
   "nbconvert_exporter": "python",
   "pygments_lexer": "ipython3",
   "version": "3.8.13"
  },
  "toc": {
   "base_numbering": 1,
   "nav_menu": {},
   "number_sections": true,
   "sideBar": true,
   "skip_h1_title": false,
   "title_cell": "Table of Contents",
   "title_sidebar": "Contents",
   "toc_cell": false,
   "toc_position": {},
   "toc_section_display": true,
   "toc_window_display": false
  },
  "varInspector": {
   "cols": {
    "lenName": 16,
    "lenType": 16,
    "lenVar": 40
   },
   "kernels_config": {
    "python": {
     "delete_cmd_postfix": "",
     "delete_cmd_prefix": "del ",
     "library": "var_list.py",
     "varRefreshCmd": "print(var_dic_list())"
    },
    "r": {
     "delete_cmd_postfix": ") ",
     "delete_cmd_prefix": "rm(",
     "library": "var_list.r",
     "varRefreshCmd": "cat(var_dic_list()) "
    }
   },
   "types_to_exclude": [
    "module",
    "function",
    "builtin_function_or_method",
    "instance",
    "_Feature"
   ],
   "window_display": false
  }
 },
 "nbformat": 4,
 "nbformat_minor": 5
}
