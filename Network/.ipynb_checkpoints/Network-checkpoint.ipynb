{
 "cells": [
  {
   "cell_type": "code",
   "execution_count": null,
   "id": "9a1873ae",
   "metadata": {},
   "outputs": [],
   "source": [
    "import pandas as pd\n",
    "import numpy as np\n",
    "import networkx as nx\n",
    "\n",
    "from pyvis.network import Network\n",
    "\n",
    "import os\n",
    "import rich\n",
    "\n",
    "# path to current directory\n",
    "path = os.getcwd()"
   ]
  },
  {
   "cell_type": "markdown",
   "id": "dfcdc9df",
   "metadata": {},
   "source": [
    "## Import data\n",
    "\n",
    "Data import from earlier prepared dataframe containing usernames and movie titles."
   ]
  },
  {
   "cell_type": "code",
   "execution_count": null,
   "id": "c80e90e1",
   "metadata": {
    "scrolled": true
   },
   "outputs": [],
   "source": [
    "net_data = pd.read_csv(os.path.join(path, \"net_data.csv\"))\n",
    "\n",
    "# removing duplicates if any\n",
    "net_data.drop_duplicates(inplace = True)\n",
    "net_data.reset_index(drop = True, inplace = True)\n",
    "\n",
    "net_data.sample(5)"
   ]
  },
  {
   "cell_type": "markdown",
   "id": "93a04fc7",
   "metadata": {},
   "source": [
    "## Network preparation\n",
    "\n",
    "### Vertex set\n",
    "\n",
    "In this part vertex set of network will be prepared. Vertices in analysed graph will be users and movies.\n",
    "\n",
    "#### Username\n",
    "\n",
    "Prepare username nodes for network. The nodes for this group will contain:\n",
    "\n",
    "    - user name [\"username\"]\n",
    "    - number of movies this user has reviewed [\"revs_num\"]\n",
    "    \n",
    "To each username subscript \"u will be added, to avoid node cancellation when username and movie title is the same."
   ]
  },
  {
   "cell_type": "code",
   "execution_count": null,
   "id": "838c5590",
   "metadata": {
    "scrolled": true
   },
   "outputs": [],
   "source": [
    "# count values of each user's reviews and save outcome to dataframe\n",
    "user_nodes = net_data.username.value_counts().to_frame(name = \"revs_num\")\n",
    "user_nodes.reset_index(inplace = True)\n",
    "\n",
    "# change column name that was affected by index reset\n",
    "user_nodes = user_nodes.rename(columns = {\"index\" : \"username\"})\n",
    "\n",
    "# add subscript\n",
    "user_nodes[\"username\"] = user_nodes[\"username\"].apply(lambda x: x + \"_u\")"
   ]
  },
  {
   "cell_type": "markdown",
   "id": "1dfd6cae",
   "metadata": {},
   "source": [
    "Relation containing nodes and their attributes, alongside some basic measures is shown below."
   ]
  },
  {
   "cell_type": "code",
   "execution_count": null,
   "id": "6e5ab27b",
   "metadata": {
    "scrolled": false
   },
   "outputs": [],
   "source": [
    "rich.print(f\"\\n\\n[bold]Total number of username nodes: {len(user_nodes.index)}\")\n",
    "user_nodes.head(5)"
   ]
  },
  {
   "cell_type": "markdown",
   "id": "2852c754",
   "metadata": {},
   "source": [
    "#### Movie\n",
    "\n",
    "Prepare movie nodes for network. The nodes for this group will contain:\n",
    "\n",
    "    - movie title [\"title\"]\n",
    "    - year of production [\"year\"]\n",
    "    - movie average rating [\"rating\"]\n",
    "    - number of reviews [\"num_revs\"]\n",
    "    \n",
    "To each username subscript \"u will be added, to avoid node cancellation when username and movie title is the same."
   ]
  },
  {
   "cell_type": "code",
   "execution_count": null,
   "id": "a0e5fa7d",
   "metadata": {
    "scrolled": true
   },
   "outputs": [],
   "source": [
    "# Create dataframe containing title and year\n",
    "movie_nodes = net_data[[\"title\", \"year\"]].drop_duplicates()\n",
    "movie_nodes.reset_index(inplace = True, drop = True)\n",
    "movie_nodes[\"rating\"] = 0\n",
    "\n",
    "# calculate number of reviews for each movie and append it as a column to dataframe\n",
    "movie_revs = net_data.title.value_counts().to_frame(\"num_revs\")\n",
    "movie_revs.reset_index(inplace = True)\n",
    "movie_revs.rename(columns = {\"index\" : \"title\"}, inplace = True)\n",
    "movie_nodes = pd.merge(movie_nodes, movie_revs, on = \"title\")\n",
    "\n",
    "# delete unused dataframe from memory\n",
    "del movie_revs\n",
    "\n",
    "# add subscript\n",
    "movie_nodes[\"title\"] = movie_nodes[\"title\"].apply(lambda x: x + \"_m\")"
   ]
  },
  {
   "cell_type": "markdown",
   "id": "69314b22",
   "metadata": {},
   "source": [
    "Relation containing nodes and their attributes, alongside some basic measures is shown below."
   ]
  },
  {
   "cell_type": "code",
   "execution_count": null,
   "id": "4dc13cf3",
   "metadata": {
    "scrolled": true
   },
   "outputs": [],
   "source": [
    "rich.print(f\"\\n\\n[bold]Total number of movie nodes: {len(movie_nodes.index)}\")\n",
    "movie_nodes.head(5)"
   ]
  },
  {
   "cell_type": "markdown",
   "id": "c530c4ec",
   "metadata": {},
   "source": [
    "### Edge set\n",
    "\n",
    "Dataframe containing edge directions (from node to node) were defined based on reviews dataframe imported at the beginning."
   ]
  },
  {
   "cell_type": "code",
   "execution_count": null,
   "id": "f661a337",
   "metadata": {},
   "outputs": [],
   "source": [
    "edges = net_data[[\"username\", \"title\"]]\n",
    "edges = edges.rename(columns = {\"username\" : \"from\", \"title\" : \"to\"})\n",
    "rich.print(f\"\\n\\n[bold]Total number of edges: {len(edges.index)}\")\n",
    "# adding subscripts\n",
    "edges[\"from\"] = edges[\"from\"].apply(lambda x: x + \"_u\")\n",
    "edges[\"to\"] = edges[\"to\"].apply(lambda x: x + \"_m\")\n",
    "# example of how relations look like\n",
    "edges.sample(5)"
   ]
  },
  {
   "cell_type": "markdown",
   "id": "608674a2",
   "metadata": {},
   "source": [
    "## Create network graph with use of NetworkX\n",
    "\n",
    "Graph structure was chosen to be directed, since reviews are going from user to specific movie. Two typed of nodes will be defined - user nodes and movie nodes. These vertices will have different attributes. Size of the nodes will be defined as number of edges going from/to specific node. Two attributes that are coherent for both node types are:\n",
    "\n",
    "    - size of node\n",
    "    - node_type -> specifying whether is this user node or movie node\n",
    "    \n",
    "### Defining nodes (vertices) and edges"
   ]
  },
  {
   "cell_type": "code",
   "execution_count": null,
   "id": "6716b280",
   "metadata": {},
   "outputs": [],
   "source": [
    "# initiate empty graph structure\n",
    "G = nx.DiGraph()\n",
    "\n",
    "# add user nodes to the network\n",
    "for _, users in user_nodes.iterrows():\n",
    "    G.add_node(users[\"username\"], \n",
    "               size = users[\"revs_num\"], \n",
    "               node_type = \"user\")\n",
    "    \n",
    "# add movie nodes to the network\n",
    "for _, movie in movie_nodes.iterrows():\n",
    "    G.add_node(movie[\"title\"], \n",
    "               size = movie[\"num_revs\"],\n",
    "               year = movie[\"year\"], \n",
    "               rating = movie[\"rating\"],  \n",
    "               node_type = \"movie\")\n",
    "    \n",
    "# add edges to the network\n",
    "for _, edge in edges.iterrows():\n",
    "    # sanity check whether such nodes exist in graph\n",
    "    if (G.has_node(edge[\"from\"]) and G.has_node(edge[\"to\"])):\n",
    "        # add the edge to the network\n",
    "        G.add_edge(edge[\"from\"], edge[\"to\"])"
   ]
  },
  {
   "cell_type": "markdown",
   "id": "ecc9b8b1",
   "metadata": {},
   "source": [
    "### The network"
   ]
  },
  {
   "cell_type": "code",
   "execution_count": null,
   "id": "bd1b5894",
   "metadata": {
    "scrolled": false
   },
   "outputs": [],
   "source": [
    "rich.print(f\"[bold]The network is directional graph containing following number of vertices and edges:\")\n",
    "rich.print(G)\n",
    "\n",
    "# iterate through nodes in network and count nodes number of each type to ensure all nodes were defined correctly\n",
    "u_nodes = 0\n",
    "m_nodes = 0\n",
    "for node in G.nodes():\n",
    "    if G.nodes[node][\"node_type\"] == \"user\":\n",
    "        u_nodes += 1\n",
    "    else:\n",
    "        m_nodes += 1\n",
    "\n",
    "rich.print(f\"Number of user nodes: {u_nodes}\")\n",
    "rich.print(f\"Number of movie nodes: {m_nodes}\")\n",
    "rich.print(f\"[bold]User node example: \", G.nodes[\"SnoopyStyle_u\"])\n",
    "rich.print(f\"[bold]Movie node example: \", G.nodes[\"Gladiator_m\"])"
   ]
  },
  {
   "cell_type": "markdown",
   "id": "6c056c13",
   "metadata": {},
   "source": [
    "Node \"size\" attribute value should be equal to \"in degree\" (number of edges with vertex $x_1$ as terminated vertex) for all movie nodes and equal to \"out degree\" (number of edges that are initiated from vertex $x_2$) for user nodes. $x_1, x_2$ represent sam random node from specific group."
   ]
  },
  {
   "cell_type": "code",
   "execution_count": null,
   "id": "b64c78bc",
   "metadata": {},
   "outputs": [],
   "source": [
    "# check whether all nodes have assigned correct size numbers\n",
    "i = 0\n",
    "for node in G.nodes():\n",
    "    if G.nodes[node][\"node_type\"] == \"user\":\n",
    "        # out degree value for user node\n",
    "        degree = G.out_degree(node)\n",
    "    else:\n",
    "        # in degree value for movie node\n",
    "        degree = G.in_degree(node)\n",
    "    # check for correct size number\n",
    "    if degree != G.nodes[node][\"size\"]:\n",
    "        print(\"Error: incorrect size value in node \", node)"
   ]
  },
  {
   "cell_type": "markdown",
   "id": "e908bc95",
   "metadata": {},
   "source": [
    "### Network visualisation\n",
    "\n",
    "Since designed network is tremendous, visualising it with use of standard python libraries and available computational resources is nearly impossible. Therefore for imaging purposes truncated sample network will be created, with much smaller number of nodes and edges. Network will be visualised with pyvis tool, therefore some naming rules will be changed, to make visualisation more clear. This part won't be considered as our developed network, the subnetwork is made solely and exclusively for graph drawing."
   ]
  },
  {
   "cell_type": "code",
   "execution_count": null,
   "id": "c6c8cd3c",
   "metadata": {},
   "outputs": [],
   "source": [
    "# graph properties\n",
    "\n",
    "# number of user nodes\n",
    "un = 50                   \n",
    "# number of movie nodes\n",
    "mn = 25\n",
    "# size scaling factor\n",
    "ssf = 3"
   ]
  },
  {
   "cell_type": "code",
   "execution_count": null,
   "id": "d3cc9d90",
   "metadata": {
    "scrolled": false
   },
   "outputs": [],
   "source": [
    "# create truncated network with 100 nodes as indirected graph structure\n",
    "GT = nx.Graph()\n",
    "\n",
    "# add user nodes to the network\n",
    "for _, users in user_nodes.head(un).iterrows():\n",
    "    GT.add_node(users[\"username\"], \n",
    "                title = users[\"username\"][:-2],        # delete subscript from title\n",
    "                size = users[\"revs_num\"]/ssf,          # make node smaller\n",
    "                group = \"user\")                        # assign a color group\n",
    "    \n",
    "# add movie nodes to the network\n",
    "for _, movie in movie_nodes.sample(mn).iterrows():\n",
    "    GT.add_node(movie[\"title\"], \n",
    "                title = movie[\"title\"][:-2],           # delete subscript from title \n",
    "                size = movie[\"num_revs\"]/ssf,          # make node smaller\n",
    "                year = movie[\"year\"], \n",
    "                rating = movie[\"rating\"],  \n",
    "                group = \"movie\")                       # assign a color group\n",
    "    \n",
    "# add edges to the network\n",
    "for _, edge in edges.iterrows():\n",
    "    # sanity check whether such nodes exist in graph\n",
    "    if (GT.has_node(edge[\"from\"]) and GT.has_node(edge[\"to\"])):\n",
    "        # add the edge to the network\n",
    "        GT.add_edge(edge[\"from\"], edge[\"to\"])\n",
    "        \n",
    "# print statistics\n",
    "rich.print(GT)\n",
    "\n",
    "# count number of nodes in each group\n",
    "u_nodes = 0\n",
    "m_nodes = 0\n",
    "for node in GT.nodes():\n",
    "    if GT.nodes[node][\"group\"] == \"user\":\n",
    "        u_nodes += 1\n",
    "    else:\n",
    "        m_nodes += 1\n",
    "\n",
    "rich.print(f\"Number of user nodes: {u_nodes}\")\n",
    "rich.print(f\"Number of movie nodes: {m_nodes}\")"
   ]
  },
  {
   "cell_type": "markdown",
   "id": "9f0aec97",
   "metadata": {},
   "source": [
    "Network graph generation may take some time. Furthermore following message may appear: \n",
    "\n",
    "<font color='red'>Local cdn resources have problems on chrome/safari when used in jupyter-notebook.</font>\n",
    "\n",
    "This should be ignored. Even though it appears, graph visualisation will appear after a while."
   ]
  },
  {
   "cell_type": "code",
   "execution_count": 44,
   "id": "a24c5718",
   "metadata": {
    "scrolled": false
   },
   "outputs": [
    {
     "name": "stdout",
     "output_type": "stream",
     "text": [
      "Local cdn resources have problems on chrome/safari when used in jupyter-notebook. \n"
     ]
    },
    {
     "data": {
      "text/html": [
       "\n",
       "        <iframe\n",
       "            width=\"900\"\n",
       "            height=\"900\"\n",
       "            src=\"network.html\"\n",
       "            frameborder=\"0\"\n",
       "            allowfullscreen\n",
       "            \n",
       "        ></iframe>\n",
       "        "
      ],
      "text/plain": [
       "<IPython.lib.display.IFrame at 0x2bf266d9580>"
      ]
     },
     "execution_count": 44,
     "metadata": {},
     "output_type": "execute_result"
    }
   ],
   "source": [
    "net = Network(height = 900, width = 900, notebook = True)\n",
    "net.toggle_hide_edges_on_drag(True)\n",
    "net.barnes_hut()\n",
    "net.from_nx(GT)\n",
    "net.show_buttons(filter_=['physics'])\n",
    "net.show(\"network.html\")"
   ]
  }
 ],
 "metadata": {
  "kernelspec": {
   "display_name": "Python [conda env:root] *",
   "language": "python",
   "name": "conda-root-py"
  },
  "language_info": {
   "codemirror_mode": {
    "name": "ipython",
    "version": 3
   },
   "file_extension": ".py",
   "mimetype": "text/x-python",
   "name": "python",
   "nbconvert_exporter": "python",
   "pygments_lexer": "ipython3",
   "version": "3.8.13"
  },
  "toc": {
   "base_numbering": 1,
   "nav_menu": {},
   "number_sections": true,
   "sideBar": true,
   "skip_h1_title": false,
   "title_cell": "Table of Contents",
   "title_sidebar": "Contents",
   "toc_cell": false,
   "toc_position": {},
   "toc_section_display": true,
   "toc_window_display": false
  },
  "varInspector": {
   "cols": {
    "lenName": 16,
    "lenType": 16,
    "lenVar": 40
   },
   "kernels_config": {
    "python": {
     "delete_cmd_postfix": "",
     "delete_cmd_prefix": "del ",
     "library": "var_list.py",
     "varRefreshCmd": "print(var_dic_list())"
    },
    "r": {
     "delete_cmd_postfix": ") ",
     "delete_cmd_prefix": "rm(",
     "library": "var_list.r",
     "varRefreshCmd": "cat(var_dic_list()) "
    }
   },
   "types_to_exclude": [
    "module",
    "function",
    "builtin_function_or_method",
    "instance",
    "_Feature"
   ],
   "window_display": false
  }
 },
 "nbformat": 4,
 "nbformat_minor": 5
}
